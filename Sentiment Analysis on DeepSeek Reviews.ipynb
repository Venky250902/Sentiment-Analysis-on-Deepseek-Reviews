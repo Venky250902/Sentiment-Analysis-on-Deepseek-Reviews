{
  "metadata": {
    "kernelspec": {
      "display_name": "Python 3",
      "name": "python3"
    },
    "language_info": {
      "name": "python",
      "version": "3.10.12",
      "mimetype": "text/x-python",
      "codemirror_mode": {
        "name": "ipython",
        "version": 3
      },
      "pygments_lexer": "ipython3",
      "nbconvert_exporter": "python",
      "file_extension": ".py"
    },
    "kaggle": {
      "accelerator": "gpu",
      "dataSources": [
        {
          "sourceId": 10666670,
          "sourceType": "datasetVersion",
          "datasetId": 6606040
        }
      ],
      "dockerImageVersionId": 30919,
      "isInternetEnabled": true,
      "language": "python",
      "sourceType": "notebook",
      "isGpuEnabled": true
    },
    "colab": {
      "name": "notebookb7b0022d42",
      "provenance": [],
      "gpuType": "T4"
    },
    "accelerator": "GPU",
    "widgets": {
      "application/vnd.jupyter.widget-state+json": {
        "dc232a85460a4f168df43bc704a2b77f": {
          "model_module": "@jupyter-widgets/controls",
          "model_name": "HBoxModel",
          "model_module_version": "1.5.0",
          "state": {
            "_dom_classes": [],
            "_model_module": "@jupyter-widgets/controls",
            "_model_module_version": "1.5.0",
            "_model_name": "HBoxModel",
            "_view_count": null,
            "_view_module": "@jupyter-widgets/controls",
            "_view_module_version": "1.5.0",
            "_view_name": "HBoxView",
            "box_style": "",
            "children": [
              "IPY_MODEL_c147038d40f6489b8dea1873a38920c1",
              "IPY_MODEL_c052cf6845844c06ab9103733dc0e976",
              "IPY_MODEL_a40000e4cc2541a1a7235dfc39c567f7"
            ],
            "layout": "IPY_MODEL_ba21c0efba7f4bd784c58ffb2fe55d03"
          }
        },
        "c147038d40f6489b8dea1873a38920c1": {
          "model_module": "@jupyter-widgets/controls",
          "model_name": "HTMLModel",
          "model_module_version": "1.5.0",
          "state": {
            "_dom_classes": [],
            "_model_module": "@jupyter-widgets/controls",
            "_model_module_version": "1.5.0",
            "_model_name": "HTMLModel",
            "_view_count": null,
            "_view_module": "@jupyter-widgets/controls",
            "_view_module_version": "1.5.0",
            "_view_name": "HTMLView",
            "description": "",
            "description_tooltip": null,
            "layout": "IPY_MODEL_2375c6aa27e0463186f5657d81439e76",
            "placeholder": "​",
            "style": "IPY_MODEL_92091e0abaf5463fb966ee24b77e3088",
            "value": "tokenizer_config.json: 100%"
          }
        },
        "c052cf6845844c06ab9103733dc0e976": {
          "model_module": "@jupyter-widgets/controls",
          "model_name": "FloatProgressModel",
          "model_module_version": "1.5.0",
          "state": {
            "_dom_classes": [],
            "_model_module": "@jupyter-widgets/controls",
            "_model_module_version": "1.5.0",
            "_model_name": "FloatProgressModel",
            "_view_count": null,
            "_view_module": "@jupyter-widgets/controls",
            "_view_module_version": "1.5.0",
            "_view_name": "ProgressView",
            "bar_style": "success",
            "description": "",
            "description_tooltip": null,
            "layout": "IPY_MODEL_9ea8f8b05aa841748753f1a740db9c39",
            "max": 48,
            "min": 0,
            "orientation": "horizontal",
            "style": "IPY_MODEL_6345f0caf8c74f56bfe73f159471f7cb",
            "value": 48
          }
        },
        "a40000e4cc2541a1a7235dfc39c567f7": {
          "model_module": "@jupyter-widgets/controls",
          "model_name": "HTMLModel",
          "model_module_version": "1.5.0",
          "state": {
            "_dom_classes": [],
            "_model_module": "@jupyter-widgets/controls",
            "_model_module_version": "1.5.0",
            "_model_name": "HTMLModel",
            "_view_count": null,
            "_view_module": "@jupyter-widgets/controls",
            "_view_module_version": "1.5.0",
            "_view_name": "HTMLView",
            "description": "",
            "description_tooltip": null,
            "layout": "IPY_MODEL_348214e7b3f34eab9d18d2bd1237f17f",
            "placeholder": "​",
            "style": "IPY_MODEL_d35538ee5edf41c1af3487f8b9293c6a",
            "value": " 48.0/48.0 [00:00&lt;00:00, 1.85kB/s]"
          }
        },
        "ba21c0efba7f4bd784c58ffb2fe55d03": {
          "model_module": "@jupyter-widgets/base",
          "model_name": "LayoutModel",
          "model_module_version": "1.2.0",
          "state": {
            "_model_module": "@jupyter-widgets/base",
            "_model_module_version": "1.2.0",
            "_model_name": "LayoutModel",
            "_view_count": null,
            "_view_module": "@jupyter-widgets/base",
            "_view_module_version": "1.2.0",
            "_view_name": "LayoutView",
            "align_content": null,
            "align_items": null,
            "align_self": null,
            "border": null,
            "bottom": null,
            "display": null,
            "flex": null,
            "flex_flow": null,
            "grid_area": null,
            "grid_auto_columns": null,
            "grid_auto_flow": null,
            "grid_auto_rows": null,
            "grid_column": null,
            "grid_gap": null,
            "grid_row": null,
            "grid_template_areas": null,
            "grid_template_columns": null,
            "grid_template_rows": null,
            "height": null,
            "justify_content": null,
            "justify_items": null,
            "left": null,
            "margin": null,
            "max_height": null,
            "max_width": null,
            "min_height": null,
            "min_width": null,
            "object_fit": null,
            "object_position": null,
            "order": null,
            "overflow": null,
            "overflow_x": null,
            "overflow_y": null,
            "padding": null,
            "right": null,
            "top": null,
            "visibility": null,
            "width": null
          }
        },
        "2375c6aa27e0463186f5657d81439e76": {
          "model_module": "@jupyter-widgets/base",
          "model_name": "LayoutModel",
          "model_module_version": "1.2.0",
          "state": {
            "_model_module": "@jupyter-widgets/base",
            "_model_module_version": "1.2.0",
            "_model_name": "LayoutModel",
            "_view_count": null,
            "_view_module": "@jupyter-widgets/base",
            "_view_module_version": "1.2.0",
            "_view_name": "LayoutView",
            "align_content": null,
            "align_items": null,
            "align_self": null,
            "border": null,
            "bottom": null,
            "display": null,
            "flex": null,
            "flex_flow": null,
            "grid_area": null,
            "grid_auto_columns": null,
            "grid_auto_flow": null,
            "grid_auto_rows": null,
            "grid_column": null,
            "grid_gap": null,
            "grid_row": null,
            "grid_template_areas": null,
            "grid_template_columns": null,
            "grid_template_rows": null,
            "height": null,
            "justify_content": null,
            "justify_items": null,
            "left": null,
            "margin": null,
            "max_height": null,
            "max_width": null,
            "min_height": null,
            "min_width": null,
            "object_fit": null,
            "object_position": null,
            "order": null,
            "overflow": null,
            "overflow_x": null,
            "overflow_y": null,
            "padding": null,
            "right": null,
            "top": null,
            "visibility": null,
            "width": null
          }
        },
        "92091e0abaf5463fb966ee24b77e3088": {
          "model_module": "@jupyter-widgets/controls",
          "model_name": "DescriptionStyleModel",
          "model_module_version": "1.5.0",
          "state": {
            "_model_module": "@jupyter-widgets/controls",
            "_model_module_version": "1.5.0",
            "_model_name": "DescriptionStyleModel",
            "_view_count": null,
            "_view_module": "@jupyter-widgets/base",
            "_view_module_version": "1.2.0",
            "_view_name": "StyleView",
            "description_width": ""
          }
        },
        "9ea8f8b05aa841748753f1a740db9c39": {
          "model_module": "@jupyter-widgets/base",
          "model_name": "LayoutModel",
          "model_module_version": "1.2.0",
          "state": {
            "_model_module": "@jupyter-widgets/base",
            "_model_module_version": "1.2.0",
            "_model_name": "LayoutModel",
            "_view_count": null,
            "_view_module": "@jupyter-widgets/base",
            "_view_module_version": "1.2.0",
            "_view_name": "LayoutView",
            "align_content": null,
            "align_items": null,
            "align_self": null,
            "border": null,
            "bottom": null,
            "display": null,
            "flex": null,
            "flex_flow": null,
            "grid_area": null,
            "grid_auto_columns": null,
            "grid_auto_flow": null,
            "grid_auto_rows": null,
            "grid_column": null,
            "grid_gap": null,
            "grid_row": null,
            "grid_template_areas": null,
            "grid_template_columns": null,
            "grid_template_rows": null,
            "height": null,
            "justify_content": null,
            "justify_items": null,
            "left": null,
            "margin": null,
            "max_height": null,
            "max_width": null,
            "min_height": null,
            "min_width": null,
            "object_fit": null,
            "object_position": null,
            "order": null,
            "overflow": null,
            "overflow_x": null,
            "overflow_y": null,
            "padding": null,
            "right": null,
            "top": null,
            "visibility": null,
            "width": null
          }
        },
        "6345f0caf8c74f56bfe73f159471f7cb": {
          "model_module": "@jupyter-widgets/controls",
          "model_name": "ProgressStyleModel",
          "model_module_version": "1.5.0",
          "state": {
            "_model_module": "@jupyter-widgets/controls",
            "_model_module_version": "1.5.0",
            "_model_name": "ProgressStyleModel",
            "_view_count": null,
            "_view_module": "@jupyter-widgets/base",
            "_view_module_version": "1.2.0",
            "_view_name": "StyleView",
            "bar_color": null,
            "description_width": ""
          }
        },
        "348214e7b3f34eab9d18d2bd1237f17f": {
          "model_module": "@jupyter-widgets/base",
          "model_name": "LayoutModel",
          "model_module_version": "1.2.0",
          "state": {
            "_model_module": "@jupyter-widgets/base",
            "_model_module_version": "1.2.0",
            "_model_name": "LayoutModel",
            "_view_count": null,
            "_view_module": "@jupyter-widgets/base",
            "_view_module_version": "1.2.0",
            "_view_name": "LayoutView",
            "align_content": null,
            "align_items": null,
            "align_self": null,
            "border": null,
            "bottom": null,
            "display": null,
            "flex": null,
            "flex_flow": null,
            "grid_area": null,
            "grid_auto_columns": null,
            "grid_auto_flow": null,
            "grid_auto_rows": null,
            "grid_column": null,
            "grid_gap": null,
            "grid_row": null,
            "grid_template_areas": null,
            "grid_template_columns": null,
            "grid_template_rows": null,
            "height": null,
            "justify_content": null,
            "justify_items": null,
            "left": null,
            "margin": null,
            "max_height": null,
            "max_width": null,
            "min_height": null,
            "min_width": null,
            "object_fit": null,
            "object_position": null,
            "order": null,
            "overflow": null,
            "overflow_x": null,
            "overflow_y": null,
            "padding": null,
            "right": null,
            "top": null,
            "visibility": null,
            "width": null
          }
        },
        "d35538ee5edf41c1af3487f8b9293c6a": {
          "model_module": "@jupyter-widgets/controls",
          "model_name": "DescriptionStyleModel",
          "model_module_version": "1.5.0",
          "state": {
            "_model_module": "@jupyter-widgets/controls",
            "_model_module_version": "1.5.0",
            "_model_name": "DescriptionStyleModel",
            "_view_count": null,
            "_view_module": "@jupyter-widgets/base",
            "_view_module_version": "1.2.0",
            "_view_name": "StyleView",
            "description_width": ""
          }
        },
        "75bc31f50caa488ba25174e48eb586f8": {
          "model_module": "@jupyter-widgets/controls",
          "model_name": "HBoxModel",
          "model_module_version": "1.5.0",
          "state": {
            "_dom_classes": [],
            "_model_module": "@jupyter-widgets/controls",
            "_model_module_version": "1.5.0",
            "_model_name": "HBoxModel",
            "_view_count": null,
            "_view_module": "@jupyter-widgets/controls",
            "_view_module_version": "1.5.0",
            "_view_name": "HBoxView",
            "box_style": "",
            "children": [
              "IPY_MODEL_caf5735e229d457abdb973035da04679",
              "IPY_MODEL_e6094fb8110840d7997ed13b6d0515e9",
              "IPY_MODEL_2c0795f6e2a44d8d8f76103cb8d81abf"
            ],
            "layout": "IPY_MODEL_e59f96e3834b409fb042ba4ccac601fc"
          }
        },
        "caf5735e229d457abdb973035da04679": {
          "model_module": "@jupyter-widgets/controls",
          "model_name": "HTMLModel",
          "model_module_version": "1.5.0",
          "state": {
            "_dom_classes": [],
            "_model_module": "@jupyter-widgets/controls",
            "_model_module_version": "1.5.0",
            "_model_name": "HTMLModel",
            "_view_count": null,
            "_view_module": "@jupyter-widgets/controls",
            "_view_module_version": "1.5.0",
            "_view_name": "HTMLView",
            "description": "",
            "description_tooltip": null,
            "layout": "IPY_MODEL_c1d3d7f9b9714861ae27da4c4817a63f",
            "placeholder": "​",
            "style": "IPY_MODEL_d822d3de08e94dcdb86d3341c83dd91f",
            "value": "vocab.txt: 100%"
          }
        },
        "e6094fb8110840d7997ed13b6d0515e9": {
          "model_module": "@jupyter-widgets/controls",
          "model_name": "FloatProgressModel",
          "model_module_version": "1.5.0",
          "state": {
            "_dom_classes": [],
            "_model_module": "@jupyter-widgets/controls",
            "_model_module_version": "1.5.0",
            "_model_name": "FloatProgressModel",
            "_view_count": null,
            "_view_module": "@jupyter-widgets/controls",
            "_view_module_version": "1.5.0",
            "_view_name": "ProgressView",
            "bar_style": "success",
            "description": "",
            "description_tooltip": null,
            "layout": "IPY_MODEL_cc22087d8b7b4e36874d27024db57cb8",
            "max": 231508,
            "min": 0,
            "orientation": "horizontal",
            "style": "IPY_MODEL_87202633601b48a381eb2aa3bc589c75",
            "value": 231508
          }
        },
        "2c0795f6e2a44d8d8f76103cb8d81abf": {
          "model_module": "@jupyter-widgets/controls",
          "model_name": "HTMLModel",
          "model_module_version": "1.5.0",
          "state": {
            "_dom_classes": [],
            "_model_module": "@jupyter-widgets/controls",
            "_model_module_version": "1.5.0",
            "_model_name": "HTMLModel",
            "_view_count": null,
            "_view_module": "@jupyter-widgets/controls",
            "_view_module_version": "1.5.0",
            "_view_name": "HTMLView",
            "description": "",
            "description_tooltip": null,
            "layout": "IPY_MODEL_d7c2dfb8953446f9acdf13c7166954f1",
            "placeholder": "​",
            "style": "IPY_MODEL_b37c8767ebbd46688518fedb70480f32",
            "value": " 232k/232k [00:00&lt;00:00, 2.84MB/s]"
          }
        },
        "e59f96e3834b409fb042ba4ccac601fc": {
          "model_module": "@jupyter-widgets/base",
          "model_name": "LayoutModel",
          "model_module_version": "1.2.0",
          "state": {
            "_model_module": "@jupyter-widgets/base",
            "_model_module_version": "1.2.0",
            "_model_name": "LayoutModel",
            "_view_count": null,
            "_view_module": "@jupyter-widgets/base",
            "_view_module_version": "1.2.0",
            "_view_name": "LayoutView",
            "align_content": null,
            "align_items": null,
            "align_self": null,
            "border": null,
            "bottom": null,
            "display": null,
            "flex": null,
            "flex_flow": null,
            "grid_area": null,
            "grid_auto_columns": null,
            "grid_auto_flow": null,
            "grid_auto_rows": null,
            "grid_column": null,
            "grid_gap": null,
            "grid_row": null,
            "grid_template_areas": null,
            "grid_template_columns": null,
            "grid_template_rows": null,
            "height": null,
            "justify_content": null,
            "justify_items": null,
            "left": null,
            "margin": null,
            "max_height": null,
            "max_width": null,
            "min_height": null,
            "min_width": null,
            "object_fit": null,
            "object_position": null,
            "order": null,
            "overflow": null,
            "overflow_x": null,
            "overflow_y": null,
            "padding": null,
            "right": null,
            "top": null,
            "visibility": null,
            "width": null
          }
        },
        "c1d3d7f9b9714861ae27da4c4817a63f": {
          "model_module": "@jupyter-widgets/base",
          "model_name": "LayoutModel",
          "model_module_version": "1.2.0",
          "state": {
            "_model_module": "@jupyter-widgets/base",
            "_model_module_version": "1.2.0",
            "_model_name": "LayoutModel",
            "_view_count": null,
            "_view_module": "@jupyter-widgets/base",
            "_view_module_version": "1.2.0",
            "_view_name": "LayoutView",
            "align_content": null,
            "align_items": null,
            "align_self": null,
            "border": null,
            "bottom": null,
            "display": null,
            "flex": null,
            "flex_flow": null,
            "grid_area": null,
            "grid_auto_columns": null,
            "grid_auto_flow": null,
            "grid_auto_rows": null,
            "grid_column": null,
            "grid_gap": null,
            "grid_row": null,
            "grid_template_areas": null,
            "grid_template_columns": null,
            "grid_template_rows": null,
            "height": null,
            "justify_content": null,
            "justify_items": null,
            "left": null,
            "margin": null,
            "max_height": null,
            "max_width": null,
            "min_height": null,
            "min_width": null,
            "object_fit": null,
            "object_position": null,
            "order": null,
            "overflow": null,
            "overflow_x": null,
            "overflow_y": null,
            "padding": null,
            "right": null,
            "top": null,
            "visibility": null,
            "width": null
          }
        },
        "d822d3de08e94dcdb86d3341c83dd91f": {
          "model_module": "@jupyter-widgets/controls",
          "model_name": "DescriptionStyleModel",
          "model_module_version": "1.5.0",
          "state": {
            "_model_module": "@jupyter-widgets/controls",
            "_model_module_version": "1.5.0",
            "_model_name": "DescriptionStyleModel",
            "_view_count": null,
            "_view_module": "@jupyter-widgets/base",
            "_view_module_version": "1.2.0",
            "_view_name": "StyleView",
            "description_width": ""
          }
        },
        "cc22087d8b7b4e36874d27024db57cb8": {
          "model_module": "@jupyter-widgets/base",
          "model_name": "LayoutModel",
          "model_module_version": "1.2.0",
          "state": {
            "_model_module": "@jupyter-widgets/base",
            "_model_module_version": "1.2.0",
            "_model_name": "LayoutModel",
            "_view_count": null,
            "_view_module": "@jupyter-widgets/base",
            "_view_module_version": "1.2.0",
            "_view_name": "LayoutView",
            "align_content": null,
            "align_items": null,
            "align_self": null,
            "border": null,
            "bottom": null,
            "display": null,
            "flex": null,
            "flex_flow": null,
            "grid_area": null,
            "grid_auto_columns": null,
            "grid_auto_flow": null,
            "grid_auto_rows": null,
            "grid_column": null,
            "grid_gap": null,
            "grid_row": null,
            "grid_template_areas": null,
            "grid_template_columns": null,
            "grid_template_rows": null,
            "height": null,
            "justify_content": null,
            "justify_items": null,
            "left": null,
            "margin": null,
            "max_height": null,
            "max_width": null,
            "min_height": null,
            "min_width": null,
            "object_fit": null,
            "object_position": null,
            "order": null,
            "overflow": null,
            "overflow_x": null,
            "overflow_y": null,
            "padding": null,
            "right": null,
            "top": null,
            "visibility": null,
            "width": null
          }
        },
        "87202633601b48a381eb2aa3bc589c75": {
          "model_module": "@jupyter-widgets/controls",
          "model_name": "ProgressStyleModel",
          "model_module_version": "1.5.0",
          "state": {
            "_model_module": "@jupyter-widgets/controls",
            "_model_module_version": "1.5.0",
            "_model_name": "ProgressStyleModel",
            "_view_count": null,
            "_view_module": "@jupyter-widgets/base",
            "_view_module_version": "1.2.0",
            "_view_name": "StyleView",
            "bar_color": null,
            "description_width": ""
          }
        },
        "d7c2dfb8953446f9acdf13c7166954f1": {
          "model_module": "@jupyter-widgets/base",
          "model_name": "LayoutModel",
          "model_module_version": "1.2.0",
          "state": {
            "_model_module": "@jupyter-widgets/base",
            "_model_module_version": "1.2.0",
            "_model_name": "LayoutModel",
            "_view_count": null,
            "_view_module": "@jupyter-widgets/base",
            "_view_module_version": "1.2.0",
            "_view_name": "LayoutView",
            "align_content": null,
            "align_items": null,
            "align_self": null,
            "border": null,
            "bottom": null,
            "display": null,
            "flex": null,
            "flex_flow": null,
            "grid_area": null,
            "grid_auto_columns": null,
            "grid_auto_flow": null,
            "grid_auto_rows": null,
            "grid_column": null,
            "grid_gap": null,
            "grid_row": null,
            "grid_template_areas": null,
            "grid_template_columns": null,
            "grid_template_rows": null,
            "height": null,
            "justify_content": null,
            "justify_items": null,
            "left": null,
            "margin": null,
            "max_height": null,
            "max_width": null,
            "min_height": null,
            "min_width": null,
            "object_fit": null,
            "object_position": null,
            "order": null,
            "overflow": null,
            "overflow_x": null,
            "overflow_y": null,
            "padding": null,
            "right": null,
            "top": null,
            "visibility": null,
            "width": null
          }
        },
        "b37c8767ebbd46688518fedb70480f32": {
          "model_module": "@jupyter-widgets/controls",
          "model_name": "DescriptionStyleModel",
          "model_module_version": "1.5.0",
          "state": {
            "_model_module": "@jupyter-widgets/controls",
            "_model_module_version": "1.5.0",
            "_model_name": "DescriptionStyleModel",
            "_view_count": null,
            "_view_module": "@jupyter-widgets/base",
            "_view_module_version": "1.2.0",
            "_view_name": "StyleView",
            "description_width": ""
          }
        },
        "0d5eccb74d864aaa94e40f05e51f7bae": {
          "model_module": "@jupyter-widgets/controls",
          "model_name": "HBoxModel",
          "model_module_version": "1.5.0",
          "state": {
            "_dom_classes": [],
            "_model_module": "@jupyter-widgets/controls",
            "_model_module_version": "1.5.0",
            "_model_name": "HBoxModel",
            "_view_count": null,
            "_view_module": "@jupyter-widgets/controls",
            "_view_module_version": "1.5.0",
            "_view_name": "HBoxView",
            "box_style": "",
            "children": [
              "IPY_MODEL_ba150c2ad905473389c15225a61aee86",
              "IPY_MODEL_75ce937a8dc0463ab801e4df25a567c8",
              "IPY_MODEL_4b5c913822fc4051bdc83a68ae36635c"
            ],
            "layout": "IPY_MODEL_5a59091d9e2a4816978669a2baf33735"
          }
        },
        "ba150c2ad905473389c15225a61aee86": {
          "model_module": "@jupyter-widgets/controls",
          "model_name": "HTMLModel",
          "model_module_version": "1.5.0",
          "state": {
            "_dom_classes": [],
            "_model_module": "@jupyter-widgets/controls",
            "_model_module_version": "1.5.0",
            "_model_name": "HTMLModel",
            "_view_count": null,
            "_view_module": "@jupyter-widgets/controls",
            "_view_module_version": "1.5.0",
            "_view_name": "HTMLView",
            "description": "",
            "description_tooltip": null,
            "layout": "IPY_MODEL_d11da806e71045798c1dd87d4875a936",
            "placeholder": "​",
            "style": "IPY_MODEL_ca25f25a5d764d378cf0588f0e31701d",
            "value": "tokenizer.json: 100%"
          }
        },
        "75ce937a8dc0463ab801e4df25a567c8": {
          "model_module": "@jupyter-widgets/controls",
          "model_name": "FloatProgressModel",
          "model_module_version": "1.5.0",
          "state": {
            "_dom_classes": [],
            "_model_module": "@jupyter-widgets/controls",
            "_model_module_version": "1.5.0",
            "_model_name": "FloatProgressModel",
            "_view_count": null,
            "_view_module": "@jupyter-widgets/controls",
            "_view_module_version": "1.5.0",
            "_view_name": "ProgressView",
            "bar_style": "success",
            "description": "",
            "description_tooltip": null,
            "layout": "IPY_MODEL_1773a8bcdb1f4a54a09c23a2c929cd54",
            "max": 466062,
            "min": 0,
            "orientation": "horizontal",
            "style": "IPY_MODEL_6f657d23350547909bd3091ed2d41e63",
            "value": 466062
          }
        },
        "4b5c913822fc4051bdc83a68ae36635c": {
          "model_module": "@jupyter-widgets/controls",
          "model_name": "HTMLModel",
          "model_module_version": "1.5.0",
          "state": {
            "_dom_classes": [],
            "_model_module": "@jupyter-widgets/controls",
            "_model_module_version": "1.5.0",
            "_model_name": "HTMLModel",
            "_view_count": null,
            "_view_module": "@jupyter-widgets/controls",
            "_view_module_version": "1.5.0",
            "_view_name": "HTMLView",
            "description": "",
            "description_tooltip": null,
            "layout": "IPY_MODEL_84d311812d7e4cc8a5a6c57ba3e30986",
            "placeholder": "​",
            "style": "IPY_MODEL_6f261ddc834b4c19984e32093130a5c0",
            "value": " 466k/466k [00:00&lt;00:00, 3.52MB/s]"
          }
        },
        "5a59091d9e2a4816978669a2baf33735": {
          "model_module": "@jupyter-widgets/base",
          "model_name": "LayoutModel",
          "model_module_version": "1.2.0",
          "state": {
            "_model_module": "@jupyter-widgets/base",
            "_model_module_version": "1.2.0",
            "_model_name": "LayoutModel",
            "_view_count": null,
            "_view_module": "@jupyter-widgets/base",
            "_view_module_version": "1.2.0",
            "_view_name": "LayoutView",
            "align_content": null,
            "align_items": null,
            "align_self": null,
            "border": null,
            "bottom": null,
            "display": null,
            "flex": null,
            "flex_flow": null,
            "grid_area": null,
            "grid_auto_columns": null,
            "grid_auto_flow": null,
            "grid_auto_rows": null,
            "grid_column": null,
            "grid_gap": null,
            "grid_row": null,
            "grid_template_areas": null,
            "grid_template_columns": null,
            "grid_template_rows": null,
            "height": null,
            "justify_content": null,
            "justify_items": null,
            "left": null,
            "margin": null,
            "max_height": null,
            "max_width": null,
            "min_height": null,
            "min_width": null,
            "object_fit": null,
            "object_position": null,
            "order": null,
            "overflow": null,
            "overflow_x": null,
            "overflow_y": null,
            "padding": null,
            "right": null,
            "top": null,
            "visibility": null,
            "width": null
          }
        },
        "d11da806e71045798c1dd87d4875a936": {
          "model_module": "@jupyter-widgets/base",
          "model_name": "LayoutModel",
          "model_module_version": "1.2.0",
          "state": {
            "_model_module": "@jupyter-widgets/base",
            "_model_module_version": "1.2.0",
            "_model_name": "LayoutModel",
            "_view_count": null,
            "_view_module": "@jupyter-widgets/base",
            "_view_module_version": "1.2.0",
            "_view_name": "LayoutView",
            "align_content": null,
            "align_items": null,
            "align_self": null,
            "border": null,
            "bottom": null,
            "display": null,
            "flex": null,
            "flex_flow": null,
            "grid_area": null,
            "grid_auto_columns": null,
            "grid_auto_flow": null,
            "grid_auto_rows": null,
            "grid_column": null,
            "grid_gap": null,
            "grid_row": null,
            "grid_template_areas": null,
            "grid_template_columns": null,
            "grid_template_rows": null,
            "height": null,
            "justify_content": null,
            "justify_items": null,
            "left": null,
            "margin": null,
            "max_height": null,
            "max_width": null,
            "min_height": null,
            "min_width": null,
            "object_fit": null,
            "object_position": null,
            "order": null,
            "overflow": null,
            "overflow_x": null,
            "overflow_y": null,
            "padding": null,
            "right": null,
            "top": null,
            "visibility": null,
            "width": null
          }
        },
        "ca25f25a5d764d378cf0588f0e31701d": {
          "model_module": "@jupyter-widgets/controls",
          "model_name": "DescriptionStyleModel",
          "model_module_version": "1.5.0",
          "state": {
            "_model_module": "@jupyter-widgets/controls",
            "_model_module_version": "1.5.0",
            "_model_name": "DescriptionStyleModel",
            "_view_count": null,
            "_view_module": "@jupyter-widgets/base",
            "_view_module_version": "1.2.0",
            "_view_name": "StyleView",
            "description_width": ""
          }
        },
        "1773a8bcdb1f4a54a09c23a2c929cd54": {
          "model_module": "@jupyter-widgets/base",
          "model_name": "LayoutModel",
          "model_module_version": "1.2.0",
          "state": {
            "_model_module": "@jupyter-widgets/base",
            "_model_module_version": "1.2.0",
            "_model_name": "LayoutModel",
            "_view_count": null,
            "_view_module": "@jupyter-widgets/base",
            "_view_module_version": "1.2.0",
            "_view_name": "LayoutView",
            "align_content": null,
            "align_items": null,
            "align_self": null,
            "border": null,
            "bottom": null,
            "display": null,
            "flex": null,
            "flex_flow": null,
            "grid_area": null,
            "grid_auto_columns": null,
            "grid_auto_flow": null,
            "grid_auto_rows": null,
            "grid_column": null,
            "grid_gap": null,
            "grid_row": null,
            "grid_template_areas": null,
            "grid_template_columns": null,
            "grid_template_rows": null,
            "height": null,
            "justify_content": null,
            "justify_items": null,
            "left": null,
            "margin": null,
            "max_height": null,
            "max_width": null,
            "min_height": null,
            "min_width": null,
            "object_fit": null,
            "object_position": null,
            "order": null,
            "overflow": null,
            "overflow_x": null,
            "overflow_y": null,
            "padding": null,
            "right": null,
            "top": null,
            "visibility": null,
            "width": null
          }
        },
        "6f657d23350547909bd3091ed2d41e63": {
          "model_module": "@jupyter-widgets/controls",
          "model_name": "ProgressStyleModel",
          "model_module_version": "1.5.0",
          "state": {
            "_model_module": "@jupyter-widgets/controls",
            "_model_module_version": "1.5.0",
            "_model_name": "ProgressStyleModel",
            "_view_count": null,
            "_view_module": "@jupyter-widgets/base",
            "_view_module_version": "1.2.0",
            "_view_name": "StyleView",
            "bar_color": null,
            "description_width": ""
          }
        },
        "84d311812d7e4cc8a5a6c57ba3e30986": {
          "model_module": "@jupyter-widgets/base",
          "model_name": "LayoutModel",
          "model_module_version": "1.2.0",
          "state": {
            "_model_module": "@jupyter-widgets/base",
            "_model_module_version": "1.2.0",
            "_model_name": "LayoutModel",
            "_view_count": null,
            "_view_module": "@jupyter-widgets/base",
            "_view_module_version": "1.2.0",
            "_view_name": "LayoutView",
            "align_content": null,
            "align_items": null,
            "align_self": null,
            "border": null,
            "bottom": null,
            "display": null,
            "flex": null,
            "flex_flow": null,
            "grid_area": null,
            "grid_auto_columns": null,
            "grid_auto_flow": null,
            "grid_auto_rows": null,
            "grid_column": null,
            "grid_gap": null,
            "grid_row": null,
            "grid_template_areas": null,
            "grid_template_columns": null,
            "grid_template_rows": null,
            "height": null,
            "justify_content": null,
            "justify_items": null,
            "left": null,
            "margin": null,
            "max_height": null,
            "max_width": null,
            "min_height": null,
            "min_width": null,
            "object_fit": null,
            "object_position": null,
            "order": null,
            "overflow": null,
            "overflow_x": null,
            "overflow_y": null,
            "padding": null,
            "right": null,
            "top": null,
            "visibility": null,
            "width": null
          }
        },
        "6f261ddc834b4c19984e32093130a5c0": {
          "model_module": "@jupyter-widgets/controls",
          "model_name": "DescriptionStyleModel",
          "model_module_version": "1.5.0",
          "state": {
            "_model_module": "@jupyter-widgets/controls",
            "_model_module_version": "1.5.0",
            "_model_name": "DescriptionStyleModel",
            "_view_count": null,
            "_view_module": "@jupyter-widgets/base",
            "_view_module_version": "1.2.0",
            "_view_name": "StyleView",
            "description_width": ""
          }
        },
        "1ac9d3cfec93416280fc28a4d707f914": {
          "model_module": "@jupyter-widgets/controls",
          "model_name": "HBoxModel",
          "model_module_version": "1.5.0",
          "state": {
            "_dom_classes": [],
            "_model_module": "@jupyter-widgets/controls",
            "_model_module_version": "1.5.0",
            "_model_name": "HBoxModel",
            "_view_count": null,
            "_view_module": "@jupyter-widgets/controls",
            "_view_module_version": "1.5.0",
            "_view_name": "HBoxView",
            "box_style": "",
            "children": [
              "IPY_MODEL_26294827c08e4d97a6be3370187870b0",
              "IPY_MODEL_089cab6e838f47c4812eb4116b415e84",
              "IPY_MODEL_0f61246a749f47248dacc60b4bc39bf5"
            ],
            "layout": "IPY_MODEL_3241ece1a5364a63ab967dc338ec048e"
          }
        },
        "26294827c08e4d97a6be3370187870b0": {
          "model_module": "@jupyter-widgets/controls",
          "model_name": "HTMLModel",
          "model_module_version": "1.5.0",
          "state": {
            "_dom_classes": [],
            "_model_module": "@jupyter-widgets/controls",
            "_model_module_version": "1.5.0",
            "_model_name": "HTMLModel",
            "_view_count": null,
            "_view_module": "@jupyter-widgets/controls",
            "_view_module_version": "1.5.0",
            "_view_name": "HTMLView",
            "description": "",
            "description_tooltip": null,
            "layout": "IPY_MODEL_6c90bda8ceb9498c816416ff5ab5b585",
            "placeholder": "​",
            "style": "IPY_MODEL_ad0a31eb28c64eb1a4c707e2b18addb6",
            "value": "config.json: 100%"
          }
        },
        "089cab6e838f47c4812eb4116b415e84": {
          "model_module": "@jupyter-widgets/controls",
          "model_name": "FloatProgressModel",
          "model_module_version": "1.5.0",
          "state": {
            "_dom_classes": [],
            "_model_module": "@jupyter-widgets/controls",
            "_model_module_version": "1.5.0",
            "_model_name": "FloatProgressModel",
            "_view_count": null,
            "_view_module": "@jupyter-widgets/controls",
            "_view_module_version": "1.5.0",
            "_view_name": "ProgressView",
            "bar_style": "success",
            "description": "",
            "description_tooltip": null,
            "layout": "IPY_MODEL_6b6744f1f47f4bb09c52e5dbc9963cb7",
            "max": 483,
            "min": 0,
            "orientation": "horizontal",
            "style": "IPY_MODEL_ce93ba5ccbfc42dea9fe4164ebbf84e3",
            "value": 483
          }
        },
        "0f61246a749f47248dacc60b4bc39bf5": {
          "model_module": "@jupyter-widgets/controls",
          "model_name": "HTMLModel",
          "model_module_version": "1.5.0",
          "state": {
            "_dom_classes": [],
            "_model_module": "@jupyter-widgets/controls",
            "_model_module_version": "1.5.0",
            "_model_name": "HTMLModel",
            "_view_count": null,
            "_view_module": "@jupyter-widgets/controls",
            "_view_module_version": "1.5.0",
            "_view_name": "HTMLView",
            "description": "",
            "description_tooltip": null,
            "layout": "IPY_MODEL_fdc3f7e7e33e42f48b9177d316c4ad9b",
            "placeholder": "​",
            "style": "IPY_MODEL_92030936deec4732841876c562fff0fb",
            "value": " 483/483 [00:00&lt;00:00, 13.0kB/s]"
          }
        },
        "3241ece1a5364a63ab967dc338ec048e": {
          "model_module": "@jupyter-widgets/base",
          "model_name": "LayoutModel",
          "model_module_version": "1.2.0",
          "state": {
            "_model_module": "@jupyter-widgets/base",
            "_model_module_version": "1.2.0",
            "_model_name": "LayoutModel",
            "_view_count": null,
            "_view_module": "@jupyter-widgets/base",
            "_view_module_version": "1.2.0",
            "_view_name": "LayoutView",
            "align_content": null,
            "align_items": null,
            "align_self": null,
            "border": null,
            "bottom": null,
            "display": null,
            "flex": null,
            "flex_flow": null,
            "grid_area": null,
            "grid_auto_columns": null,
            "grid_auto_flow": null,
            "grid_auto_rows": null,
            "grid_column": null,
            "grid_gap": null,
            "grid_row": null,
            "grid_template_areas": null,
            "grid_template_columns": null,
            "grid_template_rows": null,
            "height": null,
            "justify_content": null,
            "justify_items": null,
            "left": null,
            "margin": null,
            "max_height": null,
            "max_width": null,
            "min_height": null,
            "min_width": null,
            "object_fit": null,
            "object_position": null,
            "order": null,
            "overflow": null,
            "overflow_x": null,
            "overflow_y": null,
            "padding": null,
            "right": null,
            "top": null,
            "visibility": null,
            "width": null
          }
        },
        "6c90bda8ceb9498c816416ff5ab5b585": {
          "model_module": "@jupyter-widgets/base",
          "model_name": "LayoutModel",
          "model_module_version": "1.2.0",
          "state": {
            "_model_module": "@jupyter-widgets/base",
            "_model_module_version": "1.2.0",
            "_model_name": "LayoutModel",
            "_view_count": null,
            "_view_module": "@jupyter-widgets/base",
            "_view_module_version": "1.2.0",
            "_view_name": "LayoutView",
            "align_content": null,
            "align_items": null,
            "align_self": null,
            "border": null,
            "bottom": null,
            "display": null,
            "flex": null,
            "flex_flow": null,
            "grid_area": null,
            "grid_auto_columns": null,
            "grid_auto_flow": null,
            "grid_auto_rows": null,
            "grid_column": null,
            "grid_gap": null,
            "grid_row": null,
            "grid_template_areas": null,
            "grid_template_columns": null,
            "grid_template_rows": null,
            "height": null,
            "justify_content": null,
            "justify_items": null,
            "left": null,
            "margin": null,
            "max_height": null,
            "max_width": null,
            "min_height": null,
            "min_width": null,
            "object_fit": null,
            "object_position": null,
            "order": null,
            "overflow": null,
            "overflow_x": null,
            "overflow_y": null,
            "padding": null,
            "right": null,
            "top": null,
            "visibility": null,
            "width": null
          }
        },
        "ad0a31eb28c64eb1a4c707e2b18addb6": {
          "model_module": "@jupyter-widgets/controls",
          "model_name": "DescriptionStyleModel",
          "model_module_version": "1.5.0",
          "state": {
            "_model_module": "@jupyter-widgets/controls",
            "_model_module_version": "1.5.0",
            "_model_name": "DescriptionStyleModel",
            "_view_count": null,
            "_view_module": "@jupyter-widgets/base",
            "_view_module_version": "1.2.0",
            "_view_name": "StyleView",
            "description_width": ""
          }
        },
        "6b6744f1f47f4bb09c52e5dbc9963cb7": {
          "model_module": "@jupyter-widgets/base",
          "model_name": "LayoutModel",
          "model_module_version": "1.2.0",
          "state": {
            "_model_module": "@jupyter-widgets/base",
            "_model_module_version": "1.2.0",
            "_model_name": "LayoutModel",
            "_view_count": null,
            "_view_module": "@jupyter-widgets/base",
            "_view_module_version": "1.2.0",
            "_view_name": "LayoutView",
            "align_content": null,
            "align_items": null,
            "align_self": null,
            "border": null,
            "bottom": null,
            "display": null,
            "flex": null,
            "flex_flow": null,
            "grid_area": null,
            "grid_auto_columns": null,
            "grid_auto_flow": null,
            "grid_auto_rows": null,
            "grid_column": null,
            "grid_gap": null,
            "grid_row": null,
            "grid_template_areas": null,
            "grid_template_columns": null,
            "grid_template_rows": null,
            "height": null,
            "justify_content": null,
            "justify_items": null,
            "left": null,
            "margin": null,
            "max_height": null,
            "max_width": null,
            "min_height": null,
            "min_width": null,
            "object_fit": null,
            "object_position": null,
            "order": null,
            "overflow": null,
            "overflow_x": null,
            "overflow_y": null,
            "padding": null,
            "right": null,
            "top": null,
            "visibility": null,
            "width": null
          }
        },
        "ce93ba5ccbfc42dea9fe4164ebbf84e3": {
          "model_module": "@jupyter-widgets/controls",
          "model_name": "ProgressStyleModel",
          "model_module_version": "1.5.0",
          "state": {
            "_model_module": "@jupyter-widgets/controls",
            "_model_module_version": "1.5.0",
            "_model_name": "ProgressStyleModel",
            "_view_count": null,
            "_view_module": "@jupyter-widgets/base",
            "_view_module_version": "1.2.0",
            "_view_name": "StyleView",
            "bar_color": null,
            "description_width": ""
          }
        },
        "fdc3f7e7e33e42f48b9177d316c4ad9b": {
          "model_module": "@jupyter-widgets/base",
          "model_name": "LayoutModel",
          "model_module_version": "1.2.0",
          "state": {
            "_model_module": "@jupyter-widgets/base",
            "_model_module_version": "1.2.0",
            "_model_name": "LayoutModel",
            "_view_count": null,
            "_view_module": "@jupyter-widgets/base",
            "_view_module_version": "1.2.0",
            "_view_name": "LayoutView",
            "align_content": null,
            "align_items": null,
            "align_self": null,
            "border": null,
            "bottom": null,
            "display": null,
            "flex": null,
            "flex_flow": null,
            "grid_area": null,
            "grid_auto_columns": null,
            "grid_auto_flow": null,
            "grid_auto_rows": null,
            "grid_column": null,
            "grid_gap": null,
            "grid_row": null,
            "grid_template_areas": null,
            "grid_template_columns": null,
            "grid_template_rows": null,
            "height": null,
            "justify_content": null,
            "justify_items": null,
            "left": null,
            "margin": null,
            "max_height": null,
            "max_width": null,
            "min_height": null,
            "min_width": null,
            "object_fit": null,
            "object_position": null,
            "order": null,
            "overflow": null,
            "overflow_x": null,
            "overflow_y": null,
            "padding": null,
            "right": null,
            "top": null,
            "visibility": null,
            "width": null
          }
        },
        "92030936deec4732841876c562fff0fb": {
          "model_module": "@jupyter-widgets/controls",
          "model_name": "DescriptionStyleModel",
          "model_module_version": "1.5.0",
          "state": {
            "_model_module": "@jupyter-widgets/controls",
            "_model_module_version": "1.5.0",
            "_model_name": "DescriptionStyleModel",
            "_view_count": null,
            "_view_module": "@jupyter-widgets/base",
            "_view_module_version": "1.2.0",
            "_view_name": "StyleView",
            "description_width": ""
          }
        },
        "80a94056454d43d4b290a8b61f6dd7e7": {
          "model_module": "@jupyter-widgets/controls",
          "model_name": "HBoxModel",
          "model_module_version": "1.5.0",
          "state": {
            "_dom_classes": [],
            "_model_module": "@jupyter-widgets/controls",
            "_model_module_version": "1.5.0",
            "_model_name": "HBoxModel",
            "_view_count": null,
            "_view_module": "@jupyter-widgets/controls",
            "_view_module_version": "1.5.0",
            "_view_name": "HBoxView",
            "box_style": "",
            "children": [
              "IPY_MODEL_aaf6a4629d644e7488f4e189b3a59342",
              "IPY_MODEL_9d7a5a0898f94c5c9df70586a3f68c96",
              "IPY_MODEL_2a40203176e54d7c8ed115b6945a2eeb"
            ],
            "layout": "IPY_MODEL_f6d76534b3154a6ca49d4d8ea049f985"
          }
        },
        "aaf6a4629d644e7488f4e189b3a59342": {
          "model_module": "@jupyter-widgets/controls",
          "model_name": "HTMLModel",
          "model_module_version": "1.5.0",
          "state": {
            "_dom_classes": [],
            "_model_module": "@jupyter-widgets/controls",
            "_model_module_version": "1.5.0",
            "_model_name": "HTMLModel",
            "_view_count": null,
            "_view_module": "@jupyter-widgets/controls",
            "_view_module_version": "1.5.0",
            "_view_name": "HTMLView",
            "description": "",
            "description_tooltip": null,
            "layout": "IPY_MODEL_20614cc6722a40a8a9611d8f53463642",
            "placeholder": "​",
            "style": "IPY_MODEL_6a796a4e5ed644ea89c5124b082e871f",
            "value": "Map: 100%"
          }
        },
        "9d7a5a0898f94c5c9df70586a3f68c96": {
          "model_module": "@jupyter-widgets/controls",
          "model_name": "FloatProgressModel",
          "model_module_version": "1.5.0",
          "state": {
            "_dom_classes": [],
            "_model_module": "@jupyter-widgets/controls",
            "_model_module_version": "1.5.0",
            "_model_name": "FloatProgressModel",
            "_view_count": null,
            "_view_module": "@jupyter-widgets/controls",
            "_view_module_version": "1.5.0",
            "_view_name": "ProgressView",
            "bar_style": "success",
            "description": "",
            "description_tooltip": null,
            "layout": "IPY_MODEL_05a5604b472142d089b4ea240301ae28",
            "max": 12099,
            "min": 0,
            "orientation": "horizontal",
            "style": "IPY_MODEL_a1c773c7b237406eb841ae879499f9cc",
            "value": 12099
          }
        },
        "2a40203176e54d7c8ed115b6945a2eeb": {
          "model_module": "@jupyter-widgets/controls",
          "model_name": "HTMLModel",
          "model_module_version": "1.5.0",
          "state": {
            "_dom_classes": [],
            "_model_module": "@jupyter-widgets/controls",
            "_model_module_version": "1.5.0",
            "_model_name": "HTMLModel",
            "_view_count": null,
            "_view_module": "@jupyter-widgets/controls",
            "_view_module_version": "1.5.0",
            "_view_name": "HTMLView",
            "description": "",
            "description_tooltip": null,
            "layout": "IPY_MODEL_feb6c6ca50c6471d9c2f39668fd8394d",
            "placeholder": "​",
            "style": "IPY_MODEL_7bd7e1f8091a469db980d9adad0ee65a",
            "value": " 12099/12099 [00:03&lt;00:00, 4725.51 examples/s]"
          }
        },
        "f6d76534b3154a6ca49d4d8ea049f985": {
          "model_module": "@jupyter-widgets/base",
          "model_name": "LayoutModel",
          "model_module_version": "1.2.0",
          "state": {
            "_model_module": "@jupyter-widgets/base",
            "_model_module_version": "1.2.0",
            "_model_name": "LayoutModel",
            "_view_count": null,
            "_view_module": "@jupyter-widgets/base",
            "_view_module_version": "1.2.0",
            "_view_name": "LayoutView",
            "align_content": null,
            "align_items": null,
            "align_self": null,
            "border": null,
            "bottom": null,
            "display": null,
            "flex": null,
            "flex_flow": null,
            "grid_area": null,
            "grid_auto_columns": null,
            "grid_auto_flow": null,
            "grid_auto_rows": null,
            "grid_column": null,
            "grid_gap": null,
            "grid_row": null,
            "grid_template_areas": null,
            "grid_template_columns": null,
            "grid_template_rows": null,
            "height": null,
            "justify_content": null,
            "justify_items": null,
            "left": null,
            "margin": null,
            "max_height": null,
            "max_width": null,
            "min_height": null,
            "min_width": null,
            "object_fit": null,
            "object_position": null,
            "order": null,
            "overflow": null,
            "overflow_x": null,
            "overflow_y": null,
            "padding": null,
            "right": null,
            "top": null,
            "visibility": null,
            "width": null
          }
        },
        "20614cc6722a40a8a9611d8f53463642": {
          "model_module": "@jupyter-widgets/base",
          "model_name": "LayoutModel",
          "model_module_version": "1.2.0",
          "state": {
            "_model_module": "@jupyter-widgets/base",
            "_model_module_version": "1.2.0",
            "_model_name": "LayoutModel",
            "_view_count": null,
            "_view_module": "@jupyter-widgets/base",
            "_view_module_version": "1.2.0",
            "_view_name": "LayoutView",
            "align_content": null,
            "align_items": null,
            "align_self": null,
            "border": null,
            "bottom": null,
            "display": null,
            "flex": null,
            "flex_flow": null,
            "grid_area": null,
            "grid_auto_columns": null,
            "grid_auto_flow": null,
            "grid_auto_rows": null,
            "grid_column": null,
            "grid_gap": null,
            "grid_row": null,
            "grid_template_areas": null,
            "grid_template_columns": null,
            "grid_template_rows": null,
            "height": null,
            "justify_content": null,
            "justify_items": null,
            "left": null,
            "margin": null,
            "max_height": null,
            "max_width": null,
            "min_height": null,
            "min_width": null,
            "object_fit": null,
            "object_position": null,
            "order": null,
            "overflow": null,
            "overflow_x": null,
            "overflow_y": null,
            "padding": null,
            "right": null,
            "top": null,
            "visibility": null,
            "width": null
          }
        },
        "6a796a4e5ed644ea89c5124b082e871f": {
          "model_module": "@jupyter-widgets/controls",
          "model_name": "DescriptionStyleModel",
          "model_module_version": "1.5.0",
          "state": {
            "_model_module": "@jupyter-widgets/controls",
            "_model_module_version": "1.5.0",
            "_model_name": "DescriptionStyleModel",
            "_view_count": null,
            "_view_module": "@jupyter-widgets/base",
            "_view_module_version": "1.2.0",
            "_view_name": "StyleView",
            "description_width": ""
          }
        },
        "05a5604b472142d089b4ea240301ae28": {
          "model_module": "@jupyter-widgets/base",
          "model_name": "LayoutModel",
          "model_module_version": "1.2.0",
          "state": {
            "_model_module": "@jupyter-widgets/base",
            "_model_module_version": "1.2.0",
            "_model_name": "LayoutModel",
            "_view_count": null,
            "_view_module": "@jupyter-widgets/base",
            "_view_module_version": "1.2.0",
            "_view_name": "LayoutView",
            "align_content": null,
            "align_items": null,
            "align_self": null,
            "border": null,
            "bottom": null,
            "display": null,
            "flex": null,
            "flex_flow": null,
            "grid_area": null,
            "grid_auto_columns": null,
            "grid_auto_flow": null,
            "grid_auto_rows": null,
            "grid_column": null,
            "grid_gap": null,
            "grid_row": null,
            "grid_template_areas": null,
            "grid_template_columns": null,
            "grid_template_rows": null,
            "height": null,
            "justify_content": null,
            "justify_items": null,
            "left": null,
            "margin": null,
            "max_height": null,
            "max_width": null,
            "min_height": null,
            "min_width": null,
            "object_fit": null,
            "object_position": null,
            "order": null,
            "overflow": null,
            "overflow_x": null,
            "overflow_y": null,
            "padding": null,
            "right": null,
            "top": null,
            "visibility": null,
            "width": null
          }
        },
        "a1c773c7b237406eb841ae879499f9cc": {
          "model_module": "@jupyter-widgets/controls",
          "model_name": "ProgressStyleModel",
          "model_module_version": "1.5.0",
          "state": {
            "_model_module": "@jupyter-widgets/controls",
            "_model_module_version": "1.5.0",
            "_model_name": "ProgressStyleModel",
            "_view_count": null,
            "_view_module": "@jupyter-widgets/base",
            "_view_module_version": "1.2.0",
            "_view_name": "StyleView",
            "bar_color": null,
            "description_width": ""
          }
        },
        "feb6c6ca50c6471d9c2f39668fd8394d": {
          "model_module": "@jupyter-widgets/base",
          "model_name": "LayoutModel",
          "model_module_version": "1.2.0",
          "state": {
            "_model_module": "@jupyter-widgets/base",
            "_model_module_version": "1.2.0",
            "_model_name": "LayoutModel",
            "_view_count": null,
            "_view_module": "@jupyter-widgets/base",
            "_view_module_version": "1.2.0",
            "_view_name": "LayoutView",
            "align_content": null,
            "align_items": null,
            "align_self": null,
            "border": null,
            "bottom": null,
            "display": null,
            "flex": null,
            "flex_flow": null,
            "grid_area": null,
            "grid_auto_columns": null,
            "grid_auto_flow": null,
            "grid_auto_rows": null,
            "grid_column": null,
            "grid_gap": null,
            "grid_row": null,
            "grid_template_areas": null,
            "grid_template_columns": null,
            "grid_template_rows": null,
            "height": null,
            "justify_content": null,
            "justify_items": null,
            "left": null,
            "margin": null,
            "max_height": null,
            "max_width": null,
            "min_height": null,
            "min_width": null,
            "object_fit": null,
            "object_position": null,
            "order": null,
            "overflow": null,
            "overflow_x": null,
            "overflow_y": null,
            "padding": null,
            "right": null,
            "top": null,
            "visibility": null,
            "width": null
          }
        },
        "7bd7e1f8091a469db980d9adad0ee65a": {
          "model_module": "@jupyter-widgets/controls",
          "model_name": "DescriptionStyleModel",
          "model_module_version": "1.5.0",
          "state": {
            "_model_module": "@jupyter-widgets/controls",
            "_model_module_version": "1.5.0",
            "_model_name": "DescriptionStyleModel",
            "_view_count": null,
            "_view_module": "@jupyter-widgets/base",
            "_view_module_version": "1.2.0",
            "_view_name": "StyleView",
            "description_width": ""
          }
        },
        "332b843a382d48dfa3e0b2d204acded0": {
          "model_module": "@jupyter-widgets/controls",
          "model_name": "HBoxModel",
          "model_module_version": "1.5.0",
          "state": {
            "_dom_classes": [],
            "_model_module": "@jupyter-widgets/controls",
            "_model_module_version": "1.5.0",
            "_model_name": "HBoxModel",
            "_view_count": null,
            "_view_module": "@jupyter-widgets/controls",
            "_view_module_version": "1.5.0",
            "_view_name": "HBoxView",
            "box_style": "",
            "children": [
              "IPY_MODEL_424192544e684598bc4f9cf01483567b",
              "IPY_MODEL_6093f54bd11e47e6ace5620967939997",
              "IPY_MODEL_ea0e14011a574c97b22f4c6cf4ebcf80"
            ],
            "layout": "IPY_MODEL_6f57e79462f64ba8983c77b1e39c8ba8"
          }
        },
        "424192544e684598bc4f9cf01483567b": {
          "model_module": "@jupyter-widgets/controls",
          "model_name": "HTMLModel",
          "model_module_version": "1.5.0",
          "state": {
            "_dom_classes": [],
            "_model_module": "@jupyter-widgets/controls",
            "_model_module_version": "1.5.0",
            "_model_name": "HTMLModel",
            "_view_count": null,
            "_view_module": "@jupyter-widgets/controls",
            "_view_module_version": "1.5.0",
            "_view_name": "HTMLView",
            "description": "",
            "description_tooltip": null,
            "layout": "IPY_MODEL_b39848dc8eaf4bb1a3d8832f0794bfd8",
            "placeholder": "​",
            "style": "IPY_MODEL_03c49027d51b496880f09996b71f5118",
            "value": "Map: 100%"
          }
        },
        "6093f54bd11e47e6ace5620967939997": {
          "model_module": "@jupyter-widgets/controls",
          "model_name": "FloatProgressModel",
          "model_module_version": "1.5.0",
          "state": {
            "_dom_classes": [],
            "_model_module": "@jupyter-widgets/controls",
            "_model_module_version": "1.5.0",
            "_model_name": "FloatProgressModel",
            "_view_count": null,
            "_view_module": "@jupyter-widgets/controls",
            "_view_module_version": "1.5.0",
            "_view_name": "ProgressView",
            "bar_style": "success",
            "description": "",
            "description_tooltip": null,
            "layout": "IPY_MODEL_dc1e0c60440b4afeb99187c420eb80ef",
            "max": 3025,
            "min": 0,
            "orientation": "horizontal",
            "style": "IPY_MODEL_ae12ca64e0ab40229d96623af29d0306",
            "value": 3025
          }
        },
        "ea0e14011a574c97b22f4c6cf4ebcf80": {
          "model_module": "@jupyter-widgets/controls",
          "model_name": "HTMLModel",
          "model_module_version": "1.5.0",
          "state": {
            "_dom_classes": [],
            "_model_module": "@jupyter-widgets/controls",
            "_model_module_version": "1.5.0",
            "_model_name": "HTMLModel",
            "_view_count": null,
            "_view_module": "@jupyter-widgets/controls",
            "_view_module_version": "1.5.0",
            "_view_name": "HTMLView",
            "description": "",
            "description_tooltip": null,
            "layout": "IPY_MODEL_6bbf2d8e6ecb4012b8cc93022fc4c06e",
            "placeholder": "​",
            "style": "IPY_MODEL_b6f50f0ab3214400bbbc453a8176aa3c",
            "value": " 3025/3025 [00:00&lt;00:00, 5254.71 examples/s]"
          }
        },
        "6f57e79462f64ba8983c77b1e39c8ba8": {
          "model_module": "@jupyter-widgets/base",
          "model_name": "LayoutModel",
          "model_module_version": "1.2.0",
          "state": {
            "_model_module": "@jupyter-widgets/base",
            "_model_module_version": "1.2.0",
            "_model_name": "LayoutModel",
            "_view_count": null,
            "_view_module": "@jupyter-widgets/base",
            "_view_module_version": "1.2.0",
            "_view_name": "LayoutView",
            "align_content": null,
            "align_items": null,
            "align_self": null,
            "border": null,
            "bottom": null,
            "display": null,
            "flex": null,
            "flex_flow": null,
            "grid_area": null,
            "grid_auto_columns": null,
            "grid_auto_flow": null,
            "grid_auto_rows": null,
            "grid_column": null,
            "grid_gap": null,
            "grid_row": null,
            "grid_template_areas": null,
            "grid_template_columns": null,
            "grid_template_rows": null,
            "height": null,
            "justify_content": null,
            "justify_items": null,
            "left": null,
            "margin": null,
            "max_height": null,
            "max_width": null,
            "min_height": null,
            "min_width": null,
            "object_fit": null,
            "object_position": null,
            "order": null,
            "overflow": null,
            "overflow_x": null,
            "overflow_y": null,
            "padding": null,
            "right": null,
            "top": null,
            "visibility": null,
            "width": null
          }
        },
        "b39848dc8eaf4bb1a3d8832f0794bfd8": {
          "model_module": "@jupyter-widgets/base",
          "model_name": "LayoutModel",
          "model_module_version": "1.2.0",
          "state": {
            "_model_module": "@jupyter-widgets/base",
            "_model_module_version": "1.2.0",
            "_model_name": "LayoutModel",
            "_view_count": null,
            "_view_module": "@jupyter-widgets/base",
            "_view_module_version": "1.2.0",
            "_view_name": "LayoutView",
            "align_content": null,
            "align_items": null,
            "align_self": null,
            "border": null,
            "bottom": null,
            "display": null,
            "flex": null,
            "flex_flow": null,
            "grid_area": null,
            "grid_auto_columns": null,
            "grid_auto_flow": null,
            "grid_auto_rows": null,
            "grid_column": null,
            "grid_gap": null,
            "grid_row": null,
            "grid_template_areas": null,
            "grid_template_columns": null,
            "grid_template_rows": null,
            "height": null,
            "justify_content": null,
            "justify_items": null,
            "left": null,
            "margin": null,
            "max_height": null,
            "max_width": null,
            "min_height": null,
            "min_width": null,
            "object_fit": null,
            "object_position": null,
            "order": null,
            "overflow": null,
            "overflow_x": null,
            "overflow_y": null,
            "padding": null,
            "right": null,
            "top": null,
            "visibility": null,
            "width": null
          }
        },
        "03c49027d51b496880f09996b71f5118": {
          "model_module": "@jupyter-widgets/controls",
          "model_name": "DescriptionStyleModel",
          "model_module_version": "1.5.0",
          "state": {
            "_model_module": "@jupyter-widgets/controls",
            "_model_module_version": "1.5.0",
            "_model_name": "DescriptionStyleModel",
            "_view_count": null,
            "_view_module": "@jupyter-widgets/base",
            "_view_module_version": "1.2.0",
            "_view_name": "StyleView",
            "description_width": ""
          }
        },
        "dc1e0c60440b4afeb99187c420eb80ef": {
          "model_module": "@jupyter-widgets/base",
          "model_name": "LayoutModel",
          "model_module_version": "1.2.0",
          "state": {
            "_model_module": "@jupyter-widgets/base",
            "_model_module_version": "1.2.0",
            "_model_name": "LayoutModel",
            "_view_count": null,
            "_view_module": "@jupyter-widgets/base",
            "_view_module_version": "1.2.0",
            "_view_name": "LayoutView",
            "align_content": null,
            "align_items": null,
            "align_self": null,
            "border": null,
            "bottom": null,
            "display": null,
            "flex": null,
            "flex_flow": null,
            "grid_area": null,
            "grid_auto_columns": null,
            "grid_auto_flow": null,
            "grid_auto_rows": null,
            "grid_column": null,
            "grid_gap": null,
            "grid_row": null,
            "grid_template_areas": null,
            "grid_template_columns": null,
            "grid_template_rows": null,
            "height": null,
            "justify_content": null,
            "justify_items": null,
            "left": null,
            "margin": null,
            "max_height": null,
            "max_width": null,
            "min_height": null,
            "min_width": null,
            "object_fit": null,
            "object_position": null,
            "order": null,
            "overflow": null,
            "overflow_x": null,
            "overflow_y": null,
            "padding": null,
            "right": null,
            "top": null,
            "visibility": null,
            "width": null
          }
        },
        "ae12ca64e0ab40229d96623af29d0306": {
          "model_module": "@jupyter-widgets/controls",
          "model_name": "ProgressStyleModel",
          "model_module_version": "1.5.0",
          "state": {
            "_model_module": "@jupyter-widgets/controls",
            "_model_module_version": "1.5.0",
            "_model_name": "ProgressStyleModel",
            "_view_count": null,
            "_view_module": "@jupyter-widgets/base",
            "_view_module_version": "1.2.0",
            "_view_name": "StyleView",
            "bar_color": null,
            "description_width": ""
          }
        },
        "6bbf2d8e6ecb4012b8cc93022fc4c06e": {
          "model_module": "@jupyter-widgets/base",
          "model_name": "LayoutModel",
          "model_module_version": "1.2.0",
          "state": {
            "_model_module": "@jupyter-widgets/base",
            "_model_module_version": "1.2.0",
            "_model_name": "LayoutModel",
            "_view_count": null,
            "_view_module": "@jupyter-widgets/base",
            "_view_module_version": "1.2.0",
            "_view_name": "LayoutView",
            "align_content": null,
            "align_items": null,
            "align_self": null,
            "border": null,
            "bottom": null,
            "display": null,
            "flex": null,
            "flex_flow": null,
            "grid_area": null,
            "grid_auto_columns": null,
            "grid_auto_flow": null,
            "grid_auto_rows": null,
            "grid_column": null,
            "grid_gap": null,
            "grid_row": null,
            "grid_template_areas": null,
            "grid_template_columns": null,
            "grid_template_rows": null,
            "height": null,
            "justify_content": null,
            "justify_items": null,
            "left": null,
            "margin": null,
            "max_height": null,
            "max_width": null,
            "min_height": null,
            "min_width": null,
            "object_fit": null,
            "object_position": null,
            "order": null,
            "overflow": null,
            "overflow_x": null,
            "overflow_y": null,
            "padding": null,
            "right": null,
            "top": null,
            "visibility": null,
            "width": null
          }
        },
        "b6f50f0ab3214400bbbc453a8176aa3c": {
          "model_module": "@jupyter-widgets/controls",
          "model_name": "DescriptionStyleModel",
          "model_module_version": "1.5.0",
          "state": {
            "_model_module": "@jupyter-widgets/controls",
            "_model_module_version": "1.5.0",
            "_model_name": "DescriptionStyleModel",
            "_view_count": null,
            "_view_module": "@jupyter-widgets/base",
            "_view_module_version": "1.2.0",
            "_view_name": "StyleView",
            "description_width": ""
          }
        },
        "d7b44ae362d1415aa7db7d300d2209f7": {
          "model_module": "@jupyter-widgets/controls",
          "model_name": "HBoxModel",
          "model_module_version": "1.5.0",
          "state": {
            "_dom_classes": [],
            "_model_module": "@jupyter-widgets/controls",
            "_model_module_version": "1.5.0",
            "_model_name": "HBoxModel",
            "_view_count": null,
            "_view_module": "@jupyter-widgets/controls",
            "_view_module_version": "1.5.0",
            "_view_name": "HBoxView",
            "box_style": "",
            "children": [
              "IPY_MODEL_40b9a207446344e8adc588a94651e3cc",
              "IPY_MODEL_22a0a1a26dcb4abcae03aed0d5108de6",
              "IPY_MODEL_b1c76621f4c747e895f2f50cbdd57fc8"
            ],
            "layout": "IPY_MODEL_d851c6611b9942e0970155441529d349"
          }
        },
        "40b9a207446344e8adc588a94651e3cc": {
          "model_module": "@jupyter-widgets/controls",
          "model_name": "HTMLModel",
          "model_module_version": "1.5.0",
          "state": {
            "_dom_classes": [],
            "_model_module": "@jupyter-widgets/controls",
            "_model_module_version": "1.5.0",
            "_model_name": "HTMLModel",
            "_view_count": null,
            "_view_module": "@jupyter-widgets/controls",
            "_view_module_version": "1.5.0",
            "_view_name": "HTMLView",
            "description": "",
            "description_tooltip": null,
            "layout": "IPY_MODEL_2e58cfcf9bdd4e5e9a0e644ed57789c1",
            "placeholder": "​",
            "style": "IPY_MODEL_e548c184256745798da5173b6f6b282f",
            "value": "model.safetensors: 100%"
          }
        },
        "22a0a1a26dcb4abcae03aed0d5108de6": {
          "model_module": "@jupyter-widgets/controls",
          "model_name": "FloatProgressModel",
          "model_module_version": "1.5.0",
          "state": {
            "_dom_classes": [],
            "_model_module": "@jupyter-widgets/controls",
            "_model_module_version": "1.5.0",
            "_model_name": "FloatProgressModel",
            "_view_count": null,
            "_view_module": "@jupyter-widgets/controls",
            "_view_module_version": "1.5.0",
            "_view_name": "ProgressView",
            "bar_style": "success",
            "description": "",
            "description_tooltip": null,
            "layout": "IPY_MODEL_fa52e67bdcca49608d99360a0a5394f7",
            "max": 267954768,
            "min": 0,
            "orientation": "horizontal",
            "style": "IPY_MODEL_b6ab3bfe40274829a0a47c301005f89d",
            "value": 267954768
          }
        },
        "b1c76621f4c747e895f2f50cbdd57fc8": {
          "model_module": "@jupyter-widgets/controls",
          "model_name": "HTMLModel",
          "model_module_version": "1.5.0",
          "state": {
            "_dom_classes": [],
            "_model_module": "@jupyter-widgets/controls",
            "_model_module_version": "1.5.0",
            "_model_name": "HTMLModel",
            "_view_count": null,
            "_view_module": "@jupyter-widgets/controls",
            "_view_module_version": "1.5.0",
            "_view_name": "HTMLView",
            "description": "",
            "description_tooltip": null,
            "layout": "IPY_MODEL_a267d6663ba54106856d9c1a1117087d",
            "placeholder": "​",
            "style": "IPY_MODEL_5b6d033faba24eaa9c693b37239e33fb",
            "value": " 268M/268M [00:05&lt;00:00, 34.6MB/s]"
          }
        },
        "d851c6611b9942e0970155441529d349": {
          "model_module": "@jupyter-widgets/base",
          "model_name": "LayoutModel",
          "model_module_version": "1.2.0",
          "state": {
            "_model_module": "@jupyter-widgets/base",
            "_model_module_version": "1.2.0",
            "_model_name": "LayoutModel",
            "_view_count": null,
            "_view_module": "@jupyter-widgets/base",
            "_view_module_version": "1.2.0",
            "_view_name": "LayoutView",
            "align_content": null,
            "align_items": null,
            "align_self": null,
            "border": null,
            "bottom": null,
            "display": null,
            "flex": null,
            "flex_flow": null,
            "grid_area": null,
            "grid_auto_columns": null,
            "grid_auto_flow": null,
            "grid_auto_rows": null,
            "grid_column": null,
            "grid_gap": null,
            "grid_row": null,
            "grid_template_areas": null,
            "grid_template_columns": null,
            "grid_template_rows": null,
            "height": null,
            "justify_content": null,
            "justify_items": null,
            "left": null,
            "margin": null,
            "max_height": null,
            "max_width": null,
            "min_height": null,
            "min_width": null,
            "object_fit": null,
            "object_position": null,
            "order": null,
            "overflow": null,
            "overflow_x": null,
            "overflow_y": null,
            "padding": null,
            "right": null,
            "top": null,
            "visibility": null,
            "width": null
          }
        },
        "2e58cfcf9bdd4e5e9a0e644ed57789c1": {
          "model_module": "@jupyter-widgets/base",
          "model_name": "LayoutModel",
          "model_module_version": "1.2.0",
          "state": {
            "_model_module": "@jupyter-widgets/base",
            "_model_module_version": "1.2.0",
            "_model_name": "LayoutModel",
            "_view_count": null,
            "_view_module": "@jupyter-widgets/base",
            "_view_module_version": "1.2.0",
            "_view_name": "LayoutView",
            "align_content": null,
            "align_items": null,
            "align_self": null,
            "border": null,
            "bottom": null,
            "display": null,
            "flex": null,
            "flex_flow": null,
            "grid_area": null,
            "grid_auto_columns": null,
            "grid_auto_flow": null,
            "grid_auto_rows": null,
            "grid_column": null,
            "grid_gap": null,
            "grid_row": null,
            "grid_template_areas": null,
            "grid_template_columns": null,
            "grid_template_rows": null,
            "height": null,
            "justify_content": null,
            "justify_items": null,
            "left": null,
            "margin": null,
            "max_height": null,
            "max_width": null,
            "min_height": null,
            "min_width": null,
            "object_fit": null,
            "object_position": null,
            "order": null,
            "overflow": null,
            "overflow_x": null,
            "overflow_y": null,
            "padding": null,
            "right": null,
            "top": null,
            "visibility": null,
            "width": null
          }
        },
        "e548c184256745798da5173b6f6b282f": {
          "model_module": "@jupyter-widgets/controls",
          "model_name": "DescriptionStyleModel",
          "model_module_version": "1.5.0",
          "state": {
            "_model_module": "@jupyter-widgets/controls",
            "_model_module_version": "1.5.0",
            "_model_name": "DescriptionStyleModel",
            "_view_count": null,
            "_view_module": "@jupyter-widgets/base",
            "_view_module_version": "1.2.0",
            "_view_name": "StyleView",
            "description_width": ""
          }
        },
        "fa52e67bdcca49608d99360a0a5394f7": {
          "model_module": "@jupyter-widgets/base",
          "model_name": "LayoutModel",
          "model_module_version": "1.2.0",
          "state": {
            "_model_module": "@jupyter-widgets/base",
            "_model_module_version": "1.2.0",
            "_model_name": "LayoutModel",
            "_view_count": null,
            "_view_module": "@jupyter-widgets/base",
            "_view_module_version": "1.2.0",
            "_view_name": "LayoutView",
            "align_content": null,
            "align_items": null,
            "align_self": null,
            "border": null,
            "bottom": null,
            "display": null,
            "flex": null,
            "flex_flow": null,
            "grid_area": null,
            "grid_auto_columns": null,
            "grid_auto_flow": null,
            "grid_auto_rows": null,
            "grid_column": null,
            "grid_gap": null,
            "grid_row": null,
            "grid_template_areas": null,
            "grid_template_columns": null,
            "grid_template_rows": null,
            "height": null,
            "justify_content": null,
            "justify_items": null,
            "left": null,
            "margin": null,
            "max_height": null,
            "max_width": null,
            "min_height": null,
            "min_width": null,
            "object_fit": null,
            "object_position": null,
            "order": null,
            "overflow": null,
            "overflow_x": null,
            "overflow_y": null,
            "padding": null,
            "right": null,
            "top": null,
            "visibility": null,
            "width": null
          }
        },
        "b6ab3bfe40274829a0a47c301005f89d": {
          "model_module": "@jupyter-widgets/controls",
          "model_name": "ProgressStyleModel",
          "model_module_version": "1.5.0",
          "state": {
            "_model_module": "@jupyter-widgets/controls",
            "_model_module_version": "1.5.0",
            "_model_name": "ProgressStyleModel",
            "_view_count": null,
            "_view_module": "@jupyter-widgets/base",
            "_view_module_version": "1.2.0",
            "_view_name": "StyleView",
            "bar_color": null,
            "description_width": ""
          }
        },
        "a267d6663ba54106856d9c1a1117087d": {
          "model_module": "@jupyter-widgets/base",
          "model_name": "LayoutModel",
          "model_module_version": "1.2.0",
          "state": {
            "_model_module": "@jupyter-widgets/base",
            "_model_module_version": "1.2.0",
            "_model_name": "LayoutModel",
            "_view_count": null,
            "_view_module": "@jupyter-widgets/base",
            "_view_module_version": "1.2.0",
            "_view_name": "LayoutView",
            "align_content": null,
            "align_items": null,
            "align_self": null,
            "border": null,
            "bottom": null,
            "display": null,
            "flex": null,
            "flex_flow": null,
            "grid_area": null,
            "grid_auto_columns": null,
            "grid_auto_flow": null,
            "grid_auto_rows": null,
            "grid_column": null,
            "grid_gap": null,
            "grid_row": null,
            "grid_template_areas": null,
            "grid_template_columns": null,
            "grid_template_rows": null,
            "height": null,
            "justify_content": null,
            "justify_items": null,
            "left": null,
            "margin": null,
            "max_height": null,
            "max_width": null,
            "min_height": null,
            "min_width": null,
            "object_fit": null,
            "object_position": null,
            "order": null,
            "overflow": null,
            "overflow_x": null,
            "overflow_y": null,
            "padding": null,
            "right": null,
            "top": null,
            "visibility": null,
            "width": null
          }
        },
        "5b6d033faba24eaa9c693b37239e33fb": {
          "model_module": "@jupyter-widgets/controls",
          "model_name": "DescriptionStyleModel",
          "model_module_version": "1.5.0",
          "state": {
            "_model_module": "@jupyter-widgets/controls",
            "_model_module_version": "1.5.0",
            "_model_name": "DescriptionStyleModel",
            "_view_count": null,
            "_view_module": "@jupyter-widgets/base",
            "_view_module_version": "1.2.0",
            "_view_name": "StyleView",
            "description_width": ""
          }
        }
      }
    }
  },
  "nbformat_minor": 0,
  "nbformat": 4,
  "cells": [
    {
      "cell_type": "markdown",
      "source": [
        "# **Importing Necessary Modules**"
      ],
      "metadata": {
        "id": "npGEn1ks8Cmu"
      }
    },
    {
      "cell_type": "code",
      "source": [
        "import pandas as pd\n",
        "import numpy as np\n",
        "import matplotlib.pyplot as plt\n",
        "import seaborn as sns\n",
        "from bs4 import BeautifulSoup\n",
        "import re\n",
        "import string\n",
        "import nltk\n",
        "from nltk.corpus import stopwords\n",
        "nltk.download('stopwords')\n",
        "!pip install emoji\n",
        "import emoji\n",
        "from nltk.stem import WordNetLemmatizer\n",
        "nltk.download('wordnet')\n",
        "from sklearn.model_selection import train_test_split\n",
        "from tensorflow.keras.preprocessing.text import Tokenizer\n",
        "from tensorflow.keras.preprocessing.sequence import pad_sequences\n",
        "from sklearn.utils import class_weight\n",
        "import tensorflow as tf\n",
        "from tensorflow.keras.models import Sequential\n",
        "from tensorflow.keras.layers import Embedding, Bidirectional, LSTM, GRU, SimpleRNN, Dense\n",
        "from tensorflow.keras.callbacks import EarlyStopping\n",
        "from transformers import EarlyStoppingCallback\n",
        "!pip install optuna\n",
        "import optuna\n",
        "import pickle\n",
        "from sklearn.metrics import confusion_matrix, classification_report\n",
        "!pip install transformers datasets\n",
        "import json\n",
        "from datasets import Dataset\n",
        "from transformers import DistilBertTokenizerFast, DistilBertForSequenceClassification, Trainer, TrainingArguments, EvalPrediction\n",
        "from sklearn.metrics import accuracy_score, precision_recall_fscore_support\n",
        "import torch\n",
        "\n",
        "import warnings\n",
        "warnings.filterwarnings(\"ignore\")"
      ],
      "metadata": {
        "_uuid": "8f2839f25d086af736a60e9eeb907d3b93b6e0e5",
        "_cell_guid": "b1076dfc-b9ad-4769-8c92-a6c4dae69d19",
        "trusted": true,
        "execution": {
          "iopub.status.busy": "2025-02-24T07:49:10.267288Z",
          "iopub.execute_input": "2025-02-24T07:49:10.267575Z",
          "iopub.status.idle": "2025-02-24T07:49:10.271605Z",
          "shell.execute_reply.started": "2025-02-24T07:49:10.267552Z",
          "shell.execute_reply": "2025-02-24T07:49:10.270766Z"
        },
        "colab": {
          "base_uri": "https://localhost:8080/"
        },
        "id": "psf6P1N18Cmw",
        "outputId": "85d5faf5-14f9-415d-e3cd-45eade1e78c7"
      },
      "outputs": [
        {
          "output_type": "stream",
          "name": "stderr",
          "text": [
            "[nltk_data] Downloading package stopwords to /root/nltk_data...\n",
            "[nltk_data]   Unzipping corpora/stopwords.zip.\n"
          ]
        },
        {
          "output_type": "stream",
          "name": "stdout",
          "text": [
            "Collecting emoji\n",
            "  Downloading emoji-2.14.1-py3-none-any.whl.metadata (5.7 kB)\n",
            "Downloading emoji-2.14.1-py3-none-any.whl (590 kB)\n",
            "\u001b[?25l   \u001b[90m━━━━━━━━━━━━━━━━━━━━━━━━━━━━━━━━━━━━━━━━\u001b[0m \u001b[32m0.0/590.6 kB\u001b[0m \u001b[31m?\u001b[0m eta \u001b[36m-:--:--\u001b[0m\r\u001b[2K   \u001b[90m━━━━━━━━━━━━━━━━━━━━━━━━━━━━━━━━━━━━━━━━\u001b[0m \u001b[32m590.6/590.6 kB\u001b[0m \u001b[31m27.9 MB/s\u001b[0m eta \u001b[36m0:00:00\u001b[0m\n",
            "\u001b[?25hInstalling collected packages: emoji\n",
            "Successfully installed emoji-2.14.1\n"
          ]
        },
        {
          "output_type": "stream",
          "name": "stderr",
          "text": [
            "[nltk_data] Downloading package wordnet to /root/nltk_data...\n"
          ]
        },
        {
          "output_type": "stream",
          "name": "stdout",
          "text": [
            "Collecting optuna\n",
            "  Downloading optuna-4.2.1-py3-none-any.whl.metadata (17 kB)\n",
            "Collecting alembic>=1.5.0 (from optuna)\n",
            "  Downloading alembic-1.14.1-py3-none-any.whl.metadata (7.4 kB)\n",
            "Collecting colorlog (from optuna)\n",
            "  Downloading colorlog-6.9.0-py3-none-any.whl.metadata (10 kB)\n",
            "Requirement already satisfied: numpy in /usr/local/lib/python3.11/dist-packages (from optuna) (1.26.4)\n",
            "Requirement already satisfied: packaging>=20.0 in /usr/local/lib/python3.11/dist-packages (from optuna) (24.2)\n",
            "Requirement already satisfied: sqlalchemy>=1.4.2 in /usr/local/lib/python3.11/dist-packages (from optuna) (2.0.38)\n",
            "Requirement already satisfied: tqdm in /usr/local/lib/python3.11/dist-packages (from optuna) (4.67.1)\n",
            "Requirement already satisfied: PyYAML in /usr/local/lib/python3.11/dist-packages (from optuna) (6.0.2)\n",
            "Collecting Mako (from alembic>=1.5.0->optuna)\n",
            "  Downloading Mako-1.3.9-py3-none-any.whl.metadata (2.9 kB)\n",
            "Requirement already satisfied: typing-extensions>=4 in /usr/local/lib/python3.11/dist-packages (from alembic>=1.5.0->optuna) (4.12.2)\n",
            "Requirement already satisfied: greenlet!=0.4.17 in /usr/local/lib/python3.11/dist-packages (from sqlalchemy>=1.4.2->optuna) (3.1.1)\n",
            "Requirement already satisfied: MarkupSafe>=0.9.2 in /usr/local/lib/python3.11/dist-packages (from Mako->alembic>=1.5.0->optuna) (3.0.2)\n",
            "Downloading optuna-4.2.1-py3-none-any.whl (383 kB)\n",
            "\u001b[2K   \u001b[90m━━━━━━━━━━━━━━━━━━━━━━━━━━━━━━━━━━━━━━━━\u001b[0m \u001b[32m383.6/383.6 kB\u001b[0m \u001b[31m19.1 MB/s\u001b[0m eta \u001b[36m0:00:00\u001b[0m\n",
            "\u001b[?25hDownloading alembic-1.14.1-py3-none-any.whl (233 kB)\n",
            "\u001b[2K   \u001b[90m━━━━━━━━━━━━━━━━━━━━━━━━━━━━━━━━━━━━━━━━\u001b[0m \u001b[32m233.6/233.6 kB\u001b[0m \u001b[31m17.1 MB/s\u001b[0m eta \u001b[36m0:00:00\u001b[0m\n",
            "\u001b[?25hDownloading colorlog-6.9.0-py3-none-any.whl (11 kB)\n",
            "Downloading Mako-1.3.9-py3-none-any.whl (78 kB)\n",
            "\u001b[2K   \u001b[90m━━━━━━━━━━━━━━━━━━━━━━━━━━━━━━━━━━━━━━━━\u001b[0m \u001b[32m78.5/78.5 kB\u001b[0m \u001b[31m6.5 MB/s\u001b[0m eta \u001b[36m0:00:00\u001b[0m\n",
            "\u001b[?25hInstalling collected packages: Mako, colorlog, alembic, optuna\n",
            "Successfully installed Mako-1.3.9 alembic-1.14.1 colorlog-6.9.0 optuna-4.2.1\n",
            "Requirement already satisfied: transformers in /usr/local/lib/python3.11/dist-packages (4.48.3)\n",
            "Collecting datasets\n",
            "  Downloading datasets-3.3.2-py3-none-any.whl.metadata (19 kB)\n",
            "Requirement already satisfied: filelock in /usr/local/lib/python3.11/dist-packages (from transformers) (3.17.0)\n",
            "Requirement already satisfied: huggingface-hub<1.0,>=0.24.0 in /usr/local/lib/python3.11/dist-packages (from transformers) (0.28.1)\n",
            "Requirement already satisfied: numpy>=1.17 in /usr/local/lib/python3.11/dist-packages (from transformers) (1.26.4)\n",
            "Requirement already satisfied: packaging>=20.0 in /usr/local/lib/python3.11/dist-packages (from transformers) (24.2)\n",
            "Requirement already satisfied: pyyaml>=5.1 in /usr/local/lib/python3.11/dist-packages (from transformers) (6.0.2)\n",
            "Requirement already satisfied: regex!=2019.12.17 in /usr/local/lib/python3.11/dist-packages (from transformers) (2024.11.6)\n",
            "Requirement already satisfied: requests in /usr/local/lib/python3.11/dist-packages (from transformers) (2.32.3)\n",
            "Requirement already satisfied: tokenizers<0.22,>=0.21 in /usr/local/lib/python3.11/dist-packages (from transformers) (0.21.0)\n",
            "Requirement already satisfied: safetensors>=0.4.1 in /usr/local/lib/python3.11/dist-packages (from transformers) (0.5.2)\n",
            "Requirement already satisfied: tqdm>=4.27 in /usr/local/lib/python3.11/dist-packages (from transformers) (4.67.1)\n",
            "Requirement already satisfied: pyarrow>=15.0.0 in /usr/local/lib/python3.11/dist-packages (from datasets) (17.0.0)\n",
            "Collecting dill<0.3.9,>=0.3.0 (from datasets)\n",
            "  Downloading dill-0.3.8-py3-none-any.whl.metadata (10 kB)\n",
            "Requirement already satisfied: pandas in /usr/local/lib/python3.11/dist-packages (from datasets) (2.2.2)\n",
            "Collecting xxhash (from datasets)\n",
            "  Downloading xxhash-3.5.0-cp311-cp311-manylinux_2_17_x86_64.manylinux2014_x86_64.whl.metadata (12 kB)\n",
            "Collecting multiprocess<0.70.17 (from datasets)\n",
            "  Downloading multiprocess-0.70.16-py311-none-any.whl.metadata (7.2 kB)\n",
            "Requirement already satisfied: fsspec<=2024.12.0,>=2023.1.0 in /usr/local/lib/python3.11/dist-packages (from fsspec[http]<=2024.12.0,>=2023.1.0->datasets) (2024.10.0)\n",
            "Requirement already satisfied: aiohttp in /usr/local/lib/python3.11/dist-packages (from datasets) (3.11.12)\n",
            "Requirement already satisfied: aiohappyeyeballs>=2.3.0 in /usr/local/lib/python3.11/dist-packages (from aiohttp->datasets) (2.4.6)\n",
            "Requirement already satisfied: aiosignal>=1.1.2 in /usr/local/lib/python3.11/dist-packages (from aiohttp->datasets) (1.3.2)\n",
            "Requirement already satisfied: attrs>=17.3.0 in /usr/local/lib/python3.11/dist-packages (from aiohttp->datasets) (25.1.0)\n",
            "Requirement already satisfied: frozenlist>=1.1.1 in /usr/local/lib/python3.11/dist-packages (from aiohttp->datasets) (1.5.0)\n",
            "Requirement already satisfied: multidict<7.0,>=4.5 in /usr/local/lib/python3.11/dist-packages (from aiohttp->datasets) (6.1.0)\n",
            "Requirement already satisfied: propcache>=0.2.0 in /usr/local/lib/python3.11/dist-packages (from aiohttp->datasets) (0.2.1)\n",
            "Requirement already satisfied: yarl<2.0,>=1.17.0 in /usr/local/lib/python3.11/dist-packages (from aiohttp->datasets) (1.18.3)\n",
            "Requirement already satisfied: typing-extensions>=3.7.4.3 in /usr/local/lib/python3.11/dist-packages (from huggingface-hub<1.0,>=0.24.0->transformers) (4.12.2)\n",
            "Requirement already satisfied: charset-normalizer<4,>=2 in /usr/local/lib/python3.11/dist-packages (from requests->transformers) (3.4.1)\n",
            "Requirement already satisfied: idna<4,>=2.5 in /usr/local/lib/python3.11/dist-packages (from requests->transformers) (3.10)\n",
            "Requirement already satisfied: urllib3<3,>=1.21.1 in /usr/local/lib/python3.11/dist-packages (from requests->transformers) (2.3.0)\n",
            "Requirement already satisfied: certifi>=2017.4.17 in /usr/local/lib/python3.11/dist-packages (from requests->transformers) (2025.1.31)\n",
            "Requirement already satisfied: python-dateutil>=2.8.2 in /usr/local/lib/python3.11/dist-packages (from pandas->datasets) (2.8.2)\n",
            "Requirement already satisfied: pytz>=2020.1 in /usr/local/lib/python3.11/dist-packages (from pandas->datasets) (2025.1)\n",
            "Requirement already satisfied: tzdata>=2022.7 in /usr/local/lib/python3.11/dist-packages (from pandas->datasets) (2025.1)\n",
            "Requirement already satisfied: six>=1.5 in /usr/local/lib/python3.11/dist-packages (from python-dateutil>=2.8.2->pandas->datasets) (1.17.0)\n",
            "Downloading datasets-3.3.2-py3-none-any.whl (485 kB)\n",
            "\u001b[2K   \u001b[90m━━━━━━━━━━━━━━━━━━━━━━━━━━━━━━━━━━━━━━━━\u001b[0m \u001b[32m485.4/485.4 kB\u001b[0m \u001b[31m25.4 MB/s\u001b[0m eta \u001b[36m0:00:00\u001b[0m\n",
            "\u001b[?25hDownloading dill-0.3.8-py3-none-any.whl (116 kB)\n",
            "\u001b[2K   \u001b[90m━━━━━━━━━━━━━━━━━━━━━━━━━━━━━━━━━━━━━━━━\u001b[0m \u001b[32m116.3/116.3 kB\u001b[0m \u001b[31m10.8 MB/s\u001b[0m eta \u001b[36m0:00:00\u001b[0m\n",
            "\u001b[?25hDownloading multiprocess-0.70.16-py311-none-any.whl (143 kB)\n",
            "\u001b[2K   \u001b[90m━━━━━━━━━━━━━━━━━━━━━━━━━━━━━━━━━━━━━━━━\u001b[0m \u001b[32m143.5/143.5 kB\u001b[0m \u001b[31m12.6 MB/s\u001b[0m eta \u001b[36m0:00:00\u001b[0m\n",
            "\u001b[?25hDownloading xxhash-3.5.0-cp311-cp311-manylinux_2_17_x86_64.manylinux2014_x86_64.whl (194 kB)\n",
            "\u001b[2K   \u001b[90m━━━━━━━━━━━━━━━━━━━━━━━━━━━━━━━━━━━━━━━━\u001b[0m \u001b[32m194.8/194.8 kB\u001b[0m \u001b[31m15.9 MB/s\u001b[0m eta \u001b[36m0:00:00\u001b[0m\n",
            "\u001b[?25hInstalling collected packages: xxhash, dill, multiprocess, datasets\n",
            "Successfully installed datasets-3.3.2 dill-0.3.8 multiprocess-0.70.16 xxhash-3.5.0\n"
          ]
        }
      ],
      "execution_count": 2
    },
    {
      "cell_type": "markdown",
      "source": [
        "# **Loading the Dataset**"
      ],
      "metadata": {
        "id": "CDIkDrhm8Cmw"
      }
    },
    {
      "cell_type": "code",
      "source": [
        "df = pd.read_csv('/content/Deepseek Reviews Analysis.csv')\n",
        "df.head()"
      ],
      "metadata": {
        "trusted": true,
        "execution": {
          "iopub.status.busy": "2025-02-24T07:49:10.276879Z",
          "iopub.execute_input": "2025-02-24T07:49:10.277176Z",
          "iopub.status.idle": "2025-02-24T07:49:10.331839Z",
          "shell.execute_reply.started": "2025-02-24T07:49:10.277154Z",
          "shell.execute_reply": "2025-02-24T07:49:10.331144Z"
        },
        "colab": {
          "base_uri": "https://localhost:8080/",
          "height": 206
        },
        "id": "sE6YNwCF8Cmw",
        "outputId": "a54bf456-7bf4-4818-caad-77dd030a495d"
      },
      "outputs": [
        {
          "output_type": "execute_result",
          "data": {
            "text/plain": [
              "   Unnamed: 0                                            content  score  \\\n",
              "0           0  It's Great app, but an organization feature wo...      5   \n",
              "1           1  DeepSeek is an absolute game-changer! This app...      5   \n",
              "2           2  I hope this message finds you well. I’m a big ...      5   \n",
              "3           3  Subject: Issue with App Performance – Server B...      1   \n",
              "4           4  DeepSeek is a game-changer! Its AI-powered sea...      5   \n",
              "\n",
              "   thumbsUpCount                   at  \n",
              "0             54  2025-01-29 16:05:38  \n",
              "1             38  2025-01-28 19:34:25  \n",
              "2             45  2025-02-01 10:55:53  \n",
              "3            365  2025-02-01 17:58:11  \n",
              "4             10  2025-02-01 17:01:23  "
            ],
            "text/html": [
              "\n",
              "  <div id=\"df-64940941-8e28-4d1c-8106-2739c3533a6e\" class=\"colab-df-container\">\n",
              "    <div>\n",
              "<style scoped>\n",
              "    .dataframe tbody tr th:only-of-type {\n",
              "        vertical-align: middle;\n",
              "    }\n",
              "\n",
              "    .dataframe tbody tr th {\n",
              "        vertical-align: top;\n",
              "    }\n",
              "\n",
              "    .dataframe thead th {\n",
              "        text-align: right;\n",
              "    }\n",
              "</style>\n",
              "<table border=\"1\" class=\"dataframe\">\n",
              "  <thead>\n",
              "    <tr style=\"text-align: right;\">\n",
              "      <th></th>\n",
              "      <th>Unnamed: 0</th>\n",
              "      <th>content</th>\n",
              "      <th>score</th>\n",
              "      <th>thumbsUpCount</th>\n",
              "      <th>at</th>\n",
              "    </tr>\n",
              "  </thead>\n",
              "  <tbody>\n",
              "    <tr>\n",
              "      <th>0</th>\n",
              "      <td>0</td>\n",
              "      <td>It's Great app, but an organization feature wo...</td>\n",
              "      <td>5</td>\n",
              "      <td>54</td>\n",
              "      <td>2025-01-29 16:05:38</td>\n",
              "    </tr>\n",
              "    <tr>\n",
              "      <th>1</th>\n",
              "      <td>1</td>\n",
              "      <td>DeepSeek is an absolute game-changer! This app...</td>\n",
              "      <td>5</td>\n",
              "      <td>38</td>\n",
              "      <td>2025-01-28 19:34:25</td>\n",
              "    </tr>\n",
              "    <tr>\n",
              "      <th>2</th>\n",
              "      <td>2</td>\n",
              "      <td>I hope this message finds you well. I’m a big ...</td>\n",
              "      <td>5</td>\n",
              "      <td>45</td>\n",
              "      <td>2025-02-01 10:55:53</td>\n",
              "    </tr>\n",
              "    <tr>\n",
              "      <th>3</th>\n",
              "      <td>3</td>\n",
              "      <td>Subject: Issue with App Performance – Server B...</td>\n",
              "      <td>1</td>\n",
              "      <td>365</td>\n",
              "      <td>2025-02-01 17:58:11</td>\n",
              "    </tr>\n",
              "    <tr>\n",
              "      <th>4</th>\n",
              "      <td>4</td>\n",
              "      <td>DeepSeek is a game-changer! Its AI-powered sea...</td>\n",
              "      <td>5</td>\n",
              "      <td>10</td>\n",
              "      <td>2025-02-01 17:01:23</td>\n",
              "    </tr>\n",
              "  </tbody>\n",
              "</table>\n",
              "</div>\n",
              "    <div class=\"colab-df-buttons\">\n",
              "\n",
              "  <div class=\"colab-df-container\">\n",
              "    <button class=\"colab-df-convert\" onclick=\"convertToInteractive('df-64940941-8e28-4d1c-8106-2739c3533a6e')\"\n",
              "            title=\"Convert this dataframe to an interactive table.\"\n",
              "            style=\"display:none;\">\n",
              "\n",
              "  <svg xmlns=\"http://www.w3.org/2000/svg\" height=\"24px\" viewBox=\"0 -960 960 960\">\n",
              "    <path d=\"M120-120v-720h720v720H120Zm60-500h600v-160H180v160Zm220 220h160v-160H400v160Zm0 220h160v-160H400v160ZM180-400h160v-160H180v160Zm440 0h160v-160H620v160ZM180-180h160v-160H180v160Zm440 0h160v-160H620v160Z\"/>\n",
              "  </svg>\n",
              "    </button>\n",
              "\n",
              "  <style>\n",
              "    .colab-df-container {\n",
              "      display:flex;\n",
              "      gap: 12px;\n",
              "    }\n",
              "\n",
              "    .colab-df-convert {\n",
              "      background-color: #E8F0FE;\n",
              "      border: none;\n",
              "      border-radius: 50%;\n",
              "      cursor: pointer;\n",
              "      display: none;\n",
              "      fill: #1967D2;\n",
              "      height: 32px;\n",
              "      padding: 0 0 0 0;\n",
              "      width: 32px;\n",
              "    }\n",
              "\n",
              "    .colab-df-convert:hover {\n",
              "      background-color: #E2EBFA;\n",
              "      box-shadow: 0px 1px 2px rgba(60, 64, 67, 0.3), 0px 1px 3px 1px rgba(60, 64, 67, 0.15);\n",
              "      fill: #174EA6;\n",
              "    }\n",
              "\n",
              "    .colab-df-buttons div {\n",
              "      margin-bottom: 4px;\n",
              "    }\n",
              "\n",
              "    [theme=dark] .colab-df-convert {\n",
              "      background-color: #3B4455;\n",
              "      fill: #D2E3FC;\n",
              "    }\n",
              "\n",
              "    [theme=dark] .colab-df-convert:hover {\n",
              "      background-color: #434B5C;\n",
              "      box-shadow: 0px 1px 3px 1px rgba(0, 0, 0, 0.15);\n",
              "      filter: drop-shadow(0px 1px 2px rgba(0, 0, 0, 0.3));\n",
              "      fill: #FFFFFF;\n",
              "    }\n",
              "  </style>\n",
              "\n",
              "    <script>\n",
              "      const buttonEl =\n",
              "        document.querySelector('#df-64940941-8e28-4d1c-8106-2739c3533a6e button.colab-df-convert');\n",
              "      buttonEl.style.display =\n",
              "        google.colab.kernel.accessAllowed ? 'block' : 'none';\n",
              "\n",
              "      async function convertToInteractive(key) {\n",
              "        const element = document.querySelector('#df-64940941-8e28-4d1c-8106-2739c3533a6e');\n",
              "        const dataTable =\n",
              "          await google.colab.kernel.invokeFunction('convertToInteractive',\n",
              "                                                    [key], {});\n",
              "        if (!dataTable) return;\n",
              "\n",
              "        const docLinkHtml = 'Like what you see? Visit the ' +\n",
              "          '<a target=\"_blank\" href=https://colab.research.google.com/notebooks/data_table.ipynb>data table notebook</a>'\n",
              "          + ' to learn more about interactive tables.';\n",
              "        element.innerHTML = '';\n",
              "        dataTable['output_type'] = 'display_data';\n",
              "        await google.colab.output.renderOutput(dataTable, element);\n",
              "        const docLink = document.createElement('div');\n",
              "        docLink.innerHTML = docLinkHtml;\n",
              "        element.appendChild(docLink);\n",
              "      }\n",
              "    </script>\n",
              "  </div>\n",
              "\n",
              "\n",
              "<div id=\"df-3efb0ff4-5a56-4233-b41f-1d49abefdcdf\">\n",
              "  <button class=\"colab-df-quickchart\" onclick=\"quickchart('df-3efb0ff4-5a56-4233-b41f-1d49abefdcdf')\"\n",
              "            title=\"Suggest charts\"\n",
              "            style=\"display:none;\">\n",
              "\n",
              "<svg xmlns=\"http://www.w3.org/2000/svg\" height=\"24px\"viewBox=\"0 0 24 24\"\n",
              "     width=\"24px\">\n",
              "    <g>\n",
              "        <path d=\"M19 3H5c-1.1 0-2 .9-2 2v14c0 1.1.9 2 2 2h14c1.1 0 2-.9 2-2V5c0-1.1-.9-2-2-2zM9 17H7v-7h2v7zm4 0h-2V7h2v10zm4 0h-2v-4h2v4z\"/>\n",
              "    </g>\n",
              "</svg>\n",
              "  </button>\n",
              "\n",
              "<style>\n",
              "  .colab-df-quickchart {\n",
              "      --bg-color: #E8F0FE;\n",
              "      --fill-color: #1967D2;\n",
              "      --hover-bg-color: #E2EBFA;\n",
              "      --hover-fill-color: #174EA6;\n",
              "      --disabled-fill-color: #AAA;\n",
              "      --disabled-bg-color: #DDD;\n",
              "  }\n",
              "\n",
              "  [theme=dark] .colab-df-quickchart {\n",
              "      --bg-color: #3B4455;\n",
              "      --fill-color: #D2E3FC;\n",
              "      --hover-bg-color: #434B5C;\n",
              "      --hover-fill-color: #FFFFFF;\n",
              "      --disabled-bg-color: #3B4455;\n",
              "      --disabled-fill-color: #666;\n",
              "  }\n",
              "\n",
              "  .colab-df-quickchart {\n",
              "    background-color: var(--bg-color);\n",
              "    border: none;\n",
              "    border-radius: 50%;\n",
              "    cursor: pointer;\n",
              "    display: none;\n",
              "    fill: var(--fill-color);\n",
              "    height: 32px;\n",
              "    padding: 0;\n",
              "    width: 32px;\n",
              "  }\n",
              "\n",
              "  .colab-df-quickchart:hover {\n",
              "    background-color: var(--hover-bg-color);\n",
              "    box-shadow: 0 1px 2px rgba(60, 64, 67, 0.3), 0 1px 3px 1px rgba(60, 64, 67, 0.15);\n",
              "    fill: var(--button-hover-fill-color);\n",
              "  }\n",
              "\n",
              "  .colab-df-quickchart-complete:disabled,\n",
              "  .colab-df-quickchart-complete:disabled:hover {\n",
              "    background-color: var(--disabled-bg-color);\n",
              "    fill: var(--disabled-fill-color);\n",
              "    box-shadow: none;\n",
              "  }\n",
              "\n",
              "  .colab-df-spinner {\n",
              "    border: 2px solid var(--fill-color);\n",
              "    border-color: transparent;\n",
              "    border-bottom-color: var(--fill-color);\n",
              "    animation:\n",
              "      spin 1s steps(1) infinite;\n",
              "  }\n",
              "\n",
              "  @keyframes spin {\n",
              "    0% {\n",
              "      border-color: transparent;\n",
              "      border-bottom-color: var(--fill-color);\n",
              "      border-left-color: var(--fill-color);\n",
              "    }\n",
              "    20% {\n",
              "      border-color: transparent;\n",
              "      border-left-color: var(--fill-color);\n",
              "      border-top-color: var(--fill-color);\n",
              "    }\n",
              "    30% {\n",
              "      border-color: transparent;\n",
              "      border-left-color: var(--fill-color);\n",
              "      border-top-color: var(--fill-color);\n",
              "      border-right-color: var(--fill-color);\n",
              "    }\n",
              "    40% {\n",
              "      border-color: transparent;\n",
              "      border-right-color: var(--fill-color);\n",
              "      border-top-color: var(--fill-color);\n",
              "    }\n",
              "    60% {\n",
              "      border-color: transparent;\n",
              "      border-right-color: var(--fill-color);\n",
              "    }\n",
              "    80% {\n",
              "      border-color: transparent;\n",
              "      border-right-color: var(--fill-color);\n",
              "      border-bottom-color: var(--fill-color);\n",
              "    }\n",
              "    90% {\n",
              "      border-color: transparent;\n",
              "      border-bottom-color: var(--fill-color);\n",
              "    }\n",
              "  }\n",
              "</style>\n",
              "\n",
              "  <script>\n",
              "    async function quickchart(key) {\n",
              "      const quickchartButtonEl =\n",
              "        document.querySelector('#' + key + ' button');\n",
              "      quickchartButtonEl.disabled = true;  // To prevent multiple clicks.\n",
              "      quickchartButtonEl.classList.add('colab-df-spinner');\n",
              "      try {\n",
              "        const charts = await google.colab.kernel.invokeFunction(\n",
              "            'suggestCharts', [key], {});\n",
              "      } catch (error) {\n",
              "        console.error('Error during call to suggestCharts:', error);\n",
              "      }\n",
              "      quickchartButtonEl.classList.remove('colab-df-spinner');\n",
              "      quickchartButtonEl.classList.add('colab-df-quickchart-complete');\n",
              "    }\n",
              "    (() => {\n",
              "      let quickchartButtonEl =\n",
              "        document.querySelector('#df-3efb0ff4-5a56-4233-b41f-1d49abefdcdf button');\n",
              "      quickchartButtonEl.style.display =\n",
              "        google.colab.kernel.accessAllowed ? 'block' : 'none';\n",
              "    })();\n",
              "  </script>\n",
              "</div>\n",
              "\n",
              "    </div>\n",
              "  </div>\n"
            ],
            "application/vnd.google.colaboratory.intrinsic+json": {
              "type": "dataframe",
              "variable_name": "df",
              "summary": "{\n  \"name\": \"df\",\n  \"rows\": 15124,\n  \"fields\": [\n    {\n      \"column\": \"Unnamed: 0\",\n      \"properties\": {\n        \"dtype\": \"number\",\n        \"std\": 4366,\n        \"min\": 0,\n        \"max\": 15123,\n        \"num_unique_values\": 15124,\n        \"samples\": [\n          4860,\n          8639,\n          8544\n        ],\n        \"semantic_type\": \"\",\n        \"description\": \"\"\n      }\n    },\n    {\n      \"column\": \"content\",\n      \"properties\": {\n        \"dtype\": \"string\",\n        \"num_unique_values\": 13454,\n        \"samples\": [\n          \"We need voice chat for better experience .\",\n          \"Many times it responds very lately and it's server also busy for several times.\",\n          \"Faster then openAi\"\n        ],\n        \"semantic_type\": \"\",\n        \"description\": \"\"\n      }\n    },\n    {\n      \"column\": \"score\",\n      \"properties\": {\n        \"dtype\": \"number\",\n        \"std\": 1,\n        \"min\": 1,\n        \"max\": 5,\n        \"num_unique_values\": 5,\n        \"samples\": [\n          1,\n          2,\n          4\n        ],\n        \"semantic_type\": \"\",\n        \"description\": \"\"\n      }\n    },\n    {\n      \"column\": \"thumbsUpCount\",\n      \"properties\": {\n        \"dtype\": \"number\",\n        \"std\": 101,\n        \"min\": 0,\n        \"max\": 9097,\n        \"num_unique_values\": 109,\n        \"samples\": [\n          394,\n          6,\n          10\n        ],\n        \"semantic_type\": \"\",\n        \"description\": \"\"\n      }\n    },\n    {\n      \"column\": \"at\",\n      \"properties\": {\n        \"dtype\": \"object\",\n        \"num_unique_values\": 14865,\n        \"samples\": [\n          \"2025-01-30 19:20:29\",\n          \"2025-01-28 17:32:35\",\n          \"2025-02-01 15:19:46\"\n        ],\n        \"semantic_type\": \"\",\n        \"description\": \"\"\n      }\n    }\n  ]\n}"
            }
          },
          "metadata": {},
          "execution_count": 3
        }
      ],
      "execution_count": 3
    },
    {
      "cell_type": "markdown",
      "source": [
        "# **Dropping Irrelevant Features**"
      ],
      "metadata": {
        "id": "YXEUVfTb8Cmx"
      }
    },
    {
      "cell_type": "code",
      "source": [
        "df = df.drop(columns = ['Unnamed: 0', 'thumbsUpCount', 'at'], axis = 1)"
      ],
      "metadata": {
        "trusted": true,
        "execution": {
          "iopub.status.busy": "2025-02-24T07:49:10.333085Z",
          "iopub.execute_input": "2025-02-24T07:49:10.333385Z",
          "iopub.status.idle": "2025-02-24T07:49:10.33775Z",
          "shell.execute_reply.started": "2025-02-24T07:49:10.333355Z",
          "shell.execute_reply": "2025-02-24T07:49:10.33694Z"
        },
        "id": "aR1U_cxZ8Cmx"
      },
      "outputs": [],
      "execution_count": 4
    },
    {
      "cell_type": "markdown",
      "source": [
        "# **Exploratory Data Analysis**"
      ],
      "metadata": {
        "id": "KQWOfEjJ8Cmy"
      }
    },
    {
      "cell_type": "markdown",
      "source": [
        "# **Heatmap To Visualize the Missing Values**"
      ],
      "metadata": {
        "id": "mIMhJ2Ao8Cmy"
      }
    },
    {
      "cell_type": "code",
      "source": [
        "missing_values = df.isnull()\n",
        "\n",
        "# Plotting missing values heatmap\n",
        "plt.figure(figsize = (8, 6))\n",
        "sns.heatmap(missing_values, cmap = 'viridis', cbar = True)\n",
        "plt.title('Missing Values Heatmap')\n",
        "plt.xlabel('Features')\n",
        "plt.ylabel('Data Points')\n",
        "plt.show()"
      ],
      "metadata": {
        "trusted": true,
        "execution": {
          "iopub.status.busy": "2025-02-24T07:49:10.339639Z",
          "iopub.execute_input": "2025-02-24T07:49:10.339879Z",
          "iopub.status.idle": "2025-02-24T07:49:10.773453Z",
          "shell.execute_reply.started": "2025-02-24T07:49:10.339858Z",
          "shell.execute_reply": "2025-02-24T07:49:10.772568Z"
        },
        "colab": {
          "base_uri": "https://localhost:8080/",
          "height": 564
        },
        "id": "0-Kwy-AF8Cmy",
        "outputId": "a42fa746-11ef-4271-8ac3-fe0d91403ab9"
      },
      "outputs": [
        {
          "output_type": "display_data",
          "data": {
            "text/plain": [
              "<Figure size 800x600 with 2 Axes>"
            ],
            "image/png": "[encoded data removed]"
          },
          "metadata": {}
        }
      ],
      "execution_count": 5
    },
    {
      "cell_type": "markdown",
      "source": [
        "# **Plotting the Distribution of Labels**"
      ],
      "metadata": {
        "id": "xHMKJvc28Cmz"
      }
    },
    {
      "cell_type": "code",
      "source": [
        "plt.figure(figsize = (6, 4))\n",
        "df['score'].value_counts().plot(kind = 'bar', color = ['skyblue', 'lightcoral'])\n",
        "plt.title('Distribution of Labels')\n",
        "plt.xlabel('Sentiment Labels')\n",
        "plt.ylabel('Count')\n",
        "plt.show()\n",
        "\n",
        "print(df['score'].value_counts())"
      ],
      "metadata": {
        "trusted": true,
        "execution": {
          "iopub.status.busy": "2025-02-24T07:49:10.774927Z",
          "iopub.execute_input": "2025-02-24T07:49:10.775232Z",
          "iopub.status.idle": "2025-02-24T07:49:10.924614Z",
          "shell.execute_reply.started": "2025-02-24T07:49:10.775209Z",
          "shell.execute_reply": "2025-02-24T07:49:10.923672Z"
        },
        "colab": {
          "base_uri": "https://localhost:8080/",
          "height": 526
        },
        "id": "_l5H6KSM8Cmz",
        "outputId": "0b651132-673a-442e-89e6-5332da765935"
      },
      "outputs": [
        {
          "output_type": "display_data",
          "data": {
            "text/plain": [
              "<Figure size 600x400 with 1 Axes>"
            ],
            "image/png": "[encoded data removed]"
          },
          "metadata": {}
        },
        {
          "output_type": "stream",
          "name": "stdout",
          "text": [
            "score\n",
            "5    10009\n",
            "1     3197\n",
            "4      842\n",
            "3      622\n",
            "2      454\n",
            "Name: count, dtype: int64\n"
          ]
        }
      ],
      "execution_count": 6
    },
    {
      "cell_type": "markdown",
      "source": [
        "# **Merging the Scores 5, 4 and 3 into 1 (positive) & 2, 1 into 0 (negative) Class**"
      ],
      "metadata": {
        "id": "nACF1MgD8Cmz"
      }
    },
    {
      "cell_type": "code",
      "source": [
        "df['score'] = df['score'].apply(lambda x: 1 if x in [3, 4, 5] else 0)"
      ],
      "metadata": {
        "trusted": true,
        "execution": {
          "iopub.status.busy": "2025-02-24T07:49:10.925509Z",
          "iopub.execute_input": "2025-02-24T07:49:10.925792Z",
          "iopub.status.idle": "2025-02-24T07:49:10.935659Z",
          "shell.execute_reply.started": "2025-02-24T07:49:10.92577Z",
          "shell.execute_reply": "2025-02-24T07:49:10.93472Z"
        },
        "id": "3E-fHkZ98Cmz"
      },
      "outputs": [],
      "execution_count": 7
    },
    {
      "cell_type": "markdown",
      "source": [
        "# **Plotting the Updated Distribution of Labels**"
      ],
      "metadata": {
        "id": "LhLqJ-oA8Cm0"
      }
    },
    {
      "cell_type": "code",
      "source": [
        "plt.figure(figsize = (6, 4))\n",
        "df['score'].value_counts().plot(kind = 'bar', color = ['skyblue', 'lightcoral'])\n",
        "plt.title('Distribution of Labels')\n",
        "plt.xlabel('Sentiment Labels')\n",
        "plt.ylabel('Count')\n",
        "plt.show()"
      ],
      "metadata": {
        "trusted": true,
        "execution": {
          "iopub.status.busy": "2025-02-24T07:49:10.936538Z",
          "iopub.execute_input": "2025-02-24T07:49:10.936853Z",
          "iopub.status.idle": "2025-02-24T07:49:11.096761Z",
          "shell.execute_reply.started": "2025-02-24T07:49:10.936821Z",
          "shell.execute_reply": "2025-02-24T07:49:11.095866Z"
        },
        "colab": {
          "base_uri": "https://localhost:8080/",
          "height": 405
        },
        "id": "xXhz7QKk8Cm0",
        "outputId": "1f4d0190-a77d-469b-e118-9438acd9e177"
      },
      "outputs": [
        {
          "output_type": "display_data",
          "data": {
            "text/plain": [
              "<Figure size 600x400 with 1 Axes>"
            ],
            "image/png": "[encoded data removed]"
          },
          "metadata": {}
        }
      ],
      "execution_count": 8
    },
    {
      "cell_type": "markdown",
      "source": [
        "# **Pie Chart for Proportions**"
      ],
      "metadata": {
        "id": "dYtWT7vv8Cm0"
      }
    },
    {
      "cell_type": "code",
      "source": [
        "score_counts = df['score'].value_counts().sort_index()\n",
        "plt.figure(figsize=(4, 4))\n",
        "plt.pie(score_counts, labels=score_counts.index, autopct='%1.1f%%', colors=sns.color_palette('coolwarm'))\n",
        "plt.title('Proportion of Sentiment Scores')\n",
        "plt.show()"
      ],
      "metadata": {
        "trusted": true,
        "execution": {
          "iopub.status.busy": "2025-02-24T07:49:11.097702Z",
          "iopub.execute_input": "2025-02-24T07:49:11.09808Z",
          "iopub.status.idle": "2025-02-24T07:49:11.183367Z",
          "shell.execute_reply.started": "2025-02-24T07:49:11.098045Z",
          "shell.execute_reply": "2025-02-24T07:49:11.182466Z"
        },
        "colab": {
          "base_uri": "https://localhost:8080/",
          "height": 367
        },
        "id": "0UMlxasv8Cm0",
        "outputId": "30937284-c12e-4908-c8b1-b36c6977ce5c"
      },
      "outputs": [
        {
          "output_type": "display_data",
          "data": {
            "text/plain": [
              "<Figure size 400x400 with 1 Axes>"
            ],
            "image/png": "[encoded data removed]"
          },
          "metadata": {}
        }
      ],
      "execution_count": 9
    },
    {
      "cell_type": "markdown",
      "source": [
        "**We can see that there is class imbalance which needs to be fixed**"
      ],
      "metadata": {
        "id": "S08rGR408Cm0"
      }
    },
    {
      "cell_type": "markdown",
      "source": [
        "# **Data Pre-Processing**"
      ],
      "metadata": {
        "id": "UdzU61h18Cm0"
      }
    },
    {
      "cell_type": "markdown",
      "source": [
        "# **Converting the 'Text' Column to Lowercase**"
      ],
      "metadata": {
        "id": "uwZMnzxa8Cm0"
      }
    },
    {
      "cell_type": "code",
      "source": [
        "df['content'] = df['content'].str.lower()\n",
        "df.head()"
      ],
      "metadata": {
        "trusted": true,
        "execution": {
          "iopub.status.busy": "2025-02-24T07:49:11.184886Z",
          "iopub.execute_input": "2025-02-24T07:49:11.18514Z",
          "iopub.status.idle": "2025-02-24T07:49:11.199581Z",
          "shell.execute_reply.started": "2025-02-24T07:49:11.18512Z",
          "shell.execute_reply": "2025-02-24T07:49:11.19869Z"
        },
        "colab": {
          "base_uri": "https://localhost:8080/",
          "height": 206
        },
        "id": "m-CDDYZ98Cm1",
        "outputId": "defdbcbd-ecad-4ece-c2ce-2fe6036bb1d5"
      },
      "outputs": [
        {
          "output_type": "execute_result",
          "data": {
            "text/plain": [
              "                                             content  score\n",
              "0  it's great app, but an organization feature wo...      1\n",
              "1  deepseek is an absolute game-changer! this app...      1\n",
              "2  i hope this message finds you well. i’m a big ...      1\n",
              "3  subject: issue with app performance – server b...      0\n",
              "4  deepseek is a game-changer! its ai-powered sea...      1"
            ],
            "text/html": [
              "\n",
              "  <div id=\"df-c408e69d-a8bf-4f0d-9cac-e59855e7b4ca\" class=\"colab-df-container\">\n",
              "    <div>\n",
              "<style scoped>\n",
              "    .dataframe tbody tr th:only-of-type {\n",
              "        vertical-align: middle;\n",
              "    }\n",
              "\n",
              "    .dataframe tbody tr th {\n",
              "        vertical-align: top;\n",
              "    }\n",
              "\n",
              "    .dataframe thead th {\n",
              "        text-align: right;\n",
              "    }\n",
              "</style>\n",
              "<table border=\"1\" class=\"dataframe\">\n",
              "  <thead>\n",
              "    <tr style=\"text-align: right;\">\n",
              "      <th></th>\n",
              "      <th>content</th>\n",
              "      <th>score</th>\n",
              "    </tr>\n",
              "  </thead>\n",
              "  <tbody>\n",
              "    <tr>\n",
              "      <th>0</th>\n",
              "      <td>it's great app, but an organization feature wo...</td>\n",
              "      <td>1</td>\n",
              "    </tr>\n",
              "    <tr>\n",
              "      <th>1</th>\n",
              "      <td>deepseek is an absolute game-changer! this app...</td>\n",
              "      <td>1</td>\n",
              "    </tr>\n",
              "    <tr>\n",
              "      <th>2</th>\n",
              "      <td>i hope this message finds you well. i’m a big ...</td>\n",
              "      <td>1</td>\n",
              "    </tr>\n",
              "    <tr>\n",
              "      <th>3</th>\n",
              "      <td>subject: issue with app performance – server b...</td>\n",
              "      <td>0</td>\n",
              "    </tr>\n",
              "    <tr>\n",
              "      <th>4</th>\n",
              "      <td>deepseek is a game-changer! its ai-powered sea...</td>\n",
              "      <td>1</td>\n",
              "    </tr>\n",
              "  </tbody>\n",
              "</table>\n",
              "</div>\n",
              "    <div class=\"colab-df-buttons\">\n",
              "\n",
              "  <div class=\"colab-df-container\">\n",
              "    <button class=\"colab-df-convert\" onclick=\"convertToInteractive('df-c408e69d-a8bf-4f0d-9cac-e59855e7b4ca')\"\n",
              "            title=\"Convert this dataframe to an interactive table.\"\n",
              "            style=\"display:none;\">\n",
              "\n",
              "  <svg xmlns=\"http://www.w3.org/2000/svg\" height=\"24px\" viewBox=\"0 -960 960 960\">\n",
              "    <path d=\"M120-120v-720h720v720H120Zm60-500h600v-160H180v160Zm220 220h160v-160H400v160Zm0 220h160v-160H400v160ZM180-400h160v-160H180v160Zm440 0h160v-160H620v160ZM180-180h160v-160H180v160Zm440 0h160v-160H620v160Z\"/>\n",
              "  </svg>\n",
              "    </button>\n",
              "\n",
              "  <style>\n",
              "    .colab-df-container {\n",
              "      display:flex;\n",
              "      gap: 12px;\n",
              "    }\n",
              "\n",
              "    .colab-df-convert {\n",
              "      background-color: #E8F0FE;\n",
              "      border: none;\n",
              "      border-radius: 50%;\n",
              "      cursor: pointer;\n",
              "      display: none;\n",
              "      fill: #1967D2;\n",
              "      height: 32px;\n",
              "      padding: 0 0 0 0;\n",
              "      width: 32px;\n",
              "    }\n",
              "\n",
              "    .colab-df-convert:hover {\n",
              "      background-color: #E2EBFA;\n",
              "      box-shadow: 0px 1px 2px rgba(60, 64, 67, 0.3), 0px 1px 3px 1px rgba(60, 64, 67, 0.15);\n",
              "      fill: #174EA6;\n",
              "    }\n",
              "\n",
              "    .colab-df-buttons div {\n",
              "      margin-bottom: 4px;\n",
              "    }\n",
              "\n",
              "    [theme=dark] .colab-df-convert {\n",
              "      background-color: #3B4455;\n",
              "      fill: #D2E3FC;\n",
              "    }\n",
              "\n",
              "    [theme=dark] .colab-df-convert:hover {\n",
              "      background-color: #434B5C;\n",
              "      box-shadow: 0px 1px 3px 1px rgba(0, 0, 0, 0.15);\n",
              "      filter: drop-shadow(0px 1px 2px rgba(0, 0, 0, 0.3));\n",
              "      fill: #FFFFFF;\n",
              "    }\n",
              "  </style>\n",
              "\n",
              "    <script>\n",
              "      const buttonEl =\n",
              "        document.querySelector('#df-c408e69d-a8bf-4f0d-9cac-e59855e7b4ca button.colab-df-convert');\n",
              "      buttonEl.style.display =\n",
              "        google.colab.kernel.accessAllowed ? 'block' : 'none';\n",
              "\n",
              "      async function convertToInteractive(key) {\n",
              "        const element = document.querySelector('#df-c408e69d-a8bf-4f0d-9cac-e59855e7b4ca');\n",
              "        const dataTable =\n",
              "          await google.colab.kernel.invokeFunction('convertToInteractive',\n",
              "                                                    [key], {});\n",
              "        if (!dataTable) return;\n",
              "\n",
              "        const docLinkHtml = 'Like what you see? Visit the ' +\n",
              "          '<a target=\"_blank\" href=https://colab.research.google.com/notebooks/data_table.ipynb>data table notebook</a>'\n",
              "          + ' to learn more about interactive tables.';\n",
              "        element.innerHTML = '';\n",
              "        dataTable['output_type'] = 'display_data';\n",
              "        await google.colab.output.renderOutput(dataTable, element);\n",
              "        const docLink = document.createElement('div');\n",
              "        docLink.innerHTML = docLinkHtml;\n",
              "        element.appendChild(docLink);\n",
              "      }\n",
              "    </script>\n",
              "  </div>\n",
              "\n",
              "\n",
              "<div id=\"df-20223ea5-1c6a-4746-9d59-dd6423cd2608\">\n",
              "  <button class=\"colab-df-quickchart\" onclick=\"quickchart('df-20223ea5-1c6a-4746-9d59-dd6423cd2608')\"\n",
              "            title=\"Suggest charts\"\n",
              "            style=\"display:none;\">\n",
              "\n",
              "<svg xmlns=\"http://www.w3.org/2000/svg\" height=\"24px\"viewBox=\"0 0 24 24\"\n",
              "     width=\"24px\">\n",
              "    <g>\n",
              "        <path d=\"M19 3H5c-1.1 0-2 .9-2 2v14c0 1.1.9 2 2 2h14c1.1 0 2-.9 2-2V5c0-1.1-.9-2-2-2zM9 17H7v-7h2v7zm4 0h-2V7h2v10zm4 0h-2v-4h2v4z\"/>\n",
              "    </g>\n",
              "</svg>\n",
              "  </button>\n",
              "\n",
              "<style>\n",
              "  .colab-df-quickchart {\n",
              "      --bg-color: #E8F0FE;\n",
              "      --fill-color: #1967D2;\n",
              "      --hover-bg-color: #E2EBFA;\n",
              "      --hover-fill-color: #174EA6;\n",
              "      --disabled-fill-color: #AAA;\n",
              "      --disabled-bg-color: #DDD;\n",
              "  }\n",
              "\n",
              "  [theme=dark] .colab-df-quickchart {\n",
              "      --bg-color: #3B4455;\n",
              "      --fill-color: #D2E3FC;\n",
              "      --hover-bg-color: #434B5C;\n",
              "      --hover-fill-color: #FFFFFF;\n",
              "      --disabled-bg-color: #3B4455;\n",
              "      --disabled-fill-color: #666;\n",
              "  }\n",
              "\n",
              "  .colab-df-quickchart {\n",
              "    background-color: var(--bg-color);\n",
              "    border: none;\n",
              "    border-radius: 50%;\n",
              "    cursor: pointer;\n",
              "    display: none;\n",
              "    fill: var(--fill-color);\n",
              "    height: 32px;\n",
              "    padding: 0;\n",
              "    width: 32px;\n",
              "  }\n",
              "\n",
              "  .colab-df-quickchart:hover {\n",
              "    background-color: var(--hover-bg-color);\n",
              "    box-shadow: 0 1px 2px rgba(60, 64, 67, 0.3), 0 1px 3px 1px rgba(60, 64, 67, 0.15);\n",
              "    fill: var(--button-hover-fill-color);\n",
              "  }\n",
              "\n",
              "  .colab-df-quickchart-complete:disabled,\n",
              "  .colab-df-quickchart-complete:disabled:hover {\n",
              "    background-color: var(--disabled-bg-color);\n",
              "    fill: var(--disabled-fill-color);\n",
              "    box-shadow: none;\n",
              "  }\n",
              "\n",
              "  .colab-df-spinner {\n",
              "    border: 2px solid var(--fill-color);\n",
              "    border-color: transparent;\n",
              "    border-bottom-color: var(--fill-color);\n",
              "    animation:\n",
              "      spin 1s steps(1) infinite;\n",
              "  }\n",
              "\n",
              "  @keyframes spin {\n",
              "    0% {\n",
              "      border-color: transparent;\n",
              "      border-bottom-color: var(--fill-color);\n",
              "      border-left-color: var(--fill-color);\n",
              "    }\n",
              "    20% {\n",
              "      border-color: transparent;\n",
              "      border-left-color: var(--fill-color);\n",
              "      border-top-color: var(--fill-color);\n",
              "    }\n",
              "    30% {\n",
              "      border-color: transparent;\n",
              "      border-left-color: var(--fill-color);\n",
              "      border-top-color: var(--fill-color);\n",
              "      border-right-color: var(--fill-color);\n",
              "    }\n",
              "    40% {\n",
              "      border-color: transparent;\n",
              "      border-right-color: var(--fill-color);\n",
              "      border-top-color: var(--fill-color);\n",
              "    }\n",
              "    60% {\n",
              "      border-color: transparent;\n",
              "      border-right-color: var(--fill-color);\n",
              "    }\n",
              "    80% {\n",
              "      border-color: transparent;\n",
              "      border-right-color: var(--fill-color);\n",
              "      border-bottom-color: var(--fill-color);\n",
              "    }\n",
              "    90% {\n",
              "      border-color: transparent;\n",
              "      border-bottom-color: var(--fill-color);\n",
              "    }\n",
              "  }\n",
              "</style>\n",
              "\n",
              "  <script>\n",
              "    async function quickchart(key) {\n",
              "      const quickchartButtonEl =\n",
              "        document.querySelector('#' + key + ' button');\n",
              "      quickchartButtonEl.disabled = true;  // To prevent multiple clicks.\n",
              "      quickchartButtonEl.classList.add('colab-df-spinner');\n",
              "      try {\n",
              "        const charts = await google.colab.kernel.invokeFunction(\n",
              "            'suggestCharts', [key], {});\n",
              "      } catch (error) {\n",
              "        console.error('Error during call to suggestCharts:', error);\n",
              "      }\n",
              "      quickchartButtonEl.classList.remove('colab-df-spinner');\n",
              "      quickchartButtonEl.classList.add('colab-df-quickchart-complete');\n",
              "    }\n",
              "    (() => {\n",
              "      let quickchartButtonEl =\n",
              "        document.querySelector('#df-20223ea5-1c6a-4746-9d59-dd6423cd2608 button');\n",
              "      quickchartButtonEl.style.display =\n",
              "        google.colab.kernel.accessAllowed ? 'block' : 'none';\n",
              "    })();\n",
              "  </script>\n",
              "</div>\n",
              "\n",
              "    </div>\n",
              "  </div>\n"
            ],
            "application/vnd.google.colaboratory.intrinsic+json": {
              "type": "dataframe",
              "variable_name": "df",
              "summary": "{\n  \"name\": \"df\",\n  \"rows\": 15124,\n  \"fields\": [\n    {\n      \"column\": \"content\",\n      \"properties\": {\n        \"dtype\": \"string\",\n        \"num_unique_values\": 13227,\n        \"samples\": [\n          \"best ai tool for coding and programming purpose\",\n          \"slow as hellll\",\n          \"adding the human like thinking in light font while waiting to answer is a kickass decision.\"\n        ],\n        \"semantic_type\": \"\",\n        \"description\": \"\"\n      }\n    },\n    {\n      \"column\": \"score\",\n      \"properties\": {\n        \"dtype\": \"number\",\n        \"std\": 0,\n        \"min\": 0,\n        \"max\": 1,\n        \"num_unique_values\": 2,\n        \"samples\": [\n          0,\n          1\n        ],\n        \"semantic_type\": \"\",\n        \"description\": \"\"\n      }\n    }\n  ]\n}"
            }
          },
          "metadata": {},
          "execution_count": 10
        }
      ],
      "execution_count": 10
    },
    {
      "cell_type": "markdown",
      "source": [
        "# **Removing the HTML Tags (If Any)**"
      ],
      "metadata": {
        "id": "NQQ3mXiX8Cm1"
      }
    },
    {
      "cell_type": "code",
      "source": [
        "def remove_html_tags(text):\n",
        "    soup = BeautifulSoup(text, 'html.parser')\n",
        "    return soup.get_text()\n",
        "\n",
        "# Removing HTML tags from 'content' column\n",
        "df['content'] = df['content'].apply(remove_html_tags)"
      ],
      "metadata": {
        "trusted": true,
        "execution": {
          "iopub.status.busy": "2025-02-24T07:49:11.200786Z",
          "iopub.execute_input": "2025-02-24T07:49:11.201073Z",
          "iopub.status.idle": "2025-02-24T07:49:11.707043Z",
          "shell.execute_reply.started": "2025-02-24T07:49:11.201048Z",
          "shell.execute_reply": "2025-02-24T07:49:11.706322Z"
        },
        "id": "LThiDUTf8Cm1"
      },
      "outputs": [],
      "execution_count": 11
    },
    {
      "cell_type": "markdown",
      "source": [
        "# **Removing URLs (If Any)**"
      ],
      "metadata": {
        "id": "qjJqmsjO8Cm1"
      }
    },
    {
      "cell_type": "code",
      "source": [
        "def remove_urls(text):\n",
        "    return re.sub(r'http\\S+|www\\S+', '', text)\n",
        "\n",
        "# Applying the function to the 'content' column\n",
        "df['content'] = df['content'].apply(remove_urls)"
      ],
      "metadata": {
        "trusted": true,
        "id": "lqk211-68Cm1"
      },
      "outputs": [],
      "execution_count": 12
    },
    {
      "cell_type": "markdown",
      "source": [
        "# **Remove Punctuations**"
      ],
      "metadata": {
        "id": "e7dB1fHD8hZP"
      }
    },
    {
      "cell_type": "code",
      "source": [
        "# Defining the punctuation characters to remove\n",
        "punctuation = string.punctuation\n",
        "\n",
        "# Function to remove punctuation from text\n",
        "def remove_punctuation(text):\n",
        "    return text.translate(str.maketrans('', '', punctuation))\n",
        "\n",
        "# Applying the remove_punctuation function to 'content' column\n",
        "df['content'] = df['content'].apply(remove_punctuation)"
      ],
      "metadata": {
        "id": "OcxBhGjQ8dGA"
      },
      "execution_count": 13,
      "outputs": []
    },
    {
      "cell_type": "markdown",
      "source": [
        "# **Handling ChatWords**"
      ],
      "metadata": {
        "id": "bGuzGtPc84ri"
      }
    },
    {
      "cell_type": "code",
      "source": [
        "# Defining a dictionary of chat word mappings\n",
        "chat_words = {\n",
        "    \"AFAIK\": \"As Far As I Know\",\n",
        "    \"AFK\": \"Away From Keyboard\",\n",
        "    \"ASAP\": \"As Soon As Possible\",\n",
        "    \"ATK\": \"At The Keyboard\",\n",
        "    \"ATM\": \"At The Moment\",\n",
        "    \"A3\": \"Anytime, Anywhere, Anyplace\",\n",
        "    \"BAK\": \"Back At Keyboard\",\n",
        "    \"BBL\": \"Be Back Later\",\n",
        "    \"BBS\": \"Be Back Soon\",\n",
        "    \"BFN\": \"Bye For Now\",\n",
        "    \"B4N\": \"Bye For Now\",\n",
        "    \"BRB\": \"Be Right Back\",\n",
        "    \"BRT\": \"Be Right There\",\n",
        "    \"BTW\": \"By The Way\",\n",
        "    \"B4\": \"Before\",\n",
        "    \"B4N\": \"Bye For Now\",\n",
        "    \"CU\": \"See You\",\n",
        "    \"CUL8R\": \"See You Later\",\n",
        "    \"CYA\": \"See You\",\n",
        "    \"FAQ\": \"Frequently Asked Questions\",\n",
        "    \"FC\": \"Fingers Crossed\",\n",
        "    \"FWIW\": \"For What It's Worth\",\n",
        "    \"FYI\": \"For Your Information\",\n",
        "    \"GAL\": \"Get A Life\",\n",
        "    \"GG\": \"Good Game\",\n",
        "    \"GN\": \"Good Night\",\n",
        "    \"GMTA\": \"Great Minds Think Alike\",\n",
        "    \"GR8\": \"Great!\",\n",
        "    \"G9\": \"Genius\",\n",
        "    \"IC\": \"I See\",\n",
        "    \"ICQ\": \"I Seek you (also a chat program)\",\n",
        "    \"ILU\": \"ILU: I Love You\",\n",
        "    \"IMHO\": \"In My Honest/Humble Opinion\",\n",
        "    \"IMO\": \"In My Opinion\",\n",
        "    \"IOW\": \"In Other Words\",\n",
        "    \"IRL\": \"In Real Life\",\n",
        "    \"KISS\": \"Keep It Simple, Stupid\",\n",
        "    \"LDR\": \"Long Distance Relationship\",\n",
        "    \"LMAO\": \"Laugh My A.. Off\",\n",
        "    \"LOL\": \"Laughing Out Loud\",\n",
        "    \"LTNS\": \"Long Time No See\",\n",
        "    \"L8R\": \"Later\",\n",
        "    \"MTE\": \"My Thoughts Exactly\",\n",
        "    \"M8\": \"Mate\",\n",
        "    \"NRN\": \"No Reply Necessary\",\n",
        "    \"OIC\": \"Oh I See\",\n",
        "    \"PITA\": \"Pain In The A..\",\n",
        "    \"PRT\": \"Party\",\n",
        "    \"PRW\": \"Parents Are Watching\",\n",
        "    \"QPSA?\": \"Que Pasa?\",\n",
        "    \"ROFL\": \"Rolling On The Floor Laughing\",\n",
        "    \"ROFLOL\": \"Rolling On The Floor Laughing Out Loud\",\n",
        "    \"ROTFLMAO\": \"Rolling On The Floor Laughing My A.. Off\",\n",
        "    \"SK8\": \"Skate\",\n",
        "    \"STATS\": \"Your sex and age\",\n",
        "    \"ASL\": \"Age, Sex, Location\",\n",
        "    \"THX\": \"Thank You\",\n",
        "    \"TTFN\": \"Ta-Ta For Now!\",\n",
        "    \"TTYL\": \"Talk To You Later\",\n",
        "    \"U\": \"You\",\n",
        "    \"U2\": \"You Too\",\n",
        "    \"U4E\": \"Yours For Ever\",\n",
        "    \"WB\": \"Welcome Back\",\n",
        "    \"WTF\": \"What The F...\",\n",
        "    \"WTG\": \"Way To Go!\",\n",
        "    \"WUF\": \"Where Are You From?\",\n",
        "    \"W8\": \"Wait...\",\n",
        "    \"7K\": \"Sick:-D Laugher\",\n",
        "    \"TFW\": \"That feeling when\",\n",
        "    \"MFW\": \"My face when\",\n",
        "    \"MRW\": \"My reaction when\",\n",
        "    \"IFYP\": \"I feel your pain\",\n",
        "    \"TNTL\": \"Trying not to laugh\",\n",
        "    \"JK\": \"Just kidding\",\n",
        "    \"IDC\": \"I don't care\",\n",
        "    \"ILY\": \"I love you\",\n",
        "    \"IMU\": \"I miss you\",\n",
        "    \"ADIH\": \"Another day in hell\",\n",
        "    \"ZZZ\": \"Sleeping, bored, tired\",\n",
        "    \"WYWH\": \"Wish you were here\",\n",
        "    \"TIME\": \"Tears in my eyes\",\n",
        "    \"BAE\": \"Before anyone else\",\n",
        "    \"FIMH\": \"Forever in my heart\",\n",
        "    \"BSAAW\": \"Big smile and a wink\",\n",
        "    \"BWL\": \"Bursting with laughter\",\n",
        "    \"BFF\": \"Best friends forever\",\n",
        "    \"CSL\": \"Can't stop laughing\"\n",
        "}\n",
        "# Function to replace chat words with their full forms\n",
        "def replace_chat_words(text):\n",
        "    words = text.split()\n",
        "    for i, word in enumerate(words):\n",
        "        if word.lower() in chat_words:\n",
        "            words[i] = chat_words[word.lower()]\n",
        "    return ' '.join(words)\n",
        "\n",
        "# Applying replace_chat_words function to 'content' column\n",
        "df['content'] = df['content'].apply(replace_chat_words)"
      ],
      "metadata": {
        "id": "9vcmhl-482q_"
      },
      "execution_count": 14,
      "outputs": []
    },
    {
      "cell_type": "markdown",
      "source": [
        "# **Handling StopWords**"
      ],
      "metadata": {
        "id": "5rIF4GX39D_6"
      }
    },
    {
      "cell_type": "code",
      "source": [
        "# Getting the English stopwords from NLTK\n",
        "stop_words = set(stopwords.words('english'))\n",
        "\n",
        "# Function to remove stop words from text\n",
        "def remove_stopwords(text):\n",
        "    words = text.split()\n",
        "    filtered_words = [word for word in words if word.lower() not in stop_words]\n",
        "    return ' '.join(filtered_words)\n",
        "\n",
        "# Applying remove_stopwords function to 'content' column\n",
        "df['content'] = df['content'].apply(remove_stopwords)"
      ],
      "metadata": {
        "id": "zx60EBA09CvP"
      },
      "execution_count": 15,
      "outputs": []
    },
    {
      "cell_type": "markdown",
      "source": [
        "# **Handling Emojies**"
      ],
      "metadata": {
        "id": "yJ8hB2LF9dJ5"
      }
    },
    {
      "cell_type": "code",
      "source": [
        "# Function to remove emojis from text\n",
        "def remove_emojis(text):\n",
        "    return emoji.demojize(text)\n",
        "\n",
        "# Applying remove_emojis function to 'content' column\n",
        "df['content'] = df['content'].apply(remove_emojis)"
      ],
      "metadata": {
        "id": "Hb1FOHVu9WrH"
      },
      "execution_count": 16,
      "outputs": []
    },
    {
      "cell_type": "markdown",
      "source": [
        "# **Applying Lemmatization**"
      ],
      "metadata": {
        "id": "GHXMdglR9yHh"
      }
    },
    {
      "cell_type": "code",
      "source": [
        "# Intilizing the lemmatizer\n",
        "wordnet_lemmatizer = WordNetLemmatizer()\n",
        "\n",
        "# Applying the lemmatizer\n",
        "df['content'] = df['content'].apply(lambda x: ' '.join([wordnet_lemmatizer.lemmatize(word , pos='v') for word in x.split()]))"
      ],
      "metadata": {
        "id": "IlPmlZaZ9rqm"
      },
      "execution_count": 17,
      "outputs": []
    },
    {
      "cell_type": "markdown",
      "source": [
        "# **Applying the Train Test Split**"
      ],
      "metadata": {
        "id": "l29u1uSO-eTz"
      }
    },
    {
      "cell_type": "code",
      "source": [
        "X = df['content']\n",
        "y = df['score']\n",
        "\n",
        "# Train Test Split\n",
        "X_train, X_test, y_train, y_test = train_test_split(X, y, test_size=0.2, random_state=42)\n",
        "print(\"X_train shape is : \", X_train.shape)\n",
        "print(\"X_test shape is : \", X_test.shape)\n",
        "print(\"y_train shape is : \", y_train.shape)\n",
        "print(\"y_test shape is : \", y_test.shape)"
      ],
      "metadata": {
        "colab": {
          "base_uri": "https://localhost:8080/"
        },
        "id": "XkEtF_d295N-",
        "outputId": "d39713ee-f17b-418a-ea5c-54500d47919a"
      },
      "execution_count": 18,
      "outputs": [
        {
          "output_type": "stream",
          "name": "stdout",
          "text": [
            "X_train shape is :  (12099,)\n",
            "X_test shape is :  (3025,)\n",
            "y_train shape is :  (12099,)\n",
            "y_test shape is :  (3025,)\n"
          ]
        }
      ]
    },
    {
      "cell_type": "markdown",
      "source": [
        "# **Performing the Tokenization**"
      ],
      "metadata": {
        "id": "O56du5sQ_GRY"
      }
    },
    {
      "cell_type": "code",
      "source": [
        "tokenizer = Tokenizer(oov_token='nothing')\n",
        "tokenizer.fit_on_texts(X_train)\n",
        "\n",
        "X_train_sequences = tokenizer.texts_to_sequences(X_train)\n",
        "X_test_sequences = tokenizer.texts_to_sequences(X_test)"
      ],
      "metadata": {
        "id": "KOsdzkex-qvV"
      },
      "execution_count": 19,
      "outputs": []
    },
    {
      "cell_type": "markdown",
      "source": [
        "# **Plotting a Boxplot to Find the Good Value For Maximum Sequence Length**"
      ],
      "metadata": {
        "id": "oVOnareXCmQ0"
      }
    },
    {
      "cell_type": "code",
      "source": [
        "seq_lengths = [len(seq) for seq in X_train_sequences]\n",
        "\n",
        "# Plotting the boxplot\n",
        "plt.figure(figsize = (8, 4))\n",
        "sns.boxplot(x=seq_lengths , color  = 'coral')\n",
        "plt.title(\"Boxplot of Sequence Lengths\")\n",
        "plt.xlabel(\"Sequence Length\")\n",
        "plt.show()"
      ],
      "metadata": {
        "colab": {
          "base_uri": "https://localhost:8080/",
          "height": 410
        },
        "id": "MSjvEzryCfB0",
        "outputId": "9b6380b6-6e4a-4b35-f04e-58d0d1b85935"
      },
      "execution_count": 20,
      "outputs": [
        {
          "output_type": "display_data",
          "data": {
            "text/plain": [
              "<Figure size 800x400 with 1 Axes>"
            ],
            "image/png": "[encoded data removed]"
          },
          "metadata": {}
        }
      ]
    },
    {
      "cell_type": "markdown",
      "source": [
        "**By looking at the boxplot we can see that there are some extreme outliers too, but we'll keep the maxlen = 90 as it is handling majority of the outliers.**"
      ],
      "metadata": {
        "id": "fmM__QtxC9T7"
      }
    },
    {
      "cell_type": "markdown",
      "source": [
        "# **Applying Padding**"
      ],
      "metadata": {
        "id": "5tN9FY4cBrRt"
      }
    },
    {
      "cell_type": "code",
      "source": [
        "# Padding the sequences to ensure uniform length\n",
        "maxlen = 90\n",
        "X_train_padded = pad_sequences(X_train_sequences, maxlen = maxlen, padding='pre')\n",
        "X_test_padded = pad_sequences(X_test_sequences, maxlen = maxlen, padding='pre')"
      ],
      "metadata": {
        "id": "kjOZPGeO_TC0"
      },
      "execution_count": 21,
      "outputs": []
    },
    {
      "cell_type": "markdown",
      "source": [
        "# **Computing the Class Weights to Handle Imbalance**"
      ],
      "metadata": {
        "id": "PXD-69EjDsAa"
      }
    },
    {
      "cell_type": "code",
      "source": [
        "y_train_array = y_train.values if isinstance(y_train, pd.Series) else y_train\n",
        "weights = class_weight.compute_class_weight('balanced', classes=np.unique(y_train_array), y=y_train_array)\n",
        "class_weights = {i: weight for i, weight in zip(np.unique(y_train_array), weights)}\n",
        "\n",
        "print(\"Class weights:\", class_weights)"
      ],
      "metadata": {
        "colab": {
          "base_uri": "https://localhost:8080/"
        },
        "id": "J02Ce-K9Dwfq",
        "outputId": "7df4f11e-60ef-4c81-8186-384519f1dd12"
      },
      "execution_count": 22,
      "outputs": [
        {
          "output_type": "stream",
          "name": "stdout",
          "text": [
            "Class weights: {0: 2.089637305699482, 1: 0.6572685788787483}\n"
          ]
        }
      ]
    },
    {
      "cell_type": "markdown",
      "source": [
        "**We can see that the weight for class 0 (negative) is higher because it is the minority class, while class 1 (positive) is more prevalent. This inverse weighting helps balance the impact of each class during training**"
      ],
      "metadata": {
        "id": "R_Le636xEOcL"
      }
    },
    {
      "cell_type": "markdown",
      "source": [
        "# **Model Building: BiLSTM**"
      ],
      "metadata": {
        "id": "mObwnkiscvX6"
      }
    },
    {
      "cell_type": "markdown",
      "source": [
        "# **Hyperparameter Tuning with Optuna For BiLSTM with Early Stopping**"
      ],
      "metadata": {
        "id": "YQcxxL3_FK0J"
      }
    },
    {
      "cell_type": "code",
      "source": [
        "def objective(trial):\n",
        "    # Suggested hyperparameters\n",
        "    embedding_dim = trial.suggest_categorical('embedding_dim', [32, 64, 128, 256])\n",
        "    lstm_units = trial.suggest_int('lstm_units', 16, 128, step=32)\n",
        "    dropout_rate = trial.suggest_float('dropout_rate', 0.1, 0.5, step=0.1)\n",
        "    learning_rate = trial.suggest_loguniform('learning_rate', 1e-4, 1e-2)\n",
        "    batch_size = trial.suggest_categorical('batch_size', [16, 32, 64, 128])\n",
        "\n",
        "    # Building the Bidirectional LSTM model\n",
        "    model = Sequential()\n",
        "    model.add(Embedding(input_dim=len(tokenizer.word_index) + 1,\n",
        "                        output_dim=embedding_dim,\n",
        "                        input_length=maxlen))\n",
        "    model.add(Bidirectional(LSTM(lstm_units, dropout=dropout_rate, recurrent_dropout=dropout_rate)))\n",
        "    model.add(Dense(1, activation='sigmoid'))\n",
        "\n",
        "    optimizer = tf.keras.optimizers.Adam(learning_rate=learning_rate)\n",
        "    model.compile(optimizer=optimizer, loss='binary_crossentropy', metrics=['accuracy'])\n",
        "\n",
        "    early_stop = EarlyStopping(monitor='val_loss', patience=3, restore_best_weights=True, verbose=1)\n",
        "\n",
        "    # Training the model with a validation split and early stopping\n",
        "    history = model.fit(X_train_padded, y_train,\n",
        "                        epochs=20,\n",
        "                        batch_size=batch_size,\n",
        "                        validation_split=0.2,\n",
        "                        callbacks=[early_stop],\n",
        "                        class_weight=class_weights,\n",
        "                        verbose=1)\n",
        "\n",
        "    val_accuracy = history.history['val_accuracy'][-1]\n",
        "    return val_accuracy\n",
        "\n",
        "# Creating and running the Optuna study\n",
        "study = optuna.create_study(direction='maximize')\n",
        "study.optimize(objective, n_trials=5)\n",
        "\n",
        "print(\"Best trial:\")\n",
        "trial = study.best_trial\n",
        "print(\"  Best Validation Accuracy: {:.4f}\".format(trial.value))\n",
        "print(\"  Best Hyperparameters:\")\n",
        "for key, value in trial.params.items():\n",
        "    print(\"    {}: {}\".format(key, value))"
      ],
      "metadata": {
        "colab": {
          "base_uri": "https://localhost:8080/"
        },
        "id": "hPnPX8GPD8zg",
        "outputId": "3721157d-5dda-4b77-b37a-95c69848fc49"
      },
      "execution_count": 22,
      "outputs": [
        {
          "output_type": "stream",
          "name": "stderr",
          "text": [
            "[I 2025-02-24 08:48:33,658] A new study created in memory with name: no-name-f3c6e992-1c1b-45ec-a73c-d181f520dee1\n"
          ]
        },
        {
          "output_type": "stream",
          "name": "stdout",
          "text": [
            "Epoch 1/20\n",
            "\u001b[1m303/303\u001b[0m \u001b[32m━━━━━━━━━━━━━━━━━━━━\u001b[0m\u001b[37m\u001b[0m \u001b[1m180s\u001b[0m 538ms/step - accuracy: 0.7566 - loss: 0.5490 - val_accuracy: 0.8769 - val_loss: 0.3113\n",
            "Epoch 2/20\n",
            "\u001b[1m303/303\u001b[0m \u001b[32m━━━━━━━━━━━━━━━━━━━━\u001b[0m\u001b[37m\u001b[0m \u001b[1m164s\u001b[0m 541ms/step - accuracy: 0.9004 - loss: 0.2728 - val_accuracy: 0.8789 - val_loss: 0.3132\n",
            "Epoch 3/20\n",
            "\u001b[1m303/303\u001b[0m \u001b[32m━━━━━━━━━━━━━━━━━━━━\u001b[0m\u001b[37m\u001b[0m \u001b[1m202s\u001b[0m 542ms/step - accuracy: 0.9253 - loss: 0.2136 - val_accuracy: 0.8764 - val_loss: 0.3141\n",
            "Epoch 4/20\n",
            "\u001b[1m303/303\u001b[0m \u001b[32m━━━━━━━━━━━━━━━━━━━━\u001b[0m\u001b[37m\u001b[0m \u001b[1m201s\u001b[0m 540ms/step - accuracy: 0.9396 - loss: 0.1756 - val_accuracy: 0.8727 - val_loss: 0.3345\n",
            "Epoch 4: early stopping\n",
            "Restoring model weights from the end of the best epoch: 1.\n"
          ]
        },
        {
          "output_type": "stream",
          "name": "stderr",
          "text": [
            "[I 2025-02-24 09:01:40,635] Trial 0 finished with value: 0.8727272748947144 and parameters: {'embedding_dim': 32, 'lstm_units': 80, 'dropout_rate': 0.2, 'learning_rate': 0.0012460568127165643, 'batch_size': 32}. Best is trial 0 with value: 0.8727272748947144.\n"
          ]
        },
        {
          "output_type": "stream",
          "name": "stdout",
          "text": [
            "Epoch 1/20\n",
            "\u001b[1m152/152\u001b[0m \u001b[32m━━━━━━━━━━━━━━━━━━━━\u001b[0m\u001b[37m\u001b[0m \u001b[1m91s\u001b[0m 552ms/step - accuracy: 0.7553 - loss: 0.5193 - val_accuracy: 0.8810 - val_loss: 0.2905\n",
            "Epoch 2/20\n",
            "\u001b[1m152/152\u001b[0m \u001b[32m━━━━━━━━━━━━━━━━━━━━\u001b[0m\u001b[37m\u001b[0m \u001b[1m141s\u001b[0m 548ms/step - accuracy: 0.9109 - loss: 0.2403 - val_accuracy: 0.8802 - val_loss: 0.3067\n",
            "Epoch 3/20\n",
            "\u001b[1m152/152\u001b[0m \u001b[32m━━━━━━━━━━━━━━━━━━━━\u001b[0m\u001b[37m\u001b[0m \u001b[1m141s\u001b[0m 542ms/step - accuracy: 0.9393 - loss: 0.1819 - val_accuracy: 0.8798 - val_loss: 0.3035\n",
            "Epoch 4/20\n",
            "\u001b[1m152/152\u001b[0m \u001b[32m━━━━━━━━━━━━━━━━━━━━\u001b[0m\u001b[37m\u001b[0m \u001b[1m84s\u001b[0m 553ms/step - accuracy: 0.9496 - loss: 0.1514 - val_accuracy: 0.8764 - val_loss: 0.3545\n",
            "Epoch 4: early stopping\n",
            "Restoring model weights from the end of the best epoch: 1.\n"
          ]
        },
        {
          "output_type": "stream",
          "name": "stderr",
          "text": [
            "[I 2025-02-24 09:10:15,696] Trial 1 finished with value: 0.8764463067054749 and parameters: {'embedding_dim': 256, 'lstm_units': 48, 'dropout_rate': 0.30000000000000004, 'learning_rate': 0.0015043377864092738, 'batch_size': 64}. Best is trial 1 with value: 0.8764463067054749.\n"
          ]
        },
        {
          "output_type": "stream",
          "name": "stdout",
          "text": [
            "Epoch 1/20\n",
            "\u001b[1m605/605\u001b[0m \u001b[32m━━━━━━━━━━━━━━━━━━━━\u001b[0m\u001b[37m\u001b[0m \u001b[1m336s\u001b[0m 544ms/step - accuracy: 0.7925 - loss: 0.4412 - val_accuracy: 0.8798 - val_loss: 0.3017\n",
            "Epoch 2/20\n",
            "\u001b[1m605/605\u001b[0m \u001b[32m━━━━━━━━━━━━━━━━━━━━\u001b[0m\u001b[37m\u001b[0m \u001b[1m382s\u001b[0m 545ms/step - accuracy: 0.9183 - loss: 0.2090 - val_accuracy: 0.8715 - val_loss: 0.3337\n",
            "Epoch 3/20\n",
            "\u001b[1m605/605\u001b[0m \u001b[32m━━━━━━━━━━━━━━━━━━━━\u001b[0m\u001b[37m\u001b[0m \u001b[1m324s\u001b[0m 534ms/step - accuracy: 0.9509 - loss: 0.1356 - val_accuracy: 0.8802 - val_loss: 0.3261\n",
            "Epoch 4/20\n",
            "\u001b[1m605/605\u001b[0m \u001b[32m━━━━━━━━━━━━━━━━━━━━\u001b[0m\u001b[37m\u001b[0m \u001b[1m386s\u001b[0m 542ms/step - accuracy: 0.9590 - loss: 0.1156 - val_accuracy: 0.8715 - val_loss: 0.3804\n",
            "Epoch 4: early stopping\n",
            "Restoring model weights from the end of the best epoch: 1.\n"
          ]
        },
        {
          "output_type": "stream",
          "name": "stderr",
          "text": [
            "[I 2025-02-24 09:34:57,833] Trial 2 finished with value: 0.8714876174926758 and parameters: {'embedding_dim': 128, 'lstm_units': 112, 'dropout_rate': 0.2, 'learning_rate': 0.004598912800387605, 'batch_size': 16}. Best is trial 1 with value: 0.8764463067054749.\n"
          ]
        },
        {
          "output_type": "stream",
          "name": "stdout",
          "text": [
            "Epoch 1/20\n",
            "\u001b[1m152/152\u001b[0m \u001b[32m━━━━━━━━━━━━━━━━━━━━\u001b[0m\u001b[37m\u001b[0m \u001b[1m89s\u001b[0m 542ms/step - accuracy: 0.7631 - loss: 0.4885 - val_accuracy: 0.8612 - val_loss: 0.3490\n",
            "Epoch 2/20\n",
            "\u001b[1m152/152\u001b[0m \u001b[32m━━━━━━━━━━━━━━━━━━━━\u001b[0m\u001b[37m\u001b[0m \u001b[1m141s\u001b[0m 534ms/step - accuracy: 0.9145 - loss: 0.2474 - val_accuracy: 0.8781 - val_loss: 0.3059\n",
            "Epoch 3/20\n",
            "\u001b[1m152/152\u001b[0m \u001b[32m━━━━━━━━━━━━━━━━━━━━\u001b[0m\u001b[37m\u001b[0m \u001b[1m83s\u001b[0m 545ms/step - accuracy: 0.9367 - loss: 0.1742 - val_accuracy: 0.8826 - val_loss: 0.3126\n",
            "Epoch 4/20\n",
            "\u001b[1m152/152\u001b[0m \u001b[32m━━━━━━━━━━━━━━━━━━━━\u001b[0m\u001b[37m\u001b[0m \u001b[1m142s\u001b[0m 549ms/step - accuracy: 0.9553 - loss: 0.1313 - val_accuracy: 0.8686 - val_loss: 0.3452\n",
            "Epoch 5/20\n",
            "\u001b[1m152/152\u001b[0m \u001b[32m━━━━━━━━━━━━━━━━━━━━\u001b[0m\u001b[37m\u001b[0m \u001b[1m142s\u001b[0m 549ms/step - accuracy: 0.9548 - loss: 0.1337 - val_accuracy: 0.8645 - val_loss: 0.3576\n",
            "Epoch 5: early stopping\n",
            "Restoring model weights from the end of the best epoch: 2.\n"
          ]
        },
        {
          "output_type": "stream",
          "name": "stderr",
          "text": [
            "[I 2025-02-24 09:44:55,027] Trial 3 finished with value: 0.8644627928733826 and parameters: {'embedding_dim': 128, 'lstm_units': 48, 'dropout_rate': 0.30000000000000004, 'learning_rate': 0.0029201232110142, 'batch_size': 64}. Best is trial 1 with value: 0.8764463067054749.\n"
          ]
        },
        {
          "output_type": "stream",
          "name": "stdout",
          "text": [
            "Epoch 1/20\n",
            "\u001b[1m152/152\u001b[0m \u001b[32m━━━━━━━━━━━━━━━━━━━━\u001b[0m\u001b[37m\u001b[0m \u001b[1m92s\u001b[0m 557ms/step - accuracy: 0.7987 - loss: 0.4679 - val_accuracy: 0.8674 - val_loss: 0.3509\n",
            "Epoch 2/20\n",
            "\u001b[1m152/152\u001b[0m \u001b[32m━━━━━━━━━━━━━━━━━━━━\u001b[0m\u001b[37m\u001b[0m \u001b[1m140s\u001b[0m 544ms/step - accuracy: 0.9178 - loss: 0.2328 - val_accuracy: 0.8839 - val_loss: 0.2908\n",
            "Epoch 3/20\n",
            "\u001b[1m152/152\u001b[0m \u001b[32m━━━━━━━━━━━━━━━━━━━━\u001b[0m\u001b[37m\u001b[0m \u001b[1m144s\u001b[0m 562ms/step - accuracy: 0.9370 - loss: 0.1694 - val_accuracy: 0.8806 - val_loss: 0.3276\n",
            "Epoch 4/20\n",
            "\u001b[1m152/152\u001b[0m \u001b[32m━━━━━━━━━━━━━━━━━━━━\u001b[0m\u001b[37m\u001b[0m \u001b[1m140s\u001b[0m 549ms/step - accuracy: 0.9451 - loss: 0.1445 - val_accuracy: 0.8831 - val_loss: 0.3678\n",
            "Epoch 5/20\n",
            "\u001b[1m152/152\u001b[0m \u001b[32m━━━━━━━━━━━━━━━━━━━━\u001b[0m\u001b[37m\u001b[0m \u001b[1m143s\u001b[0m 553ms/step - accuracy: 0.9552 - loss: 0.1173 - val_accuracy: 0.8864 - val_loss: 0.3366\n",
            "Epoch 5: early stopping\n",
            "Restoring model weights from the end of the best epoch: 2.\n"
          ]
        },
        {
          "output_type": "stream",
          "name": "stderr",
          "text": [
            "[I 2025-02-24 09:55:54,436] Trial 4 finished with value: 0.8863636255264282 and parameters: {'embedding_dim': 256, 'lstm_units': 80, 'dropout_rate': 0.2, 'learning_rate': 0.0024186523321013845, 'batch_size': 64}. Best is trial 4 with value: 0.8863636255264282.\n"
          ]
        },
        {
          "output_type": "stream",
          "name": "stdout",
          "text": [
            "Best trial:\n",
            "  Best Validation Accuracy: 0.8864\n",
            "  Best Hyperparameters:\n",
            "    embedding_dim: 256\n",
            "    lstm_units: 80\n",
            "    dropout_rate: 0.2\n",
            "    learning_rate: 0.0024186523321013845\n",
            "    batch_size: 64\n"
          ]
        }
      ]
    },
    {
      "cell_type": "markdown",
      "source": [
        "# **Training the Final Model with Best Hyperparameters and Early Stopping**"
      ],
      "metadata": {
        "id": "SnBXsqoNY5ve"
      }
    },
    {
      "cell_type": "code",
      "source": [
        "best_params = trial.params\n",
        "\n",
        "final_model = Sequential()\n",
        "final_model.add(Embedding(input_dim=len(tokenizer.word_index) + 1,\n",
        "                          output_dim=best_params['embedding_dim'],\n",
        "                          input_length=maxlen))\n",
        "final_model.add(Bidirectional(LSTM(best_params['lstm_units'],\n",
        "                                   dropout=best_params['dropout_rate'],\n",
        "                                   recurrent_dropout=best_params['dropout_rate'])))\n",
        "final_model.add(Dense(1, activation='sigmoid'))\n",
        "\n",
        "optimizer = tf.keras.optimizers.Adam(learning_rate=best_params['learning_rate'])\n",
        "final_model.compile(optimizer=optimizer, loss='binary_crossentropy', metrics=['accuracy'])\n",
        "\n",
        "early_stop = EarlyStopping(monitor='val_loss', patience=3, restore_best_weights=True, verbose=1)\n",
        "\n",
        "final_history = final_model.fit(X_train_padded, y_train,\n",
        "                                epochs=20,\n",
        "                                batch_size=best_params['batch_size'],\n",
        "                                validation_split=0.2,\n",
        "                                callbacks=[early_stop],\n",
        "                                class_weight=class_weights,\n",
        "                                verbose=1)"
      ],
      "metadata": {
        "colab": {
          "base_uri": "https://localhost:8080/"
        },
        "id": "GWBpEP0_FTGm",
        "outputId": "48414b20-439b-4fd1-f743-5ee66b4fe29a"
      },
      "execution_count": 23,
      "outputs": [
        {
          "output_type": "stream",
          "name": "stdout",
          "text": [
            "Epoch 1/20\n",
            "\u001b[1m152/152\u001b[0m \u001b[32m━━━━━━━━━━━━━━━━━━━━\u001b[0m\u001b[37m\u001b[0m \u001b[1m99s\u001b[0m 565ms/step - accuracy: 0.7925 - loss: 0.4783 - val_accuracy: 0.8868 - val_loss: 0.3053\n",
            "Epoch 2/20\n",
            "\u001b[1m152/152\u001b[0m \u001b[32m━━━━━━━━━━━━━━━━━━━━\u001b[0m\u001b[37m\u001b[0m \u001b[1m139s\u001b[0m 550ms/step - accuracy: 0.9216 - loss: 0.2320 - val_accuracy: 0.8888 - val_loss: 0.2925\n",
            "Epoch 3/20\n",
            "\u001b[1m152/152\u001b[0m \u001b[32m━━━━━━━━━━━━━━━━━━━━\u001b[0m\u001b[37m\u001b[0m \u001b[1m142s\u001b[0m 550ms/step - accuracy: 0.9403 - loss: 0.1706 - val_accuracy: 0.8806 - val_loss: 0.3174\n",
            "Epoch 4/20\n",
            "\u001b[1m152/152\u001b[0m \u001b[32m━━━━━━━━━━━━━━━━━━━━\u001b[0m\u001b[37m\u001b[0m \u001b[1m83s\u001b[0m 544ms/step - accuracy: 0.9552 - loss: 0.1314 - val_accuracy: 0.8777 - val_loss: 0.3254\n",
            "Epoch 5/20\n",
            "\u001b[1m152/152\u001b[0m \u001b[32m━━━━━━━━━━━━━━━━━━━━\u001b[0m\u001b[37m\u001b[0m \u001b[1m151s\u001b[0m 603ms/step - accuracy: 0.9614 - loss: 0.1061 - val_accuracy: 0.8702 - val_loss: 0.3935\n",
            "Epoch 5: early stopping\n",
            "Restoring model weights from the end of the best epoch: 2.\n"
          ]
        }
      ]
    },
    {
      "cell_type": "markdown",
      "source": [
        "# **Plotting the Training & Validation Results**"
      ],
      "metadata": {
        "id": "2DteS4Spa-C7"
      }
    },
    {
      "cell_type": "code",
      "source": [
        "# Identifying the best epoch based on validation loss\n",
        "best_epoch = np.argmin(final_history.history['val_loss']) + 1\n",
        "best_epoch_idx = best_epoch - 1\n",
        "\n",
        "\n",
        "# Plotting all training/validation curves\n",
        "plt.figure(figsize=(12, 5))\n",
        "\n",
        "# Accuracy Subplot\n",
        "plt.subplot(1, 2, 1)\n",
        "plt.plot(final_history.history['accuracy'], marker='o', label='Train Accuracy')\n",
        "plt.plot(final_history.history['val_accuracy'], marker='o', label='Validation Accuracy')\n",
        "\n",
        "# Highlighting the best epoch in validation accuracy\n",
        "best_val_acc = final_history.history['val_accuracy'][best_epoch_idx]\n",
        "plt.plot(best_epoch_idx, best_val_acc, 'ro', markersize=10, label='Best Epoch')\n",
        "plt.title('Model Accuracy')\n",
        "plt.xlabel('Epoch')\n",
        "plt.ylabel('Accuracy')\n",
        "plt.legend()\n",
        "plt.grid(True)\n",
        "\n",
        "# Loss Subplot\n",
        "plt.subplot(1, 2, 2)\n",
        "plt.plot(final_history.history['loss'], marker='o', label='Train Loss')\n",
        "plt.plot(final_history.history['val_loss'], marker='o', label='Validation Loss')\n",
        "\n",
        "# Highlighting the best epoch in validation loss\n",
        "best_val_loss = final_history.history['val_loss'][best_epoch_idx]\n",
        "plt.plot(best_epoch_idx, best_val_loss, 'ro', markersize=10, label='Best Epoch')\n",
        "plt.title('Model Loss')\n",
        "plt.xlabel('Epoch')\n",
        "plt.ylabel('Loss')\n",
        "plt.legend()\n",
        "plt.grid(True)\n",
        "plt.show()"
      ],
      "metadata": {
        "colab": {
          "base_uri": "https://localhost:8080/",
          "height": 487
        },
        "id": "HUFM0TM5iuWb",
        "outputId": "0ccf90e8-10fb-4258-99a3-d04433a201fc"
      },
      "execution_count": 33,
      "outputs": [
        {
          "output_type": "display_data",
          "data": {
            "text/plain": [
              "<Figure size 1200x500 with 2 Axes>"
            ],
            "image/png": "[encoded data removed]"
          },
          "metadata": {}
        }
      ]
    },
    {
      "cell_type": "markdown",
      "source": [
        "# **Saving the History Using Pickle**"
      ],
      "metadata": {
        "id": "malENtqyb5NS"
      }
    },
    {
      "cell_type": "code",
      "source": [
        "with open('BiLSTM_model_history.pkl', 'wb') as f:\n",
        "    pickle.dump(final_history.history, f)"
      ],
      "metadata": {
        "id": "bKYVIeHwbZ8P"
      },
      "execution_count": 26,
      "outputs": []
    },
    {
      "cell_type": "markdown",
      "source": [
        "# **Evaluating the Final Model on the Test Set**"
      ],
      "metadata": {
        "id": "1cAxosyucPjB"
      }
    },
    {
      "cell_type": "code",
      "source": [
        "test_loss, test_accuracy = final_model.evaluate(X_test_padded, y_test, verbose=1)\n",
        "print(\"Test Accuracy: {:.4f}\".format(test_accuracy))\n",
        "\n",
        "# Predicting test labels\n",
        "y_pred_prob = final_model.predict(X_test_padded)\n",
        "y_pred = (y_pred_prob > 0.5).astype(\"int32\")"
      ],
      "metadata": {
        "colab": {
          "base_uri": "https://localhost:8080/"
        },
        "id": "m6ZnqkURb_EW",
        "outputId": "a52c0c40-e276-4d26-f286-56113ee27d43"
      },
      "execution_count": 27,
      "outputs": [
        {
          "output_type": "stream",
          "name": "stdout",
          "text": [
            "\u001b[1m95/95\u001b[0m \u001b[32m━━━━━━━━━━━━━━━━━━━━\u001b[0m\u001b[37m\u001b[0m \u001b[1m10s\u001b[0m 105ms/step - accuracy: 0.8576 - loss: 0.3861\n",
            "Test Accuracy: 0.8674\n",
            "\u001b[1m95/95\u001b[0m \u001b[32m━━━━━━━━━━━━━━━━━━━━\u001b[0m\u001b[37m\u001b[0m \u001b[1m14s\u001b[0m 138ms/step\n"
          ]
        }
      ]
    },
    {
      "cell_type": "markdown",
      "source": [
        "# **Plotting the Confusion Matrix**"
      ],
      "metadata": {
        "id": "eO6_HRascYHJ"
      }
    },
    {
      "cell_type": "code",
      "source": [
        "cm = confusion_matrix(y_test, y_pred)\n",
        "print(\"Classification Report:\")\n",
        "print(classification_report(y_test, y_pred))\n",
        "\n",
        "# Plotting the confusion matrix\n",
        "plt.figure(figsize=(6, 5))\n",
        "sns.heatmap(cm, annot=True, fmt=\"d\", cmap='Blues',\n",
        "            xticklabels=['Predicted Negative', 'Predicted Positive'],\n",
        "            yticklabels=['Actual Negative', 'Actual Positive'])\n",
        "plt.title('Confusion Matrix')\n",
        "plt.ylabel('Actual Label')\n",
        "plt.xlabel('Predicted Label')\n",
        "plt.show()"
      ],
      "metadata": {
        "colab": {
          "base_uri": "https://localhost:8080/",
          "height": 661
        },
        "id": "iXqpmAZvcUX-",
        "outputId": "a0d8ef6c-38a5-43ae-b377-63eddddfad04"
      },
      "execution_count": 28,
      "outputs": [
        {
          "output_type": "stream",
          "name": "stdout",
          "text": [
            "Classification Report:\n",
            "              precision    recall  f1-score   support\n",
            "\n",
            "           0       0.68      0.89      0.77       756\n",
            "           1       0.96      0.86      0.91      2269\n",
            "\n",
            "    accuracy                           0.87      3025\n",
            "   macro avg       0.82      0.88      0.84      3025\n",
            "weighted avg       0.89      0.87      0.87      3025\n",
            "\n"
          ]
        },
        {
          "output_type": "display_data",
          "data": {
            "text/plain": [
              "<Figure size 600x500 with 2 Axes>"
            ],
            "image/png": "[encoded data removed]"
          },
          "metadata": {}
        }
      ]
    },
    {
      "cell_type": "markdown",
      "source": [
        "# **Explanation of Models Predictions in Terms of Real Objectives**\n",
        "\n",
        "* The model correctly classifies 87% of the reviews, which indicates robust performance overall.\n",
        "\n",
        "* For businesses focused on addressing customer dissatisfaction, the high recall (89%) for negative reviews ensures that most issues are flagged.\n",
        "\n",
        "* On the other hand, high precision for positive reviews (96%) reinforces confidence in positive sentiment identification, which can be useful for marketing and customer satisfaction analysis."
      ],
      "metadata": {
        "id": "PujLhfdbd5bo"
      }
    },
    {
      "cell_type": "markdown",
      "source": [
        "# **Model Building: BiRNN**"
      ],
      "metadata": {
        "id": "k3IkG1mJc2pB"
      }
    },
    {
      "cell_type": "markdown",
      "source": [
        "# **Hyperparameter Tuning with Optuna & BiRNN with Early Stopping**"
      ],
      "metadata": {
        "id": "tKvpEAG8dCcx"
      }
    },
    {
      "cell_type": "code",
      "source": [
        "def objective(trial):\n",
        "    # Suggest hyperparameters\n",
        "    embedding_dim = trial.suggest_categorical('embedding_dim', [32, 64, 128, 256])\n",
        "    rnn_units = trial.suggest_int('rnn_units', 16, 128, step=32)\n",
        "    dropout_rate = trial.suggest_float('dropout_rate', 0.1, 0.5, step=0.1)\n",
        "    learning_rate = trial.suggest_loguniform('learning_rate', 1e-4, 1e-2)\n",
        "    batch_size = trial.suggest_categorical('batch_size', [32, 64, 128])\n",
        "\n",
        "    # Build the Bidirectional SimpleRNN model\n",
        "    model = Sequential()\n",
        "    model.add(Embedding(input_dim=len(tokenizer.word_index) + 1,\n",
        "                        output_dim=embedding_dim,\n",
        "                        input_length=maxlen))\n",
        "    # Note: SimpleRNN supports dropout and recurrent_dropout in modern Keras versions\n",
        "    model.add(Bidirectional(SimpleRNN(rnn_units, dropout=dropout_rate, recurrent_dropout=dropout_rate)))\n",
        "    model.add(Dense(1, activation='sigmoid'))\n",
        "\n",
        "    optimizer = tf.keras.optimizers.Adam(learning_rate=learning_rate)\n",
        "    model.compile(optimizer=optimizer, loss='binary_crossentropy', metrics=['accuracy'])\n",
        "\n",
        "    early_stop = EarlyStopping(monitor='val_loss', patience=3, restore_best_weights=True, verbose=1)\n",
        "\n",
        "    # Train the model with a validation split and early stopping\n",
        "    history = model.fit(X_train_padded, y_train,\n",
        "                        epochs=20,\n",
        "                        batch_size=batch_size,\n",
        "                        validation_split=0.2,\n",
        "                        callbacks=[early_stop],\n",
        "                        class_weight=class_weights,\n",
        "                        verbose=1)\n",
        "\n",
        "    val_accuracy = history.history['val_accuracy'][-1]\n",
        "    return val_accuracy\n",
        "\n",
        "# Create and run the Optuna study (maximize validation accuracy)\n",
        "study = optuna.create_study(direction='maximize')\n",
        "study.optimize(objective, n_trials=10, n_jobs = 1)  # Adjust n_trials, n_jobs as needed\n",
        "\n",
        "print(\"Best trial:\")\n",
        "trial = study.best_trial\n",
        "print(\"  Best Validation Accuracy: {:.4f}\".format(trial.value))\n",
        "print(\"  Best Hyperparameters:\")\n",
        "for key, value in trial.params.items():\n",
        "    print(\"    {}: {}\".format(key, value))"
      ],
      "metadata": {
        "colab": {
          "base_uri": "https://localhost:8080/"
        },
        "id": "2sMdbBRxccA9",
        "outputId": "bc236991-6978-4b94-ad8c-dcd0ddea9427"
      },
      "execution_count": 62,
      "outputs": [
        {
          "output_type": "stream",
          "name": "stderr",
          "text": [
            "[I 2025-02-24 11:01:27,671] A new study created in memory with name: no-name-4db1007d-65ba-4330-a269-6b7fe38fcb06\n"
          ]
        },
        {
          "output_type": "stream",
          "name": "stdout",
          "text": [
            "\u001b[1m213/303\u001b[0m \u001b[32m━━━━━━━━━━━━━━\u001b[0m\u001b[37m━━━━━━\u001b[0m \u001b[1m4s\u001b[0m 52ms/step - accuracy: 0.5203 - loss: 0.6905Epoch 1/20\n",
            "\u001b[1m303/303\u001b[0m \u001b[32m━━━━━━━━━━━━━━━━━━━━\u001b[0m\u001b[37m\u001b[0m \u001b[1m15s\u001b[0m 50ms/step - accuracy: 0.5293 - loss: 0.6896 - val_accuracy: 0.2628 - val_loss: 0.7682\n",
            "Epoch 6/20\n",
            "\u001b[1m303/303\u001b[0m \u001b[32m━━━━━━━━━━━━━━━━━━━━\u001b[0m\u001b[37m\u001b[0m \u001b[1m23s\u001b[0m 58ms/step - accuracy: 0.5137 - loss: 0.7174 - val_accuracy: 0.4826 - val_loss: 0.6957\n",
            "Epoch 4/20\n",
            "\u001b[1m76/76\u001b[0m \u001b[32m━━━━━━━━━━━━━━━━━━━━\u001b[0m\u001b[37m\u001b[0m \u001b[1m103s\u001b[0m 334ms/step - accuracy: 0.6820 - loss: 0.6070 - val_accuracy: 0.8248 - val_loss: 0.4117\n",
            "Epoch 2/20\n",
            "\u001b[1m303/303\u001b[0m \u001b[32m━━━━━━━━━━━━━━━━━━━━\u001b[0m\u001b[37m\u001b[0m \u001b[1m15s\u001b[0m 48ms/step - accuracy: 0.5618 - loss: 0.6813 - val_accuracy: 0.6868 - val_loss: 0.6800\n",
            "Epoch 7/20\n",
            "\u001b[1m76/76\u001b[0m \u001b[32m━━━━━━━━━━━━━━━━━━━━\u001b[0m\u001b[37m\u001b[0m \u001b[1m6s\u001b[0m 79ms/step - accuracy: 0.9000 - loss: 0.2822 - val_accuracy: 0.8401 - val_loss: 0.4057\n",
            "Epoch 3/20\n",
            "\u001b[1m303/303\u001b[0m \u001b[32m━━━━━━━━━━━━━━━━━━━━\u001b[0m\u001b[37m\u001b[0m \u001b[1m20s\u001b[0m 57ms/step - accuracy: 0.5180 - loss: 0.7056 - val_accuracy: 0.7070 - val_loss: 0.6749\n",
            "Epoch 4: early stopping\n",
            "Restoring model weights from the end of the best epoch: 1.\n",
            "\u001b[1m105/303\u001b[0m \u001b[32m━━━━━━\u001b[0m\u001b[37m━━━━━━━━━━━━━━\u001b[0m \u001b[1m10s\u001b[0m 55ms/step - accuracy: 0.5026 - loss: 0.7077"
          ]
        },
        {
          "output_type": "stream",
          "name": "stderr",
          "text": [
            "[I 2025-02-24 11:01:52,741] Trial 1 finished with value: 0.7070248126983643 and parameters: {'embedding_dim': 32, 'rnn_units': 48, 'dropout_rate': 0.4, 'learning_rate': 0.0004030161667604454, 'batch_size': 32}. Best is trial 1 with value: 0.7070248126983643.\n"
          ]
        },
        {
          "output_type": "stream",
          "name": "stdout",
          "text": [
            "\u001b[1m76/76\u001b[0m \u001b[32m━━━━━━━━━━━━━━━━━━━━\u001b[0m\u001b[37m\u001b[0m \u001b[1m5s\u001b[0m 68ms/step - accuracy: 0.9289 - loss: 0.2020 - val_accuracy: 0.8459 - val_loss: 0.3946\n",
            "Epoch 4/20\n",
            "\u001b[1m303/303\u001b[0m \u001b[32m━━━━━━━━━━━━━━━━━━━━\u001b[0m\u001b[37m\u001b[0m \u001b[1m12s\u001b[0m 39ms/step - accuracy: 0.5277 - loss: 0.6954 - val_accuracy: 0.7372 - val_loss: 0.6391\n",
            "Epoch 8/20\n",
            "\u001b[1m76/76\u001b[0m \u001b[32m━━━━━━━━━━━━━━━━━━━━\u001b[0m\u001b[37m\u001b[0m \u001b[1m31s\u001b[0m 143ms/step - accuracy: 0.5023 - loss: 0.7653 - val_accuracy: 0.2653 - val_loss: 0.7578\n",
            "Epoch 2/20\n",
            "\u001b[1m76/76\u001b[0m \u001b[32m━━━━━━━━━━━━━━━━━━━━\u001b[0m\u001b[37m\u001b[0m \u001b[1m7s\u001b[0m 22ms/step - accuracy: 0.9426 - loss: 0.1672 - val_accuracy: 0.8281 - val_loss: 0.4481\n",
            "Epoch 5/20\n",
            "\u001b[1m76/76\u001b[0m \u001b[32m━━━━━━━━━━━━━━━━━━━━\u001b[0m\u001b[37m\u001b[0m \u001b[1m4s\u001b[0m 40ms/step - accuracy: 0.9515 - loss: 0.1383 - val_accuracy: 0.8475 - val_loss: 0.4585\n",
            "Epoch 6/20\n",
            "\u001b[1m76/76\u001b[0m \u001b[32m━━━━━━━━━━━━━━━━━━━━\u001b[0m\u001b[37m\u001b[0m \u001b[1m6s\u001b[0m 37ms/step - accuracy: 0.5015 - loss: 0.7558 - val_accuracy: 0.2640 - val_loss: 0.7741\n",
            "Epoch 3/20\n",
            "\u001b[1m76/76\u001b[0m \u001b[32m━━━━━━━━━━━━━━━━━━━━\u001b[0m\u001b[37m\u001b[0m \u001b[1m2s\u001b[0m 21ms/step - accuracy: 0.9637 - loss: 0.1104 - val_accuracy: 0.8550 - val_loss: 0.4730\n",
            "Epoch 6: early stopping\n",
            "Restoring model weights from the end of the best epoch: 3.\n"
          ]
        },
        {
          "output_type": "stream",
          "name": "stderr",
          "text": [
            "[I 2025-02-24 11:02:06,890] Trial 0 finished with value: 0.8549586534500122 and parameters: {'embedding_dim': 256, 'rnn_units': 16, 'dropout_rate': 0.1, 'learning_rate': 0.003654770824369776, 'batch_size': 128}. Best is trial 0 with value: 0.8549586534500122.\n"
          ]
        },
        {
          "output_type": "stream",
          "name": "stdout",
          "text": [
            "\u001b[1m76/76\u001b[0m \u001b[32m━━━━━━━━━━━━━━━━━━━━\u001b[0m\u001b[37m\u001b[0m \u001b[1m6s\u001b[0m 56ms/step - accuracy: 0.4946 - loss: 0.7468 - val_accuracy: 0.2690 - val_loss: 0.7574\n",
            "Epoch 4/20\n",
            "\u001b[1m76/76\u001b[0m \u001b[32m━━━━━━━━━━━━━━━━━━━━\u001b[0m\u001b[37m\u001b[0m \u001b[1m4s\u001b[0m 46ms/step - accuracy: 0.4900 - loss: 0.7475 - val_accuracy: 0.2789 - val_loss: 0.7364\n",
            "\u001b[1m272/303\u001b[0m \u001b[32m━━━━━━━━━━━━━━━━━\u001b[0m\u001b[37m━━━\u001b[0m \u001b[1m0s\u001b[0m 30ms/step - accuracy: 0.5799 - loss: 0.6757Epoch 5/20\n",
            "\u001b[1m303/303\u001b[0m \u001b[32m━━━━━━━━━━━━━━━━━━━━\u001b[0m\u001b[37m\u001b[0m \u001b[1m19s\u001b[0m 35ms/step - accuracy: 0.5785 - loss: 0.6764 - val_accuracy: 0.7384 - val_loss: 0.6508\n",
            "Epoch 9/20\n",
            "\u001b[1m76/76\u001b[0m \u001b[32m━━━━━━━━━━━━━━━━━━━━\u001b[0m\u001b[37m\u001b[0m \u001b[1m3s\u001b[0m 34ms/step - accuracy: 0.5019 - loss: 0.7165 - val_accuracy: 0.7050 - val_loss: 0.6687\n",
            "Epoch 6/20\n",
            "\u001b[1m76/76\u001b[0m \u001b[32m━━━━━━━━━━━━━━━━━━━━\u001b[0m\u001b[37m\u001b[0m \u001b[1m4s\u001b[0m 24ms/step - accuracy: 0.5042 - loss: 0.7321 - val_accuracy: 0.7326 - val_loss: 0.6426\n",
            "Epoch 7/20\n",
            "\u001b[1m76/76\u001b[0m \u001b[32m━━━━━━━━━━━━━━━━━━━━\u001b[0m\u001b[37m\u001b[0m \u001b[1m2s\u001b[0m 24ms/step - accuracy: 0.5202 - loss: 0.7263 - val_accuracy: 0.7326 - val_loss: 0.6478\n",
            "Epoch 8/20\n",
            "\u001b[1m76/76\u001b[0m \u001b[32m━━━━━━━━━━━━━━━━━━━━\u001b[0m\u001b[37m\u001b[0m \u001b[1m2s\u001b[0m 22ms/step - accuracy: 0.5184 - loss: 0.7186 - val_accuracy: 0.7339 - val_loss: 0.6478\n",
            "Epoch 9/20\n",
            "\u001b[1m76/76\u001b[0m \u001b[32m━━━━━━━━━━━━━━━━━━━━\u001b[0m\u001b[37m\u001b[0m \u001b[1m2s\u001b[0m 30ms/step - accuracy: 0.5357 - loss: 0.7050 - val_accuracy: 0.7343 - val_loss: 0.6522\n",
            "Epoch 9: early stopping\n",
            "Restoring model weights from the end of the best epoch: 6.\n"
          ]
        },
        {
          "output_type": "stream",
          "name": "stderr",
          "text": [
            "[I 2025-02-24 11:02:29,112] Trial 0 finished with value: 0.734297513961792 and parameters: {'embedding_dim': 256, 'rnn_units': 48, 'dropout_rate': 0.5, 'learning_rate': 0.00021862482463161354, 'batch_size': 128}. Best is trial 0 with value: 0.734297513961792.\n"
          ]
        },
        {
          "output_type": "stream",
          "name": "stdout",
          "text": [
            "\u001b[1m 49/303\u001b[0m \u001b[32m━━━\u001b[0m\u001b[37m━━━━━━━━━━━━━━━━━\u001b[0m \u001b[1m6s\u001b[0m 27ms/step - accuracy: 0.5929 - loss: 0.6724Epoch 1/20\n",
            "\u001b[1m303/303\u001b[0m \u001b[32m━━━━━━━━━━━━━━━━━━━━\u001b[0m\u001b[37m\u001b[0m \u001b[1m19s\u001b[0m 29ms/step - accuracy: 0.5889 - loss: 0.6771 - val_accuracy: 0.7372 - val_loss: 0.6339\n",
            "Epoch 10/20\n",
            "\u001b[1m303/303\u001b[0m \u001b[32m━━━━━━━━━━━━━━━━━━━━\u001b[0m\u001b[37m\u001b[0m \u001b[1m8s\u001b[0m 26ms/step - accuracy: 0.5981 - loss: 0.6821 - val_accuracy: 0.7550 - val_loss: 0.6631\n",
            "Epoch 11/20\n",
            "\u001b[1m76/76\u001b[0m \u001b[32m━━━━━━━━━━━━━━━━━━━━\u001b[0m\u001b[37m\u001b[0m \u001b[1m20s\u001b[0m 135ms/step - accuracy: 0.5307 - loss: 0.7442 - val_accuracy: 0.7029 - val_loss: 0.6581\n",
            "Epoch 2/20\n",
            "\u001b[1m76/76\u001b[0m \u001b[32m━━━━━━━━━━━━━━━━━━━━\u001b[0m\u001b[37m\u001b[0m \u001b[1m3s\u001b[0m 40ms/step - accuracy: 0.5060 - loss: 0.7214 - val_accuracy: 0.6711 - val_loss: 0.6757\n",
            "Epoch 3/20\n",
            "\u001b[1m76/76\u001b[0m \u001b[32m━━━━━━━━━━━━━━━━━━━━\u001b[0m\u001b[37m\u001b[0m \u001b[1m2s\u001b[0m 23ms/step - accuracy: 0.5147 - loss: 0.7229 - val_accuracy: 0.7178 - val_loss: 0.6745\n",
            "Epoch 4/20\n",
            "\u001b[1m303/303\u001b[0m \u001b[32m━━━━━━━━━━━━━━━━━━━━\u001b[0m\u001b[37m\u001b[0m \u001b[1m10s\u001b[0m 33ms/step - accuracy: 0.6272 - loss: 0.6671 - val_accuracy: 0.6364 - val_loss: 0.6750\n",
            "Epoch 12/20\n",
            "\u001b[1m76/76\u001b[0m \u001b[32m━━━━━━━━━━━━━━━━━━━━\u001b[0m\u001b[37m\u001b[0m \u001b[1m2s\u001b[0m 31ms/step - accuracy: 0.5341 - loss: 0.7115 - val_accuracy: 0.7169 - val_loss: 0.6633\n",
            "Epoch 4: early stopping\n",
            "Restoring model weights from the end of the best epoch: 1.\n",
            "\u001b[1m 67/303\u001b[0m \u001b[32m━━━━\u001b[0m\u001b[37m━━━━━━━━━━━━━━━━\u001b[0m \u001b[1m5s\u001b[0m 23ms/step - accuracy: 0.6139 - loss: 0.6582"
          ]
        },
        {
          "output_type": "stream",
          "name": "stderr",
          "text": [
            "[I 2025-02-24 11:02:56,468] Trial 1 finished with value: 0.7169421315193176 and parameters: {'embedding_dim': 64, 'rnn_units': 16, 'dropout_rate': 0.4, 'learning_rate': 0.0008019878600588044, 'batch_size': 128}. Best is trial 0 with value: 0.734297513961792.\n"
          ]
        },
        {
          "output_type": "stream",
          "name": "stdout",
          "text": [
            "\u001b[1m 73/303\u001b[0m \u001b[32m━━━━\u001b[0m\u001b[37m━━━━━━━━━━━━━━━━\u001b[0m \u001b[1m5s\u001b[0m 23ms/step - accuracy: 0.6131 - loss: 0.6585Epoch 1/20\n",
            "\u001b[1m303/303\u001b[0m \u001b[32m━━━━━━━━━━━━━━━━━━━━\u001b[0m\u001b[37m\u001b[0m \u001b[1m8s\u001b[0m 25ms/step - accuracy: 0.6193 - loss: 0.6598 - val_accuracy: 0.6550 - val_loss: 0.6612\n",
            "Epoch 12: early stopping\n",
            "Restoring model weights from the end of the best epoch: 9.\n",
            "\u001b[1m 7/76\u001b[0m \u001b[32m━\u001b[0m\u001b[37m━━━━━━━━━━━━━━━━━━━\u001b[0m \u001b[1m2s\u001b[0m 38ms/step - accuracy: 0.4983 - loss: 0.8243"
          ]
        },
        {
          "output_type": "stream",
          "name": "stderr",
          "text": [
            "[I 2025-02-24 11:03:05,110] Trial 1 finished with value: 0.6549586653709412 and parameters: {'embedding_dim': 128, 'rnn_units': 112, 'dropout_rate': 0.4, 'learning_rate': 0.0006151793465357972, 'batch_size': 32}. Best is trial 0 with value: 0.8623967170715332.\n"
          ]
        },
        {
          "output_type": "stream",
          "name": "stdout",
          "text": [
            "\u001b[1m76/76\u001b[0m \u001b[32m━━━━━━━━━━━━━━━━━━━━\u001b[0m\u001b[37m\u001b[0m \u001b[1m14s\u001b[0m 83ms/step - accuracy: 0.5015 - loss: 0.7730 - val_accuracy: 0.2636 - val_loss: 0.7504\n",
            "Epoch 2/20\n",
            "\u001b[1m76/76\u001b[0m \u001b[32m━━━━━━━━━━━━━━━━━━━━\u001b[0m\u001b[37m\u001b[0m \u001b[1m3s\u001b[0m 23ms/step - accuracy: 0.4986 - loss: 0.7417 - val_accuracy: 0.2632 - val_loss: 0.7345\n",
            "Epoch 3/20\n",
            "\u001b[1m76/76\u001b[0m \u001b[32m━━━━━━━━━━━━━━━━━━━━\u001b[0m\u001b[37m\u001b[0m \u001b[1m2s\u001b[0m 21ms/step - accuracy: 0.5054 - loss: 0.7186 - val_accuracy: 0.7045 - val_loss: 0.6741\n",
            "Epoch 4/20\n",
            "\u001b[1m76/76\u001b[0m \u001b[32m━━━━━━━━━━━━━━━━━━━━\u001b[0m\u001b[37m\u001b[0m \u001b[1m2s\u001b[0m 21ms/step - accuracy: 0.5252 - loss: 0.7140 - val_accuracy: 0.7236 - val_loss: 0.6790\n",
            "Epoch 5/20\n",
            "\u001b[1m76/76\u001b[0m \u001b[32m━━━━━━━━━━━━━━━━━━━━\u001b[0m\u001b[37m\u001b[0m \u001b[1m3s\u001b[0m 20ms/step - accuracy: 0.5159 - loss: 0.7044 - val_accuracy: 0.7054 - val_loss: 0.6884\n",
            "Epoch 6/20\n",
            "\u001b[1m76/76\u001b[0m \u001b[32m━━━━━━━━━━━━━━━━━━━━\u001b[0m\u001b[37m\u001b[0m \u001b[1m2s\u001b[0m 21ms/step - accuracy: 0.5380 - loss: 0.6948 - val_accuracy: 0.7372 - val_loss: 0.6491\n",
            "Epoch 7/20\n",
            "\u001b[1m76/76\u001b[0m \u001b[32m━━━━━━━━━━━━━━━━━━━━\u001b[0m\u001b[37m\u001b[0m \u001b[1m3s\u001b[0m 23ms/step - accuracy: 0.5154 - loss: 0.6902 - val_accuracy: 0.7372 - val_loss: 0.6635\n",
            "Epoch 8/20\n",
            "\u001b[1m76/76\u001b[0m \u001b[32m━━━━━━━━━━━━━━━━━━━━\u001b[0m\u001b[37m\u001b[0m \u001b[1m2s\u001b[0m 21ms/step - accuracy: 0.5044 - loss: 0.7014 - val_accuracy: 0.7372 - val_loss: 0.6646\n",
            "Epoch 9/20\n",
            "\u001b[1m76/76\u001b[0m \u001b[32m━━━━━━━━━━━━━━━━━━━━\u001b[0m\u001b[37m\u001b[0m \u001b[1m2s\u001b[0m 21ms/step - accuracy: 0.4955 - loss: 0.7062 - val_accuracy: 0.4260 - val_loss: 0.6975\n",
            "Epoch 9: early stopping\n",
            "Restoring model weights from the end of the best epoch: 6.\n"
          ]
        },
        {
          "output_type": "stream",
          "name": "stderr",
          "text": [
            "[I 2025-02-24 11:03:29,595] Trial 2 finished with value: 0.42603304982185364 and parameters: {'embedding_dim': 32, 'rnn_units': 112, 'dropout_rate': 0.5, 'learning_rate': 0.001072536431075726, 'batch_size': 128}. Best is trial 0 with value: 0.734297513961792.\n"
          ]
        },
        {
          "output_type": "stream",
          "name": "stdout",
          "text": [
            "Epoch 1/20\n",
            "\u001b[1m303/303\u001b[0m \u001b[32m━━━━━━━━━━━━━━━━━━━━\u001b[0m\u001b[37m\u001b[0m \u001b[1m18s\u001b[0m 39ms/step - accuracy: 0.7097 - loss: 0.5713 - val_accuracy: 0.8174 - val_loss: 0.4313\n",
            "Epoch 2/20\n",
            "\u001b[1m303/303\u001b[0m \u001b[32m━━━━━━━━━━━━━━━━━━━━\u001b[0m\u001b[37m\u001b[0m \u001b[1m12s\u001b[0m 20ms/step - accuracy: 0.8923 - loss: 0.2881 - val_accuracy: 0.8665 - val_loss: 0.3425\n",
            "Epoch 3/20\n",
            "\u001b[1m303/303\u001b[0m \u001b[32m━━━━━━━━━━━━━━━━━━━━\u001b[0m\u001b[37m\u001b[0m \u001b[1m6s\u001b[0m 19ms/step - accuracy: 0.9322 - loss: 0.1932 - val_accuracy: 0.8612 - val_loss: 0.3709\n",
            "Epoch 4/20\n",
            "\u001b[1m303/303\u001b[0m \u001b[32m━━━━━━━━━━━━━━━━━━━━\u001b[0m\u001b[37m\u001b[0m \u001b[1m10s\u001b[0m 19ms/step - accuracy: 0.9480 - loss: 0.1524 - val_accuracy: 0.8657 - val_loss: 0.4082\n",
            "Epoch 5/20\n",
            "\u001b[1m303/303\u001b[0m \u001b[32m━━━━━━━━━━━━━━━━━━━━\u001b[0m\u001b[37m\u001b[0m \u001b[1m10s\u001b[0m 19ms/step - accuracy: 0.9635 - loss: 0.1104 - val_accuracy: 0.8409 - val_loss: 0.4808\n",
            "Epoch 5: early stopping\n",
            "Restoring model weights from the end of the best epoch: 2.\n"
          ]
        },
        {
          "output_type": "stream",
          "name": "stderr",
          "text": [
            "[I 2025-02-24 11:04:29,706] Trial 3 finished with value: 0.8409090638160706 and parameters: {'embedding_dim': 128, 'rnn_units': 48, 'dropout_rate': 0.1, 'learning_rate': 0.0014746638746043791, 'batch_size': 32}. Best is trial 3 with value: 0.8409090638160706.\n"
          ]
        },
        {
          "output_type": "stream",
          "name": "stdout",
          "text": [
            "Epoch 1/20\n",
            "\u001b[1m76/76\u001b[0m \u001b[32m━━━━━━━━━━━━━━━━━━━━\u001b[0m\u001b[37m\u001b[0m \u001b[1m12s\u001b[0m 77ms/step - accuracy: 0.5330 - loss: 0.7654 - val_accuracy: 0.7372 - val_loss: 0.6122\n",
            "Epoch 2/20\n",
            "\u001b[1m76/76\u001b[0m \u001b[32m━━━━━━━━━━━━━━━━━━━━\u001b[0m\u001b[37m\u001b[0m \u001b[1m3s\u001b[0m 20ms/step - accuracy: 0.5375 - loss: 0.7712 - val_accuracy: 0.7364 - val_loss: 0.6164\n",
            "Epoch 3/20\n",
            "\u001b[1m76/76\u001b[0m \u001b[32m━━━━━━━━━━━━━━━━━━━━\u001b[0m\u001b[37m\u001b[0m \u001b[1m1s\u001b[0m 19ms/step - accuracy: 0.5377 - loss: 0.7461 - val_accuracy: 0.7360 - val_loss: 0.6242\n",
            "Epoch 4/20\n",
            "\u001b[1m76/76\u001b[0m \u001b[32m━━━━━━━━━━━━━━━━━━━━\u001b[0m\u001b[37m\u001b[0m \u001b[1m2s\u001b[0m 23ms/step - accuracy: 0.5350 - loss: 0.7580 - val_accuracy: 0.7355 - val_loss: 0.6247\n",
            "Epoch 4: early stopping\n",
            "Restoring model weights from the end of the best epoch: 1.\n"
          ]
        },
        {
          "output_type": "stream",
          "name": "stderr",
          "text": [
            "[I 2025-02-24 11:04:48,689] Trial 4 finished with value: 0.7355371713638306 and parameters: {'embedding_dim': 32, 'rnn_units': 16, 'dropout_rate': 0.5, 'learning_rate': 0.00020566313837872563, 'batch_size': 128}. Best is trial 3 with value: 0.8409090638160706.\n"
          ]
        },
        {
          "output_type": "stream",
          "name": "stdout",
          "text": [
            "Epoch 1/20\n",
            "\u001b[1m303/303\u001b[0m \u001b[32m━━━━━━━━━━━━━━━━━━━━\u001b[0m\u001b[37m\u001b[0m \u001b[1m16s\u001b[0m 33ms/step - accuracy: 0.4842 - loss: 0.7157 - val_accuracy: 0.6917 - val_loss: 0.6761\n",
            "Epoch 2/20\n",
            "\u001b[1m303/303\u001b[0m \u001b[32m━━━━━━━━━━━━━━━━━━━━\u001b[0m\u001b[37m\u001b[0m \u001b[1m6s\u001b[0m 19ms/step - accuracy: 0.5169 - loss: 0.6993 - val_accuracy: 0.6983 - val_loss: 0.6752\n",
            "Epoch 3/20\n",
            "\u001b[1m303/303\u001b[0m \u001b[32m━━━━━━━━━━━━━━━━━━━━\u001b[0m\u001b[37m\u001b[0m \u001b[1m11s\u001b[0m 20ms/step - accuracy: 0.5308 - loss: 0.6925 - val_accuracy: 0.7198 - val_loss: 0.6676\n",
            "Epoch 4/20\n",
            "\u001b[1m303/303\u001b[0m \u001b[32m━━━━━━━━━━━━━━━━━━━━\u001b[0m\u001b[37m\u001b[0m \u001b[1m10s\u001b[0m 19ms/step - accuracy: 0.5521 - loss: 0.6970 - val_accuracy: 0.7120 - val_loss: 0.6722\n",
            "Epoch 5/20\n",
            "\u001b[1m303/303\u001b[0m \u001b[32m━━━━━━━━━━━━━━━━━━━━\u001b[0m\u001b[37m\u001b[0m \u001b[1m6s\u001b[0m 19ms/step - accuracy: 0.5356 - loss: 0.6939 - val_accuracy: 0.7310 - val_loss: 0.6672\n",
            "Epoch 6/20\n",
            "\u001b[1m303/303\u001b[0m \u001b[32m━━━━━━━━━━━━━━━━━━━━\u001b[0m\u001b[37m\u001b[0m \u001b[1m10s\u001b[0m 20ms/step - accuracy: 0.5455 - loss: 0.7010 - val_accuracy: 0.7322 - val_loss: 0.6640\n",
            "Epoch 7/20\n",
            "\u001b[1m303/303\u001b[0m \u001b[32m━━━━━━━━━━━━━━━━━━━━\u001b[0m\u001b[37m\u001b[0m \u001b[1m6s\u001b[0m 20ms/step - accuracy: 0.5787 - loss: 0.6833 - val_accuracy: 0.7364 - val_loss: 0.6623\n",
            "Epoch 8/20\n",
            "\u001b[1m303/303\u001b[0m \u001b[32m━━━━━━━━━━━━━━━━━━━━\u001b[0m\u001b[37m\u001b[0m \u001b[1m10s\u001b[0m 20ms/step - accuracy: 0.5809 - loss: 0.6727 - val_accuracy: 0.7388 - val_loss: 0.6623\n",
            "Epoch 9/20\n",
            "\u001b[1m303/303\u001b[0m \u001b[32m━━━━━━━━━━━━━━━━━━━━\u001b[0m\u001b[37m\u001b[0m \u001b[1m10s\u001b[0m 20ms/step - accuracy: 0.5723 - loss: 0.6918 - val_accuracy: 0.7393 - val_loss: 0.6561\n",
            "Epoch 10/20\n",
            "\u001b[1m303/303\u001b[0m \u001b[32m━━━━━━━━━━━━━━━━━━━━\u001b[0m\u001b[37m\u001b[0m \u001b[1m6s\u001b[0m 19ms/step - accuracy: 0.6061 - loss: 0.6670 - val_accuracy: 0.7442 - val_loss: 0.6544\n",
            "Epoch 11/20\n",
            "\u001b[1m303/303\u001b[0m \u001b[32m━━━━━━━━━━━━━━━━━━━━\u001b[0m\u001b[37m\u001b[0m \u001b[1m6s\u001b[0m 20ms/step - accuracy: 0.5970 - loss: 0.6755 - val_accuracy: 0.7475 - val_loss: 0.6544\n",
            "Epoch 12/20\n",
            "\u001b[1m303/303\u001b[0m \u001b[32m━━━━━━━━━━━━━━━━━━━━\u001b[0m\u001b[37m\u001b[0m \u001b[1m10s\u001b[0m 20ms/step - accuracy: 0.6147 - loss: 0.6609 - val_accuracy: 0.7583 - val_loss: 0.6569\n",
            "Epoch 13/20\n",
            "\u001b[1m303/303\u001b[0m \u001b[32m━━━━━━━━━━━━━━━━━━━━\u001b[0m\u001b[37m\u001b[0m \u001b[1m6s\u001b[0m 20ms/step - accuracy: 0.6045 - loss: 0.6699 - val_accuracy: 0.7591 - val_loss: 0.6567\n",
            "Epoch 14/20\n",
            "\u001b[1m303/303\u001b[0m \u001b[32m━━━━━━━━━━━━━━━━━━━━\u001b[0m\u001b[37m\u001b[0m \u001b[1m6s\u001b[0m 20ms/step - accuracy: 0.6100 - loss: 0.6731 - val_accuracy: 0.7624 - val_loss: 0.6531\n",
            "Epoch 15/20\n",
            "\u001b[1m303/303\u001b[0m \u001b[32m━━━━━━━━━━━━━━━━━━━━\u001b[0m\u001b[37m\u001b[0m \u001b[1m6s\u001b[0m 19ms/step - accuracy: 0.6113 - loss: 0.6626 - val_accuracy: 0.7620 - val_loss: 0.6501\n",
            "Epoch 16/20\n",
            "\u001b[1m303/303\u001b[0m \u001b[32m━━━━━━━━━━━━━━━━━━━━\u001b[0m\u001b[37m\u001b[0m \u001b[1m11s\u001b[0m 20ms/step - accuracy: 0.6238 - loss: 0.6660 - val_accuracy: 0.7620 - val_loss: 0.6551\n",
            "Epoch 17/20\n",
            "\u001b[1m303/303\u001b[0m \u001b[32m━━━━━━━━━━━━━━━━━━━━\u001b[0m\u001b[37m\u001b[0m \u001b[1m10s\u001b[0m 19ms/step - accuracy: 0.6292 - loss: 0.6637 - val_accuracy: 0.7686 - val_loss: 0.6476\n",
            "Epoch 18/20\n",
            "\u001b[1m303/303\u001b[0m \u001b[32m━━━━━━━━━━━━━━━━━━━━\u001b[0m\u001b[37m\u001b[0m \u001b[1m6s\u001b[0m 20ms/step - accuracy: 0.6391 - loss: 0.6564 - val_accuracy: 0.7252 - val_loss: 0.6578\n",
            "Epoch 19/20\n",
            "\u001b[1m303/303\u001b[0m \u001b[32m━━━━━━━━━━━━━━━━━━━━\u001b[0m\u001b[37m\u001b[0m \u001b[1m6s\u001b[0m 20ms/step - accuracy: 0.6396 - loss: 0.6500 - val_accuracy: 0.6793 - val_loss: 0.6636\n",
            "Epoch 20/20\n",
            "\u001b[1m303/303\u001b[0m \u001b[32m━━━━━━━━━━━━━━━━━━━━\u001b[0m\u001b[37m\u001b[0m \u001b[1m6s\u001b[0m 19ms/step - accuracy: 0.6626 - loss: 0.6387 - val_accuracy: 0.7798 - val_loss: 0.6266\n",
            "Restoring model weights from the end of the best epoch: 20.\n"
          ]
        },
        {
          "output_type": "stream",
          "name": "stderr",
          "text": [
            "[I 2025-02-24 11:07:32,223] Trial 5 finished with value: 0.7797520756721497 and parameters: {'embedding_dim': 256, 'rnn_units': 16, 'dropout_rate': 0.30000000000000004, 'learning_rate': 0.00010184221352067024, 'batch_size': 32}. Best is trial 3 with value: 0.8409090638160706.\n"
          ]
        },
        {
          "output_type": "stream",
          "name": "stdout",
          "text": [
            "Epoch 1/20\n",
            "\u001b[1m303/303\u001b[0m \u001b[32m━━━━━━━━━━━━━━━━━━━━\u001b[0m\u001b[37m\u001b[0m \u001b[1m16s\u001b[0m 35ms/step - accuracy: 0.4895 - loss: 0.7700 - val_accuracy: 0.2632 - val_loss: 0.7737\n",
            "Epoch 2/20\n",
            "\u001b[1m303/303\u001b[0m \u001b[32m━━━━━━━━━━━━━━━━━━━━\u001b[0m\u001b[37m\u001b[0m \u001b[1m6s\u001b[0m 20ms/step - accuracy: 0.4947 - loss: 0.7443 - val_accuracy: 0.2636 - val_loss: 0.7359\n",
            "Epoch 3/20\n",
            "\u001b[1m303/303\u001b[0m \u001b[32m━━━━━━━━━━━━━━━━━━━━\u001b[0m\u001b[37m\u001b[0m \u001b[1m6s\u001b[0m 20ms/step - accuracy: 0.5012 - loss: 0.7371 - val_accuracy: 0.3347 - val_loss: 0.7054\n",
            "Epoch 4/20\n",
            "\u001b[1m303/303\u001b[0m \u001b[32m━━━━━━━━━━━━━━━━━━━━\u001b[0m\u001b[37m\u001b[0m \u001b[1m10s\u001b[0m 20ms/step - accuracy: 0.4957 - loss: 0.7303 - val_accuracy: 0.4855 - val_loss: 0.6955\n",
            "Epoch 5/20\n",
            "\u001b[1m303/303\u001b[0m \u001b[32m━━━━━━━━━━━━━━━━━━━━\u001b[0m\u001b[37m\u001b[0m \u001b[1m10s\u001b[0m 20ms/step - accuracy: 0.5120 - loss: 0.7205 - val_accuracy: 0.5372 - val_loss: 0.6946\n",
            "Epoch 6/20\n",
            "\u001b[1m303/303\u001b[0m \u001b[32m━━━━━━━━━━━━━━━━━━━━\u001b[0m\u001b[37m\u001b[0m \u001b[1m6s\u001b[0m 19ms/step - accuracy: 0.5085 - loss: 0.7193 - val_accuracy: 0.3223 - val_loss: 0.7079\n",
            "Epoch 7/20\n",
            "\u001b[1m303/303\u001b[0m \u001b[32m━━━━━━━━━━━━━━━━━━━━\u001b[0m\u001b[37m\u001b[0m \u001b[1m10s\u001b[0m 19ms/step - accuracy: 0.5239 - loss: 0.7103 - val_accuracy: 0.3302 - val_loss: 0.7040\n",
            "Epoch 8/20\n",
            "\u001b[1m303/303\u001b[0m \u001b[32m━━━━━━━━━━━━━━━━━━━━\u001b[0m\u001b[37m\u001b[0m \u001b[1m6s\u001b[0m 19ms/step - accuracy: 0.5092 - loss: 0.7192 - val_accuracy: 0.4103 - val_loss: 0.7009\n",
            "Epoch 8: early stopping\n",
            "Restoring model weights from the end of the best epoch: 5.\n"
          ]
        },
        {
          "output_type": "stream",
          "name": "stderr",
          "text": [
            "[I 2025-02-24 11:08:47,712] Trial 6 finished with value: 0.41033056378364563 and parameters: {'embedding_dim': 64, 'rnn_units': 112, 'dropout_rate': 0.5, 'learning_rate': 0.0002143313049795632, 'batch_size': 32}. Best is trial 3 with value: 0.8409090638160706.\n"
          ]
        },
        {
          "output_type": "stream",
          "name": "stdout",
          "text": [
            "Epoch 1/20\n",
            "\u001b[1m152/152\u001b[0m \u001b[32m━━━━━━━━━━━━━━━━━━━━\u001b[0m\u001b[37m\u001b[0m \u001b[1m13s\u001b[0m 47ms/step - accuracy: 0.4865 - loss: 0.7228 - val_accuracy: 0.7045 - val_loss: 0.6600\n",
            "Epoch 2/20\n",
            "\u001b[1m152/152\u001b[0m \u001b[32m━━━━━━━━━━━━━━━━━━━━\u001b[0m\u001b[37m\u001b[0m \u001b[1m3s\u001b[0m 18ms/step - accuracy: 0.5218 - loss: 0.7046 - val_accuracy: 0.7492 - val_loss: 0.6548\n",
            "Epoch 3/20\n",
            "\u001b[1m152/152\u001b[0m \u001b[32m━━━━━━━━━━━━━━━━━━━━\u001b[0m\u001b[37m\u001b[0m \u001b[1m5s\u001b[0m 20ms/step - accuracy: 0.5711 - loss: 0.6795 - val_accuracy: 0.4620 - val_loss: 0.6934\n",
            "Epoch 4/20\n",
            "\u001b[1m152/152\u001b[0m \u001b[32m━━━━━━━━━━━━━━━━━━━━\u001b[0m\u001b[37m\u001b[0m \u001b[1m3s\u001b[0m 17ms/step - accuracy: 0.5863 - loss: 0.6574 - val_accuracy: 0.6884 - val_loss: 0.6554\n",
            "Epoch 5/20\n",
            "\u001b[1m152/152\u001b[0m \u001b[32m━━━━━━━━━━━━━━━━━━━━\u001b[0m\u001b[37m\u001b[0m \u001b[1m3s\u001b[0m 18ms/step - accuracy: 0.6493 - loss: 0.6247 - val_accuracy: 0.7946 - val_loss: 0.5788\n",
            "Epoch 6/20\n",
            "\u001b[1m152/152\u001b[0m \u001b[32m━━━━━━━━━━━━━━━━━━━━\u001b[0m\u001b[37m\u001b[0m \u001b[1m3s\u001b[0m 17ms/step - accuracy: 0.7399 - loss: 0.5748 - val_accuracy: 0.8116 - val_loss: 0.5147\n",
            "Epoch 7/20\n",
            "\u001b[1m152/152\u001b[0m \u001b[32m━━━━━━━━━━━━━━━━━━━━\u001b[0m\u001b[37m\u001b[0m \u001b[1m5s\u001b[0m 20ms/step - accuracy: 0.8369 - loss: 0.4695 - val_accuracy: 0.8227 - val_loss: 0.4083\n",
            "Epoch 8/20\n",
            "\u001b[1m152/152\u001b[0m \u001b[32m━━━━━━━━━━━━━━━━━━━━\u001b[0m\u001b[37m\u001b[0m \u001b[1m3s\u001b[0m 18ms/step - accuracy: 0.8674 - loss: 0.3771 - val_accuracy: 0.8335 - val_loss: 0.3865\n",
            "Epoch 9/20\n",
            "\u001b[1m152/152\u001b[0m \u001b[32m━━━━━━━━━━━━━━━━━━━━\u001b[0m\u001b[37m\u001b[0m \u001b[1m5s\u001b[0m 19ms/step - accuracy: 0.8780 - loss: 0.3223 - val_accuracy: 0.8372 - val_loss: 0.3874\n",
            "Epoch 10/20\n",
            "\u001b[1m152/152\u001b[0m \u001b[32m━━━━━━━━━━━━━━━━━━━━\u001b[0m\u001b[37m\u001b[0m \u001b[1m5s\u001b[0m 19ms/step - accuracy: 0.8901 - loss: 0.2964 - val_accuracy: 0.8496 - val_loss: 0.3670\n",
            "Epoch 11/20\n",
            "\u001b[1m152/152\u001b[0m \u001b[32m━━━━━━━━━━━━━━━━━━━━\u001b[0m\u001b[37m\u001b[0m \u001b[1m5s\u001b[0m 18ms/step - accuracy: 0.9098 - loss: 0.2528 - val_accuracy: 0.8455 - val_loss: 0.3854\n",
            "Epoch 12/20\n",
            "\u001b[1m152/152\u001b[0m \u001b[32m━━━━━━━━━━━━━━━━━━━━\u001b[0m\u001b[37m\u001b[0m \u001b[1m5s\u001b[0m 19ms/step - accuracy: 0.9154 - loss: 0.2283 - val_accuracy: 0.8446 - val_loss: 0.3869\n",
            "Epoch 13/20\n",
            "\u001b[1m152/152\u001b[0m \u001b[32m━━━━━━━━━━━━━━━━━━━━\u001b[0m\u001b[37m\u001b[0m \u001b[1m3s\u001b[0m 17ms/step - accuracy: 0.9163 - loss: 0.2168 - val_accuracy: 0.8471 - val_loss: 0.3787\n",
            "Epoch 13: early stopping\n",
            "Restoring model weights from the end of the best epoch: 10.\n"
          ]
        },
        {
          "output_type": "stream",
          "name": "stderr",
          "text": [
            "[I 2025-02-24 11:09:51,164] Trial 7 finished with value: 0.8471074104309082 and parameters: {'embedding_dim': 64, 'rnn_units': 16, 'dropout_rate': 0.2, 'learning_rate': 0.0005639957231558616, 'batch_size': 64}. Best is trial 7 with value: 0.8471074104309082.\n"
          ]
        },
        {
          "output_type": "stream",
          "name": "stdout",
          "text": [
            "Epoch 1/20\n",
            "\u001b[1m76/76\u001b[0m \u001b[32m━━━━━━━━━━━━━━━━━━━━\u001b[0m\u001b[37m\u001b[0m \u001b[1m12s\u001b[0m 77ms/step - accuracy: 0.5092 - loss: 0.7256 - val_accuracy: 0.7360 - val_loss: 0.6614\n",
            "Epoch 2/20\n",
            "\u001b[1m76/76\u001b[0m \u001b[32m━━━━━━━━━━━━━━━━━━━━\u001b[0m\u001b[37m\u001b[0m \u001b[1m2s\u001b[0m 22ms/step - accuracy: 0.5298 - loss: 0.7023 - val_accuracy: 0.2628 - val_loss: 0.8416\n",
            "Epoch 3/20\n",
            "\u001b[1m76/76\u001b[0m \u001b[32m━━━━━━━━━━━━━━━━━━━━\u001b[0m\u001b[37m\u001b[0m \u001b[1m2s\u001b[0m 22ms/step - accuracy: 0.5945 - loss: 0.6482 - val_accuracy: 0.7579 - val_loss: 0.5235\n",
            "Epoch 4/20\n",
            "\u001b[1m76/76\u001b[0m \u001b[32m━━━━━━━━━━━━━━━━━━━━\u001b[0m\u001b[37m\u001b[0m \u001b[1m2s\u001b[0m 22ms/step - accuracy: 0.7726 - loss: 0.5005 - val_accuracy: 0.7665 - val_loss: 0.5265\n",
            "Epoch 5/20\n",
            "\u001b[1m76/76\u001b[0m \u001b[32m━━━━━━━━━━━━━━━━━━━━\u001b[0m\u001b[37m\u001b[0m \u001b[1m2s\u001b[0m 21ms/step - accuracy: 0.8323 - loss: 0.3967 - val_accuracy: 0.7537 - val_loss: 0.5505\n",
            "Epoch 6/20\n",
            "\u001b[1m76/76\u001b[0m \u001b[32m━━━━━━━━━━━━━━━━━━━━\u001b[0m\u001b[37m\u001b[0m \u001b[1m3s\u001b[0m 21ms/step - accuracy: 0.8411 - loss: 0.3675 - val_accuracy: 0.7533 - val_loss: 0.5964\n",
            "Epoch 6: early stopping\n",
            "Restoring model weights from the end of the best epoch: 3.\n"
          ]
        },
        {
          "output_type": "stream",
          "name": "stderr",
          "text": [
            "[I 2025-02-24 11:10:13,314] Trial 8 finished with value: 0.7533057928085327 and parameters: {'embedding_dim': 128, 'rnn_units': 80, 'dropout_rate': 0.4, 'learning_rate': 0.007598869681425638, 'batch_size': 128}. Best is trial 7 with value: 0.8471074104309082.\n"
          ]
        },
        {
          "output_type": "stream",
          "name": "stdout",
          "text": [
            "Epoch 1/20\n",
            "\u001b[1m303/303\u001b[0m \u001b[32m━━━━━━━━━━━━━━━━━━━━\u001b[0m\u001b[37m\u001b[0m \u001b[1m19s\u001b[0m 37ms/step - accuracy: 0.7529 - loss: 0.5107 - val_accuracy: 0.8331 - val_loss: 0.4072\n",
            "Epoch 2/20\n",
            "\u001b[1m303/303\u001b[0m \u001b[32m━━━━━━━━━━━━━━━━━━━━\u001b[0m\u001b[37m\u001b[0m \u001b[1m12s\u001b[0m 20ms/step - accuracy: 0.8936 - loss: 0.2968 - val_accuracy: 0.8409 - val_loss: 0.3974\n",
            "Epoch 3/20\n",
            "\u001b[1m303/303\u001b[0m \u001b[32m━━━━━━━━━━━━━━━━━━━━\u001b[0m\u001b[37m\u001b[0m \u001b[1m10s\u001b[0m 19ms/step - accuracy: 0.9045 - loss: 0.2622 - val_accuracy: 0.8405 - val_loss: 0.4352\n",
            "Epoch 4/20\n",
            "\u001b[1m303/303\u001b[0m \u001b[32m━━━━━━━━━━━━━━━━━━━━\u001b[0m\u001b[37m\u001b[0m \u001b[1m10s\u001b[0m 20ms/step - accuracy: 0.9130 - loss: 0.2245 - val_accuracy: 0.8331 - val_loss: 0.4509\n",
            "Epoch 5/20\n",
            "\u001b[1m303/303\u001b[0m \u001b[32m━━━━━━━━━━━━━━━━━━━━\u001b[0m\u001b[37m\u001b[0m \u001b[1m10s\u001b[0m 20ms/step - accuracy: 0.9401 - loss: 0.1657 - val_accuracy: 0.8331 - val_loss: 0.4630\n",
            "Epoch 5: early stopping\n",
            "Restoring model weights from the end of the best epoch: 2.\n"
          ]
        },
        {
          "output_type": "stream",
          "name": "stderr",
          "text": [
            "[I 2025-02-24 11:11:14,942] Trial 9 finished with value: 0.8330578804016113 and parameters: {'embedding_dim': 256, 'rnn_units': 16, 'dropout_rate': 0.1, 'learning_rate': 0.006530930932483476, 'batch_size': 32}. Best is trial 7 with value: 0.8471074104309082.\n"
          ]
        },
        {
          "output_type": "stream",
          "name": "stdout",
          "text": [
            "Best trial:\n",
            "  Best Validation Accuracy: 0.8471\n",
            "  Best Hyperparameters:\n",
            "    embedding_dim: 64\n",
            "    rnn_units: 16\n",
            "    dropout_rate: 0.2\n",
            "    learning_rate: 0.0005639957231558616\n",
            "    batch_size: 64\n"
          ]
        }
      ]
    },
    {
      "cell_type": "markdown",
      "source": [
        "# **Training the Final BiRNN Model with Best Hyperparameters and Early Stopping**"
      ],
      "metadata": {
        "id": "Wx4lxhIMlY4w"
      }
    },
    {
      "cell_type": "code",
      "source": [
        "best_params = trial.params\n",
        "\n",
        "final_model = Sequential()\n",
        "final_model.add(Embedding(input_dim=len(tokenizer.word_index) + 1,\n",
        "                          output_dim=best_params['embedding_dim'],\n",
        "                          input_length=maxlen))\n",
        "final_model.add(Bidirectional(SimpleRNN(best_params['rnn_units'],\n",
        "                                        dropout=best_params['dropout_rate'],\n",
        "                                        recurrent_dropout=best_params['dropout_rate'])))\n",
        "final_model.add(Dense(1, activation='sigmoid'))\n",
        "\n",
        "optimizer = tf.keras.optimizers.Adam(learning_rate=best_params['learning_rate'])\n",
        "final_model.compile(optimizer=optimizer, loss='binary_crossentropy', metrics=['accuracy'])\n",
        "\n",
        "early_stop = EarlyStopping(monitor='val_loss', patience=3, restore_best_weights=True, verbose=1)\n",
        "\n",
        "final_history = final_model.fit(X_train_padded, y_train,\n",
        "                                epochs=20,\n",
        "                                batch_size=best_params['batch_size'],\n",
        "                                validation_split=0.2,\n",
        "                                callbacks=[early_stop],\n",
        "                                class_weight=class_weights,\n",
        "                                verbose=1)"
      ],
      "metadata": {
        "colab": {
          "base_uri": "https://localhost:8080/"
        },
        "id": "W2yRziCvdVl1",
        "outputId": "4b343c40-af8b-4cd4-9b23-ca9947a9602e"
      },
      "execution_count": 64,
      "outputs": [
        {
          "output_type": "stream",
          "name": "stdout",
          "text": [
            "Epoch 1/20\n",
            "\u001b[1m152/152\u001b[0m \u001b[32m━━━━━━━━━━━━━━━━━━━━\u001b[0m\u001b[37m\u001b[0m \u001b[1m13s\u001b[0m 41ms/step - accuracy: 0.4701 - loss: 0.7139 - val_accuracy: 0.3169 - val_loss: 0.7130\n",
            "Epoch 2/20\n",
            "\u001b[1m152/152\u001b[0m \u001b[32m━━━━━━━━━━━━━━━━━━━━\u001b[0m\u001b[37m\u001b[0m \u001b[1m4s\u001b[0m 19ms/step - accuracy: 0.5486 - loss: 0.6923 - val_accuracy: 0.6930 - val_loss: 0.6603\n",
            "Epoch 3/20\n",
            "\u001b[1m152/152\u001b[0m \u001b[32m━━━━━━━━━━━━━━━━━━━━\u001b[0m\u001b[37m\u001b[0m \u001b[1m5s\u001b[0m 19ms/step - accuracy: 0.6146 - loss: 0.6725 - val_accuracy: 0.7343 - val_loss: 0.6386\n",
            "Epoch 4/20\n",
            "\u001b[1m152/152\u001b[0m \u001b[32m━━━━━━━━━━━━━━━━━━━━\u001b[0m\u001b[37m\u001b[0m \u001b[1m3s\u001b[0m 21ms/step - accuracy: 0.6787 - loss: 0.6606 - val_accuracy: 0.7554 - val_loss: 0.6132\n",
            "Epoch 5/20\n",
            "\u001b[1m152/152\u001b[0m \u001b[32m━━━━━━━━━━━━━━━━━━━━\u001b[0m\u001b[37m\u001b[0m \u001b[1m5s\u001b[0m 20ms/step - accuracy: 0.7166 - loss: 0.6261 - val_accuracy: 0.7579 - val_loss: 0.5863\n",
            "Epoch 6/20\n",
            "\u001b[1m152/152\u001b[0m \u001b[32m━━━━━━━━━━━━━━━━━━━━\u001b[0m\u001b[37m\u001b[0m \u001b[1m5s\u001b[0m 19ms/step - accuracy: 0.7561 - loss: 0.5710 - val_accuracy: 0.7632 - val_loss: 0.5402\n",
            "Epoch 7/20\n",
            "\u001b[1m152/152\u001b[0m \u001b[32m━━━━━━━━━━━━━━━━━━━━\u001b[0m\u001b[37m\u001b[0m \u001b[1m3s\u001b[0m 18ms/step - accuracy: 0.8111 - loss: 0.5104 - val_accuracy: 0.7636 - val_loss: 0.5044\n",
            "Epoch 8/20\n",
            "\u001b[1m152/152\u001b[0m \u001b[32m━━━━━━━━━━━━━━━━━━━━\u001b[0m\u001b[37m\u001b[0m \u001b[1m3s\u001b[0m 18ms/step - accuracy: 0.8436 - loss: 0.4278 - val_accuracy: 0.7860 - val_loss: 0.4624\n",
            "Epoch 9/20\n",
            "\u001b[1m152/152\u001b[0m \u001b[32m━━━━━━━━━━━━━━━━━━━━\u001b[0m\u001b[37m\u001b[0m \u001b[1m5s\u001b[0m 19ms/step - accuracy: 0.8702 - loss: 0.3524 - val_accuracy: 0.8054 - val_loss: 0.4308\n",
            "Epoch 10/20\n",
            "\u001b[1m152/152\u001b[0m \u001b[32m━━━━━━━━━━━━━━━━━━━━\u001b[0m\u001b[37m\u001b[0m \u001b[1m3s\u001b[0m 18ms/step - accuracy: 0.8973 - loss: 0.3021 - val_accuracy: 0.8140 - val_loss: 0.4168\n",
            "Epoch 11/20\n",
            "\u001b[1m152/152\u001b[0m \u001b[32m━━━━━━━━━━━━━━━━━━━━\u001b[0m\u001b[37m\u001b[0m \u001b[1m5s\u001b[0m 19ms/step - accuracy: 0.9054 - loss: 0.2671 - val_accuracy: 0.8252 - val_loss: 0.4057\n",
            "Epoch 12/20\n",
            "\u001b[1m152/152\u001b[0m \u001b[32m━━━━━━━━━━━━━━━━━━━━\u001b[0m\u001b[37m\u001b[0m \u001b[1m5s\u001b[0m 19ms/step - accuracy: 0.9149 - loss: 0.2405 - val_accuracy: 0.8314 - val_loss: 0.4016\n",
            "Epoch 13/20\n",
            "\u001b[1m152/152\u001b[0m \u001b[32m━━━━━━━━━━━━━━━━━━━━\u001b[0m\u001b[37m\u001b[0m \u001b[1m5s\u001b[0m 19ms/step - accuracy: 0.9221 - loss: 0.2233 - val_accuracy: 0.8326 - val_loss: 0.4084\n",
            "Epoch 14/20\n",
            "\u001b[1m152/152\u001b[0m \u001b[32m━━━━━━━━━━━━━━━━━━━━\u001b[0m\u001b[37m\u001b[0m \u001b[1m5s\u001b[0m 19ms/step - accuracy: 0.9260 - loss: 0.2048 - val_accuracy: 0.8273 - val_loss: 0.4176\n",
            "Epoch 15/20\n",
            "\u001b[1m152/152\u001b[0m \u001b[32m━━━━━━━━━━━━━━━━━━━━\u001b[0m\u001b[37m\u001b[0m \u001b[1m3s\u001b[0m 18ms/step - accuracy: 0.9314 - loss: 0.1881 - val_accuracy: 0.8310 - val_loss: 0.4204\n",
            "Epoch 15: early stopping\n",
            "Restoring model weights from the end of the best epoch: 12.\n"
          ]
        }
      ]
    },
    {
      "cell_type": "markdown",
      "source": [
        "# **Plotting the Training & Validation Results**"
      ],
      "metadata": {
        "id": "zorl9Y8VrZnb"
      }
    },
    {
      "cell_type": "code",
      "source": [
        "# Identifying the best epoch based on validation loss\n",
        "best_epoch = np.argmin(final_history.history['val_loss']) + 1\n",
        "best_epoch_idx = best_epoch - 1\n",
        "\n",
        "# Plotting all training/validation curves\n",
        "plt.figure(figsize=(12, 5))\n",
        "\n",
        "# Accuracy Subplot\n",
        "plt.subplot(1, 2, 1)\n",
        "plt.plot(final_history.history['accuracy'], marker='o', label='Train Accuracy')\n",
        "plt.plot(final_history.history['val_accuracy'], marker='o', label='Validation Accuracy')\n",
        "\n",
        "# Highlighting the best epoch in validation accuracy\n",
        "best_val_acc = final_history.history['val_accuracy'][best_epoch_idx]\n",
        "plt.plot(best_epoch_idx, best_val_acc, 'ro', markersize=10, label='Best Epoch')\n",
        "plt.title('Model Accuracy')\n",
        "plt.xlabel('Epoch')\n",
        "plt.ylabel('Accuracy')\n",
        "plt.legend()\n",
        "plt.grid(True)\n",
        "\n",
        "# Loss Subplot\n",
        "plt.subplot(1, 2, 2)\n",
        "plt.plot(final_history.history['loss'], marker='o', label='Train Loss')\n",
        "plt.plot(final_history.history['val_loss'], marker='o', label='Validation Loss')\n",
        "\n",
        "# Highlighting the best epoch in validation loss\n",
        "best_val_loss = final_history.history['val_loss'][best_epoch_idx]\n",
        "plt.plot(best_epoch_idx, best_val_loss, 'ro', markersize=10, label='Best Epoch')\n",
        "plt.title('Model Loss')\n",
        "plt.xlabel('Epoch')\n",
        "plt.ylabel('Loss')\n",
        "plt.legend()\n",
        "plt.grid(True)\n",
        "plt.show()"
      ],
      "metadata": {
        "colab": {
          "base_uri": "https://localhost:8080/",
          "height": 487
        },
        "id": "EWAjdhHEmVH0",
        "outputId": "30d271dd-d7aa-48d1-e82d-8a9e5da520f1"
      },
      "execution_count": 66,
      "outputs": [
        {
          "output_type": "display_data",
          "data": {
            "text/plain": [
              "<Figure size 1200x500 with 2 Axes>"
            ],
            "image/png": "[encoded data removed]"
          },
          "metadata": {}
        }
      ]
    },
    {
      "cell_type": "markdown",
      "source": [
        "# **Saving the History Using Pickle**"
      ],
      "metadata": {
        "id": "BVXZyj0GrcSS"
      }
    },
    {
      "cell_type": "code",
      "source": [
        "with open('BiRNN_model_history.pkl', 'wb') as f:\n",
        "    pickle.dump(final_history.history, f)"
      ],
      "metadata": {
        "id": "mutilMV6q8d3"
      },
      "execution_count": 67,
      "outputs": []
    },
    {
      "cell_type": "markdown",
      "source": [
        "# **Evaluating the Final Model on the Test Set**"
      ],
      "metadata": {
        "id": "UMHzHBERsVaS"
      }
    },
    {
      "cell_type": "code",
      "source": [
        "test_loss, test_accuracy = final_model.evaluate(X_test_padded, y_test, verbose=1)\n",
        "print(\"Test Accuracy: {:.4f}\".format(test_accuracy))\n",
        "\n",
        "# Predict test labels\n",
        "y_pred_prob = final_model.predict(X_test_padded)\n",
        "y_pred = (y_pred_prob > 0.5).astype(\"int32\")"
      ],
      "metadata": {
        "id": "RSxmolvBsTyp"
      },
      "execution_count": null,
      "outputs": []
    },
    {
      "cell_type": "markdown",
      "source": [
        "# **Plotting Confusion Matrix**"
      ],
      "metadata": {
        "id": "p0Z35erlrvma"
      }
    },
    {
      "cell_type": "code",
      "source": [
        "cm = confusion_matrix(y_test, y_pred)\n",
        "print(\"Classification Report:\")\n",
        "print(classification_report(y_test, y_pred))\n",
        "\n",
        "plt.figure(figsize=(6, 5))\n",
        "sns.heatmap(cm, annot=True, fmt=\"d\", cmap='Blues',\n",
        "            xticklabels=['Predicted Negative', 'Predicted Positive'],\n",
        "            yticklabels=['Actual Negative', 'Actual Positive'])\n",
        "plt.title('Confusion Matrix')\n",
        "plt.ylabel('Actual Label')\n",
        "plt.xlabel('Predicted Label')\n",
        "plt.show()"
      ],
      "metadata": {
        "colab": {
          "base_uri": "https://localhost:8080/",
          "height": 713
        },
        "id": "5k44IO5krhKB",
        "outputId": "66f7cef6-ce8c-4f60-8fac-6ff091adb8d6"
      },
      "execution_count": 68,
      "outputs": [
        {
          "output_type": "stream",
          "name": "stdout",
          "text": [
            "\u001b[1m95/95\u001b[0m \u001b[32m━━━━━━━━━━━━━━━━━━━━\u001b[0m\u001b[37m\u001b[0m \u001b[1m2s\u001b[0m 15ms/step - accuracy: 0.8265 - loss: 0.4164\n",
            "Test Accuracy: 0.8383\n",
            "\u001b[1m95/95\u001b[0m \u001b[32m━━━━━━━━━━━━━━━━━━━━\u001b[0m\u001b[37m\u001b[0m \u001b[1m4s\u001b[0m 23ms/step\n",
            "Classification Report:\n",
            "              precision    recall  f1-score   support\n",
            "\n",
            "           0       0.64      0.80      0.71       756\n",
            "           1       0.93      0.85      0.89      2269\n",
            "\n",
            "    accuracy                           0.84      3025\n",
            "   macro avg       0.78      0.83      0.80      3025\n",
            "weighted avg       0.86      0.84      0.84      3025\n",
            "\n"
          ]
        },
        {
          "output_type": "display_data",
          "data": {
            "text/plain": [
              "<Figure size 600x500 with 2 Axes>"
            ],
            "image/png": "[encoded data removed]"
          },
          "metadata": {}
        }
      ]
    },
    {
      "cell_type": "markdown",
      "source": [
        "# **Explanation of Models Predictions in Terms of Real Objectives**\n",
        "\n",
        "* The model achieved an overall test accuracy of about 84%, which means it correctly classifies 84% of the reviews. This is a decent performance for sentiment analysis.\n",
        "\n",
        "* If our objective is to identify areas for improvement like catching negative reviews for remediation, the high recall (80%) for negatives is beneficial.\n",
        "\n",
        "* For leveraging positive feedback (such as in promotions), the high precision (93%) for positive predictions ensures you can trust the positive sentiment tags most of the time."
      ],
      "metadata": {
        "id": "-LNnTU09sdEg"
      }
    },
    {
      "cell_type": "markdown",
      "source": [
        "# **Model Building: DistilBERT**"
      ],
      "metadata": {
        "id": "du4cQjl6thmh"
      }
    },
    {
      "cell_type": "markdown",
      "source": [
        "# **Applying Train-Test Split & Converting to Hugging Face Datasets**"
      ],
      "metadata": {
        "id": "qMchFEbJuXA4"
      }
    },
    {
      "cell_type": "code",
      "source": [
        "train_df, test_df = train_test_split(df, test_size=0.2, random_state=42, stratify=df['score'])\n",
        "\n",
        "# Converting Pandas DataFrames to Hugging Face Datasets\n",
        "train_dataset = Dataset.from_pandas(train_df)\n",
        "test_dataset = Dataset.from_pandas(test_df)"
      ],
      "metadata": {
        "id": "bEQnOYQ5ruxm"
      },
      "execution_count": 72,
      "outputs": []
    },
    {
      "cell_type": "markdown",
      "source": [
        "# **Performing the Tokenization**"
      ],
      "metadata": {
        "id": "pOr3F_alu0r3"
      }
    },
    {
      "cell_type": "code",
      "source": [
        "# Loading the DistilBERT tokenizer\n",
        "tokenizer = DistilBertTokenizerFast.from_pretrained('distilbert-base-uncased')\n",
        "\n",
        "# Defining a tokenization function\n",
        "def tokenize_function(example):\n",
        "    return tokenizer(example['content'], truncation=True, padding='max_length', max_length=128)\n",
        "\n",
        "# Applying the tokenization to the datasets\n",
        "train_dataset = train_dataset.map(tokenize_function, batched=True)\n",
        "test_dataset = test_dataset.map(tokenize_function, batched=True)\n",
        "\n",
        "# Renaming the label column to \"labels\" because Trainer API expects this\n",
        "train_dataset = train_dataset.rename_column(\"score\", \"labels\")\n",
        "test_dataset = test_dataset.rename_column(\"score\", \"labels\")\n",
        "\n",
        "# Setting the format for PyTorch\n",
        "columns_to_keep = ['input_ids', 'attention_mask', 'labels']\n",
        "train_dataset.set_format(type='torch', columns=columns_to_keep)\n",
        "test_dataset.set_format(type='torch', columns=columns_to_keep)"
      ],
      "metadata": {
        "colab": {
          "base_uri": "https://localhost:8080/",
          "height": 209,
          "referenced_widgets": [
            "dc232a85460a4f168df43bc704a2b77f",
            "c147038d40f6489b8dea1873a38920c1",
            "c052cf6845844c06ab9103733dc0e976",
            "a40000e4cc2541a1a7235dfc39c567f7",
            "ba21c0efba7f4bd784c58ffb2fe55d03",
            "2375c6aa27e0463186f5657d81439e76",
            "92091e0abaf5463fb966ee24b77e3088",
            "9ea8f8b05aa841748753f1a740db9c39",
            "6345f0caf8c74f56bfe73f159471f7cb",
            "348214e7b3f34eab9d18d2bd1237f17f",
            "d35538ee5edf41c1af3487f8b9293c6a",
            "75bc31f50caa488ba25174e48eb586f8",
            "caf5735e229d457abdb973035da04679",
            "e6094fb8110840d7997ed13b6d0515e9",
            "2c0795f6e2a44d8d8f76103cb8d81abf",
            "e59f96e3834b409fb042ba4ccac601fc",
            "c1d3d7f9b9714861ae27da4c4817a63f",
            "d822d3de08e94dcdb86d3341c83dd91f",
            "cc22087d8b7b4e36874d27024db57cb8",
            "87202633601b48a381eb2aa3bc589c75",
            "d7c2dfb8953446f9acdf13c7166954f1",
            "b37c8767ebbd46688518fedb70480f32",
            "0d5eccb74d864aaa94e40f05e51f7bae",
            "ba150c2ad905473389c15225a61aee86",
            "75ce937a8dc0463ab801e4df25a567c8",
            "4b5c913822fc4051bdc83a68ae36635c",
            "5a59091d9e2a4816978669a2baf33735",
            "d11da806e71045798c1dd87d4875a936",
            "ca25f25a5d764d378cf0588f0e31701d",
            "1773a8bcdb1f4a54a09c23a2c929cd54",
            "6f657d23350547909bd3091ed2d41e63",
            "84d311812d7e4cc8a5a6c57ba3e30986",
            "6f261ddc834b4c19984e32093130a5c0",
            "1ac9d3cfec93416280fc28a4d707f914",
            "26294827c08e4d97a6be3370187870b0",
            "089cab6e838f47c4812eb4116b415e84",
            "0f61246a749f47248dacc60b4bc39bf5",
            "3241ece1a5364a63ab967dc338ec048e",
            "6c90bda8ceb9498c816416ff5ab5b585",
            "ad0a31eb28c64eb1a4c707e2b18addb6",
            "6b6744f1f47f4bb09c52e5dbc9963cb7",
            "ce93ba5ccbfc42dea9fe4164ebbf84e3",
            "fdc3f7e7e33e42f48b9177d316c4ad9b",
            "92030936deec4732841876c562fff0fb",
            "80a94056454d43d4b290a8b61f6dd7e7",
            "aaf6a4629d644e7488f4e189b3a59342",
            "9d7a5a0898f94c5c9df70586a3f68c96",
            "2a40203176e54d7c8ed115b6945a2eeb",
            "f6d76534b3154a6ca49d4d8ea049f985",
            "20614cc6722a40a8a9611d8f53463642",
            "6a796a4e5ed644ea89c5124b082e871f",
            "05a5604b472142d089b4ea240301ae28",
            "a1c773c7b237406eb841ae879499f9cc",
            "feb6c6ca50c6471d9c2f39668fd8394d",
            "7bd7e1f8091a469db980d9adad0ee65a",
            "332b843a382d48dfa3e0b2d204acded0",
            "424192544e684598bc4f9cf01483567b",
            "6093f54bd11e47e6ace5620967939997",
            "ea0e14011a574c97b22f4c6cf4ebcf80",
            "6f57e79462f64ba8983c77b1e39c8ba8",
            "b39848dc8eaf4bb1a3d8832f0794bfd8",
            "03c49027d51b496880f09996b71f5118",
            "dc1e0c60440b4afeb99187c420eb80ef",
            "ae12ca64e0ab40229d96623af29d0306",
            "6bbf2d8e6ecb4012b8cc93022fc4c06e",
            "b6f50f0ab3214400bbbc453a8176aa3c"
          ]
        },
        "id": "icBgjg9Rugqq",
        "outputId": "7cfb97ff-6005-4cda-a097-69912b312fcb"
      },
      "execution_count": 73,
      "outputs": [
        {
          "output_type": "display_data",
          "data": {
            "text/plain": [
              "tokenizer_config.json:   0%|          | 0.00/48.0 [00:00<?, ?B/s]"
            ],
            "application/vnd.jupyter.widget-view+json": {
              "version_major": 2,
              "version_minor": 0,
              "model_id": "dc232a85460a4f168df43bc704a2b77f"
            }
          },
          "metadata": {}
        },
        {
          "output_type": "display_data",
          "data": {
            "text/plain": [
              "vocab.txt:   0%|          | 0.00/232k [00:00<?, ?B/s]"
            ],
            "application/vnd.jupyter.widget-view+json": {
              "version_major": 2,
              "version_minor": 0,
              "model_id": "75bc31f50caa488ba25174e48eb586f8"
            }
          },
          "metadata": {}
        },
        {
          "output_type": "display_data",
          "data": {
            "text/plain": [
              "tokenizer.json:   0%|          | 0.00/466k [00:00<?, ?B/s]"
            ],
            "application/vnd.jupyter.widget-view+json": {
              "version_major": 2,
              "version_minor": 0,
              "model_id": "0d5eccb74d864aaa94e40f05e51f7bae"
            }
          },
          "metadata": {}
        },
        {
          "output_type": "display_data",
          "data": {
            "text/plain": [
              "config.json:   0%|          | 0.00/483 [00:00<?, ?B/s]"
            ],
            "application/vnd.jupyter.widget-view+json": {
              "version_major": 2,
              "version_minor": 0,
              "model_id": "1ac9d3cfec93416280fc28a4d707f914"
            }
          },
          "metadata": {}
        },
        {
          "output_type": "display_data",
          "data": {
            "text/plain": [
              "Map:   0%|          | 0/12099 [00:00<?, ? examples/s]"
            ],
            "application/vnd.jupyter.widget-view+json": {
              "version_major": 2,
              "version_minor": 0,
              "model_id": "80a94056454d43d4b290a8b61f6dd7e7"
            }
          },
          "metadata": {}
        },
        {
          "output_type": "display_data",
          "data": {
            "text/plain": [
              "Map:   0%|          | 0/3025 [00:00<?, ? examples/s]"
            ],
            "application/vnd.jupyter.widget-view+json": {
              "version_major": 2,
              "version_minor": 0,
              "model_id": "332b843a382d48dfa3e0b2d204acded0"
            }
          },
          "metadata": {}
        }
      ]
    },
    {
      "cell_type": "markdown",
      "source": [
        "# **Model Setup: DistilBERT for Sequence Classification**"
      ],
      "metadata": {
        "id": "nDc3bJUPvEFm"
      }
    },
    {
      "cell_type": "code",
      "source": [
        "model = DistilBertForSequenceClassification.from_pretrained('distilbert-base-uncased', num_labels=2)"
      ],
      "metadata": {
        "colab": {
          "base_uri": "https://localhost:8080/",
          "height": 104,
          "referenced_widgets": [
            "d7b44ae362d1415aa7db7d300d2209f7",
            "40b9a207446344e8adc588a94651e3cc",
            "22a0a1a26dcb4abcae03aed0d5108de6",
            "b1c76621f4c747e895f2f50cbdd57fc8",
            "d851c6611b9942e0970155441529d349",
            "2e58cfcf9bdd4e5e9a0e644ed57789c1",
            "e548c184256745798da5173b6f6b282f",
            "fa52e67bdcca49608d99360a0a5394f7",
            "b6ab3bfe40274829a0a47c301005f89d",
            "a267d6663ba54106856d9c1a1117087d",
            "5b6d033faba24eaa9c693b37239e33fb"
          ]
        },
        "id": "e2ReS0bLvAMz",
        "outputId": "19028422-c8bf-47e0-cdd8-d64f0544f70e"
      },
      "execution_count": 74,
      "outputs": [
        {
          "output_type": "display_data",
          "data": {
            "text/plain": [
              "model.safetensors:   0%|          | 0.00/268M [00:00<?, ?B/s]"
            ],
            "application/vnd.jupyter.widget-view+json": {
              "version_major": 2,
              "version_minor": 0,
              "model_id": "d7b44ae362d1415aa7db7d300d2209f7"
            }
          },
          "metadata": {}
        },
        {
          "output_type": "stream",
          "name": "stderr",
          "text": [
            "Some weights of DistilBertForSequenceClassification were not initialized from the model checkpoint at distilbert-base-uncased and are newly initialized: ['classifier.bias', 'classifier.weight', 'pre_classifier.bias', 'pre_classifier.weight']\n",
            "You should probably TRAIN this model on a down-stream task to be able to use it for predictions and inference.\n"
          ]
        }
      ]
    },
    {
      "cell_type": "markdown",
      "source": [
        "# **Defining the Metrics for Evaluation**"
      ],
      "metadata": {
        "id": "LyirL4rSvI5-"
      }
    },
    {
      "cell_type": "code",
      "source": [
        "def compute_metrics(eval_pred: EvalPrediction):\n",
        "    logits, labels = eval_pred\n",
        "    predictions = np.argmax(logits, axis=-1)\n",
        "    acc = accuracy_score(labels, predictions)\n",
        "    precision, recall, f1, _ = precision_recall_fscore_support(labels, predictions, average='binary')\n",
        "    return {'accuracy': acc, 'precision': precision, 'recall': recall, 'f1': f1}"
      ],
      "metadata": {
        "id": "--irLWPqvHC7"
      },
      "execution_count": 75,
      "outputs": []
    },
    {
      "cell_type": "markdown",
      "source": [
        "# **Training Arguments and Trainer Setup**"
      ],
      "metadata": {
        "id": "TQzje6G1vQgf"
      }
    },
    {
      "cell_type": "code",
      "source": [
        "training_args = TrainingArguments(\n",
        "    output_dir='./results',\n",
        "    evaluation_strategy='epoch',\n",
        "    save_strategy='epoch',\n",
        "    learning_rate=2e-5,\n",
        "    per_device_train_batch_size=32,\n",
        "    per_device_eval_batch_size=32,\n",
        "    num_train_epochs=5,\n",
        "    weight_decay=0.01,\n",
        "    logging_dir='./logs',\n",
        "    logging_steps=50,\n",
        "    load_best_model_at_end=True,\n",
        "    metric_for_best_model='accuracy',\n",
        "    report_to=[]\n",
        "    )\n",
        "\n",
        "\n",
        "trainer = Trainer(\n",
        "    model=model,\n",
        "    args=training_args,\n",
        "    train_dataset=train_dataset,\n",
        "    eval_dataset=test_dataset,\n",
        "    tokenizer=tokenizer,\n",
        "    compute_metrics=compute_metrics,\n",
        "    callbacks=[EarlyStoppingCallback(early_stopping_patience=2)]\n",
        "    )"
      ],
      "metadata": {
        "id": "ALOHiNWBvMW6"
      },
      "execution_count": 97,
      "outputs": []
    },
    {
      "cell_type": "markdown",
      "source": [
        "# **Training the Model**"
      ],
      "metadata": {
        "id": "FAPnJtV5vqwR"
      }
    },
    {
      "cell_type": "code",
      "source": [
        "trainer.train()"
      ],
      "metadata": {
        "colab": {
          "base_uri": "https://localhost:8080/",
          "height": 204
        },
        "id": "lElOKsBDvVLK",
        "outputId": "a1178209-de60-4fc7-c0cd-9dc5d06c5152"
      },
      "execution_count": 98,
      "outputs": [
        {
          "output_type": "display_data",
          "data": {
            "text/plain": [
              "<IPython.core.display.HTML object>"
            ],
            "text/html": [
              "\n",
              "    <div>\n",
              "      \n",
              "      <progress value='1137' max='1895' style='width:300px; height:20px; vertical-align: middle;'></progress>\n",
              "      [1137/1895 07:40 < 05:07, 2.46 it/s, Epoch 3/5]\n",
              "    </div>\n",
              "    <table border=\"1\" class=\"dataframe\">\n",
              "  <thead>\n",
              " <tr style=\"text-align: left;\">\n",
              "      <th>Epoch</th>\n",
              "      <th>Training Loss</th>\n",
              "      <th>Validation Loss</th>\n",
              "      <th>Accuracy</th>\n",
              "      <th>Precision</th>\n",
              "      <th>Recall</th>\n",
              "      <th>F1</th>\n",
              "    </tr>\n",
              "  </thead>\n",
              "  <tbody>\n",
              "    <tr>\n",
              "      <td>1</td>\n",
              "      <td>0.062400</td>\n",
              "      <td>0.465430</td>\n",
              "      <td>0.898512</td>\n",
              "      <td>0.939046</td>\n",
              "      <td>0.926362</td>\n",
              "      <td>0.932661</td>\n",
              "    </tr>\n",
              "    <tr>\n",
              "      <td>2</td>\n",
              "      <td>0.074700</td>\n",
              "      <td>0.485170</td>\n",
              "      <td>0.898512</td>\n",
              "      <td>0.940603</td>\n",
              "      <td>0.924619</td>\n",
              "      <td>0.932542</td>\n",
              "    </tr>\n",
              "    <tr>\n",
              "      <td>3</td>\n",
              "      <td>0.055400</td>\n",
              "      <td>0.556817</td>\n",
              "      <td>0.893884</td>\n",
              "      <td>0.936726</td>\n",
              "      <td>0.922440</td>\n",
              "      <td>0.929528</td>\n",
              "    </tr>\n",
              "  </tbody>\n",
              "</table><p>"
            ]
          },
          "metadata": {}
        },
        {
          "output_type": "execute_result",
          "data": {
            "text/plain": [
              "TrainOutput(global_step=1137, training_loss=0.06249503829338725, metrics={'train_runtime': 460.9742, 'train_samples_per_second': 131.233, 'train_steps_per_second': 4.111, 'total_flos': 1202042292254208.0, 'train_loss': 0.06249503829338725, 'epoch': 3.0})"
            ]
          },
          "metadata": {},
          "execution_count": 98
        }
      ]
    },
    {
      "cell_type": "markdown",
      "source": [
        "# **Evaluating on the Test Set**"
      ],
      "metadata": {
        "id": "z0OEtL2wwxCN"
      }
    },
    {
      "cell_type": "code",
      "source": [
        "eval_metrics = trainer.evaluate()\n",
        "print(\"Evaluation Metrics:\", eval_metrics)"
      ],
      "metadata": {
        "colab": {
          "base_uri": "https://localhost:8080/",
          "height": 74
        },
        "id": "QlGmYIgIvp2V",
        "outputId": "62b847f0-b656-41e9-a09d-959ea7515da6"
      },
      "execution_count": 99,
      "outputs": [
        {
          "output_type": "display_data",
          "data": {
            "text/plain": [
              "<IPython.core.display.HTML object>"
            ],
            "text/html": [
              "\n",
              "    <div>\n",
              "      \n",
              "      <progress value='95' max='95' style='width:300px; height:20px; vertical-align: middle;'></progress>\n",
              "      [95/95 00:09]\n",
              "    </div>\n",
              "    "
            ]
          },
          "metadata": {}
        },
        {
          "output_type": "stream",
          "name": "stdout",
          "text": [
            "Evaluation Metrics: {'eval_loss': 0.4654304087162018, 'eval_accuracy': 0.8985123966942149, 'eval_precision': 0.9390459363957597, 'eval_recall': 0.9263616557734204, 'eval_f1': 0.9326606711998245, 'eval_runtime': 9.7302, 'eval_samples_per_second': 310.889, 'eval_steps_per_second': 9.763, 'epoch': 3.0}\n"
          ]
        }
      ]
    },
    {
      "cell_type": "markdown",
      "source": [
        "# **Saving the DistilBERT History**"
      ],
      "metadata": {
        "id": "zxwyQcm01cTY"
      }
    },
    {
      "cell_type": "code",
      "source": [
        "# Filter the log history to extract only evaluation logs that include eval_loss, eval_accuracy, and epoch\n",
        "eval_logs = [log for log in trainer.state.log_history\n",
        "             if 'eval_loss' in log and 'eval_accuracy' in log and 'epoch' in log]\n",
        "\n",
        "# Save the filtered evaluation metrics to a JSON file\n",
        "with open(\"eval_metrics.json\", \"w\") as f:\n",
        "    json.dump(eval_logs, f, indent=4)"
      ],
      "metadata": {
        "id": "3i4REQ761aFJ"
      },
      "execution_count": 100,
      "outputs": []
    },
    {
      "cell_type": "markdown",
      "source": [
        "# **Plotting the Evaluation Metrics with the Best Epoch**"
      ],
      "metadata": {
        "id": "-HUg87Qm8b5J"
      }
    },
    {
      "cell_type": "code",
      "source": [
        "# We'll filter out the evaluation logs (which have 'eval_loss' and 'eval_accuracy')\n",
        "log_history = trainer.state.log_history\n",
        "eval_logs = [log for log in log_history if 'eval_loss' in log and 'epoch' in log]\n",
        "# Sorting the logs by epoch\n",
        "eval_logs = sorted(eval_logs, key=lambda x: x['epoch'])\n",
        "\n",
        "# Extracting the epochs, evaluation loss, and evaluation accuracy.\n",
        "epochs = [log['epoch'] for log in eval_logs]\n",
        "eval_loss = [log['eval_loss'] for log in eval_logs]\n",
        "eval_accuracy = [log['eval_accuracy'] for log in eval_logs]\n",
        "\n",
        "# Determining the best epoch based on evaluation accuracy\n",
        "best_idx = np.argmax(eval_accuracy)\n",
        "best_epoch = epochs[best_idx]\n",
        "\n",
        "\n",
        "plt.figure(figsize=(12, 5))\n",
        "\n",
        "# Validation Accuracy Plot\n",
        "plt.subplot(1, 2, 1)\n",
        "plt.plot(epochs, eval_accuracy, marker='o', label='Validation Accuracy', color='blue')\n",
        "plt.scatter([best_epoch], [eval_accuracy[best_idx]], color='red', s=100, label='Best Epoch')\n",
        "plt.title('Validation Accuracy per Epoch')\n",
        "plt.xlabel('Epoch')\n",
        "plt.ylabel('Accuracy')\n",
        "plt.legend()\n",
        "plt.grid(True)\n",
        "\n",
        "# Validation Loss Plot\n",
        "plt.subplot(1, 2, 2)\n",
        "plt.plot(epochs, eval_loss, marker='o', label='Validation Loss', color='blue')\n",
        "plt.scatter([best_epoch], [eval_loss[best_idx]], color='red', s=100, label='Best Epoch')\n",
        "plt.title('Validation Loss per Epoch')\n",
        "plt.xlabel('Epoch')\n",
        "plt.ylabel('Loss')\n",
        "plt.legend()\n",
        "plt.grid(True)\n",
        "\n",
        "plt.show()"
      ],
      "metadata": {
        "colab": {
          "base_uri": "https://localhost:8080/",
          "height": 487
        },
        "id": "8W6qmWgaypBf",
        "outputId": "ad87b49f-4cbd-4108-e0e9-21b50fe7b218"
      },
      "execution_count": 102,
      "outputs": [
        {
          "output_type": "display_data",
          "data": {
            "text/plain": [
              "<Figure size 1200x500 with 2 Axes>"
            ],
            "image/png": "[encoded data removed]"
          },
          "metadata": {}
        }
      ]
    },
    {
      "cell_type": "markdown",
      "source": [
        "# **Generating the Confusion Matrix and Classification Report**"
      ],
      "metadata": {
        "id": "jioa34g28QyJ"
      }
    },
    {
      "cell_type": "code",
      "source": [
        "# Using the trained trainer to predict on the test dataset\n",
        "predictions_output = trainer.predict(test_dataset)\n",
        "predictions = np.argmax(predictions_output.predictions, axis=1)\n",
        "true_labels = predictions_output.label_ids\n",
        "\n",
        "# Computing the confusion matrix and classification report\n",
        "cm = confusion_matrix(true_labels, predictions)\n",
        "print(\"Classification Report:\")\n",
        "print(classification_report(true_labels, predictions))\n",
        "\n",
        "# Plotting the confusion matrix\n",
        "plt.figure(figsize=(6, 5))\n",
        "sns.heatmap(cm, annot=True, fmt=\"d\", cmap='Blues',\n",
        "            xticklabels=['Predicted Negative', 'Predicted Positive'],\n",
        "            yticklabels=['Actual Negative', 'Actual Positive'])\n",
        "plt.title('Confusion Matrix')\n",
        "plt.ylabel('Actual Label')\n",
        "plt.xlabel('Predicted Label')\n",
        "plt.show()"
      ],
      "metadata": {
        "colab": {
          "base_uri": "https://localhost:8080/",
          "height": 661
        },
        "id": "0WcOMp2pyrkX",
        "outputId": "3748bee5-d246-4f99-fb5b-18c9da968f4a"
      },
      "execution_count": 103,
      "outputs": [
        {
          "output_type": "display_data",
          "data": {
            "text/plain": [
              "<IPython.core.display.HTML object>"
            ],
            "text/html": []
          },
          "metadata": {}
        },
        {
          "output_type": "stream",
          "name": "stdout",
          "text": [
            "Classification Report:\n",
            "              precision    recall  f1-score   support\n",
            "\n",
            "           0       0.78      0.81      0.79       730\n",
            "           1       0.94      0.93      0.93      2295\n",
            "\n",
            "    accuracy                           0.90      3025\n",
            "   macro avg       0.86      0.87      0.86      3025\n",
            "weighted avg       0.90      0.90      0.90      3025\n",
            "\n"
          ]
        },
        {
          "output_type": "display_data",
          "data": {
            "text/plain": [
              "<Figure size 600x500 with 2 Axes>"
            ],
            "image/png": "[encoded data removed]"
          },
          "metadata": {}
        }
      ]
    },
    {
      "cell_type": "markdown",
      "source": [
        "# **Explanation of Models Predictions in Terms of Real Objectives**\n",
        "\n",
        "* The model correctly classifies 90% of the reviews, meaning it's generally reliable in distinguishing between negative and positive feedback.\n",
        "\n",
        "* The transformer model performs well in a practical setting—effectively flagging negative reviews for prompt attention while reliably confirming positive reviews. This balance is crucial for real-world sentiment analysis where both capturing user issues and leveraging positive feedback are key objectives."
      ],
      "metadata": {
        "id": "wxrs_K8eB-WR"
      }
    },
    {
      "cell_type": "markdown",
      "source": [
        "# **All 3 Models Performance Comparison**"
      ],
      "metadata": {
        "id": "keLC8ILdA-R2"
      }
    },
    {
      "cell_type": "code",
      "source": [
        "# Loading the BiLSTM history\n",
        "with open('/content/BiLSTM_model_history.pkl', 'rb') as f:\n",
        "    bilstm_history = pickle.load(f)\n",
        "\n",
        "# Loading the BiRNN history\n",
        "with open('/content/BiRNN_model_history.pkl', 'rb') as f:\n",
        "    birnn_history = pickle.load(f)\n",
        "\n",
        "# Loading the transformer evaluation logs\n",
        "with open('/content/eval_metrics.json', 'r') as f:\n",
        "    transformer_logs = json.load(f)\n",
        "\n",
        "# Filtering the logs to ensure they have the necessary keys\n",
        "transformer_logs = [log for log in transformer_logs if 'eval_loss' in log and 'eval_accuracy' in log and 'epoch' in log]\n",
        "# Sort by epoch\n",
        "transformer_logs = sorted(transformer_logs, key=lambda x: x['epoch'])\n",
        "\n",
        "# For BiLSTM and BiRNN, create epoch arrays\n",
        "bilstm_val_acc = bilstm_history['val_accuracy']\n",
        "bilstm_val_loss = bilstm_history['val_loss']\n",
        "epochs_bilstm = np.arange(1, len(bilstm_val_acc) + 1)\n",
        "\n",
        "birnn_val_acc = birnn_history['val_accuracy']\n",
        "birnn_val_loss = birnn_history['val_loss']\n",
        "epochs_birnn = np.arange(1, len(birnn_val_acc) + 1)\n",
        "\n",
        "# For Transformer, extract epochs, accuracy and loss from logs.\n",
        "transformer_epochs = [log['epoch'] for log in transformer_logs]\n",
        "transformer_val_acc = [log['eval_accuracy'] for log in transformer_logs]\n",
        "transformer_val_loss = [log['eval_loss'] for log in transformer_logs]\n",
        "\n",
        "# 3. Defining the Best Epochs as per the Previous Plots\n",
        "bilstm_best_epoch = 1 + 1\n",
        "birnn_best_epoch   = 11 + 1\n",
        "transformer_best_epoch = 1\n",
        "\n",
        "# Getting the best metrics for highlighting:\n",
        "bilstm_best_acc = bilstm_val_acc[bilstm_best_epoch - 1]\n",
        "bilstm_best_loss = bilstm_val_loss[bilstm_best_epoch - 1]\n",
        "\n",
        "birnn_best_acc = birnn_val_acc[birnn_best_epoch - 1]\n",
        "birnn_best_loss = birnn_val_loss[birnn_best_epoch - 1]\n",
        "\n",
        "# For transformer, finding the log corresponding to the best epoch\n",
        "transformer_best_acc = next(log['eval_accuracy'] for log in transformer_logs if log['epoch'] == transformer_best_epoch)\n",
        "transformer_best_loss = next(log['eval_loss'] for log in transformer_logs if log['epoch'] == transformer_best_epoch)\n",
        "\n",
        "\n",
        "plt.figure(figsize=(14, 6))\n",
        "\n",
        "# Plotting the Validation Accuracy\n",
        "plt.subplot(1, 2, 1)\n",
        "plt.plot(epochs_bilstm, bilstm_val_acc, marker='o', label='BiLSTM', color='blue')\n",
        "plt.plot(epochs_birnn, birnn_val_acc, marker='o', label='BiRNN', color='green')\n",
        "plt.plot(transformer_epochs, transformer_val_acc, marker='o', label='Transformer', color='orange')\n",
        "\n",
        "# Highlighting the best epochs with a larger red marker\n",
        "plt.scatter(bilstm_best_epoch, bilstm_best_acc, color='red', s=100, zorder=5, label='Best (BiLSTM)')\n",
        "plt.scatter(birnn_best_epoch, birnn_best_acc, color='red', s=100, zorder=5, label='Best (BiRNN)')\n",
        "plt.scatter(transformer_best_epoch, transformer_best_acc, color='red', s=100, zorder=5, label='Best (Transformer)')\n",
        "\n",
        "plt.title('Validation Accuracy Comparison')\n",
        "plt.xlabel('Epoch')\n",
        "plt.ylabel('Accuracy')\n",
        "plt.legend(loc='lower right')\n",
        "plt.grid(True)\n",
        "\n",
        "# Plotting the Validation Loss\n",
        "plt.subplot(1, 2, 2)\n",
        "plt.plot(epochs_bilstm, bilstm_val_loss, marker='o', label='BiLSTM', color='blue')\n",
        "plt.plot(epochs_birnn, birnn_val_loss, marker='o', label='BiRNN', color='green')\n",
        "plt.plot(transformer_epochs, transformer_val_loss, marker='o', label='Transformer', color='orange')\n",
        "\n",
        "# Highlighting the best epochs with a larger red marker\n",
        "plt.scatter(bilstm_best_epoch, bilstm_best_loss, color='red', s=100, zorder=5, label='Best (BiLSTM)')\n",
        "plt.scatter(birnn_best_epoch, birnn_best_loss, color='red', s=100, zorder=5, label='Best (BiRNN)')\n",
        "plt.scatter(transformer_best_epoch, transformer_best_loss, color='red', s=100, zorder=5, label='Best (Transformer)')\n",
        "\n",
        "plt.title('Validation Loss Comparison')\n",
        "plt.xlabel('Epoch')\n",
        "plt.ylabel('Loss')\n",
        "plt.legend(loc='upper right')\n",
        "plt.grid(True)\n",
        "\n",
        "plt.tight_layout()\n",
        "plt.show()"
      ],
      "metadata": {
        "colab": {
          "base_uri": "https://localhost:8080/",
          "height": 607
        },
        "id": "AK__lPjG-Np0",
        "outputId": "30463f9b-056b-4339-d63e-51ff215ca326"
      },
      "execution_count": 24,
      "outputs": [
        {
          "output_type": "display_data",
          "data": {
            "text/plain": [
              "<Figure size 1400x600 with 2 Axes>"
            ],
            "image/png": "[encoded data removed]"
          },
          "metadata": {}
        }
      ]
    },
    {
      "cell_type": "markdown",
      "source": [
        "# **Conclusion**\n",
        "\n",
        "* While all three models are competent, the transformer-based DistilBERT model outperforms the RNN-based models in overall accuracy and balance between classes. Its strong performance in both precision and recall makes it the best choice when aiming for reliable sentiment classification, despite the potentially higher computational cost."
      ],
      "metadata": {
        "id": "JLdOXpB1DA1p"
      }
    }
  ]
}